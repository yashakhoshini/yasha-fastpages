{
 "cells": [
  {
   "cell_type": "markdown",
   "metadata": {},
   "source": [
    "# Night Of The Museum\n",
    "> My experience at night of the museum\n",
    "\n",
    "- toc: true \n",
    "- badges: true\n",
    "- comments: true\n",
    "- categories: [NOTM, ]"
   ]
  },
  {
   "cell_type": "markdown",
   "metadata": {},
   "source": [
    "## My Experiences\n",
    "\n",
    "Overall my time spent during night at the museum was productive because I got to see what other groups presented for their finals. A lot of them were creative and unique which gave me a different perspective on our own project. I also asked people, specifically DevOps people, questions about what they did differently to help their project. I also socialzed with some of my friends from the other computer science teacher's class. Overall it was a great experience and I was suprised to see so many parents and guests in the room walking around looking at our work also.\n",
    "\n",
    "As for my own group, I felt I fulfilled my role to the best of my ability. I got everything done that the DevOps needed to do. Next trimester would be better if I was more interactive on our project and constantly committing important changes. The hardest concept for me to learn was deployment but with the help of visuals I understood and learned more about it.\n",
    "\n",
    "I am excited for next trimester in Mr. Mortenson's class as I hope to learn as much as possible and use that knowledge to help me in the future."
   ]
  }
 ],
 "metadata": {
  "kernelspec": {
   "display_name": "Python 3.9.12 ('base')",
   "language": "python",
   "name": "python3"
  },
  "language_info": {
   "name": "python",
   "version": "3.9.12"
  },
  "orig_nbformat": 4,
  "vscode": {
   "interpreter": {
    "hash": "f4522448fa03726c480e11d9815ce2c412646a9816150097c8daa961a4b73c1a"
   }
  }
 },
 "nbformat": 4,
 "nbformat_minor": 2
}
