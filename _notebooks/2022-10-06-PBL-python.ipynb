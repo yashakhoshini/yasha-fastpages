{
 "cells": [
  {
   "cell_type": "markdown",
   "metadata": {},
   "source": [
    "# Application Programming Interface (API)\n",
    "> APIs can be found all over the internet.  A great consolidator of many APIs is <mark>RapidAPI</mark>.  In this blog we will use a site to consolidates API stats.  Learning a few lines of code and you can start extracting lots of data from the internet via APIs.  \n",
    "- title: Python RapidAPI\n",
    "- toc: true\n",
    "- image: /images/rapidapi.png\n",
    "- permalink: /techtalk/rapidapi\n",
    "- categories: [1.A, 5.B, 5.D]\n",
    "- tags: [api, rapidapi]\n",
    "- type: pbl\n",
    "- week: 7"
   ]
  },
  {
   "cell_type": "markdown",
   "metadata": {},
   "source": [
    "### Python, RapidAPI Terms\n",
    "> APIs and tooling like Jupyter docs allows many opportunities in fields like Data Science.  As more and more developers use APIs, they build standards in how you setup a client, send requests and receive information..."
   ]
  },
  {
   "cell_type": "markdown",
   "metadata": {},
   "source": [
    "### Covid19 RapidAPI Example\n",
    "> To begin the API journey.  You need to find an API provider.  \n",
    "\n",
    "- RapidAPI is a great option.  You must setup and account, but there are many free options.\n",
    "- Goto this page for starters, the [Corona virus World and India data](https://rapidapi.com/spamakashrajtech/api/corona-virus-world-and-india-data/)\n",
    "- Under Code Snippets pick Python - Requests\n",
    "\n",
    "RapidAPI, you will select Python Requests type of code to work with you Notebook.\n",
    "- The url is the endpoint to which the API is directed\n",
    "- The headers is a dictionary data structure to send special messaging to the endpoint \n",
    "- The requests.request() python function is used to send a request and retrieve their responses\n",
    "- The response variable receives result of of the request in JSON text\n",
    "\n",
    "Next step, is to format the response according to your data science needs"
   ]
  },
  {
   "cell_type": "code",
   "execution_count": 11,
   "metadata": {},
   "outputs": [
    {
     "name": "stdout",
     "output_type": "stream",
     "text": [
      "World Totals\n",
      "total_cases 509,268,964\n",
      "new_cases 204,268\n",
      "total_deaths 6,242,509\n",
      "new_deaths 630\n",
      "total_recovered 461,827,849\n",
      "active_cases 41,198,606\n",
      "serious_critical 42,510\n",
      "total_cases_per_1m_population 65,334\n",
      "deaths_per_1m_population 800.9\n",
      "statistic_taken_at 2022-04-24 11:18:01\n",
      "\n",
      "Country Totals\n",
      "country_name USA\n",
      "cases 82,649,779\n",
      "deaths 1,018,316\n",
      "region \n",
      "total_recovered 80,434,925\n",
      "new_deaths 0\n",
      "new_cases 0\n",
      "serious_critical 1,465\n",
      "active_cases 1,196,538\n",
      "total_cases_per_1m_population 247,080\n",
      "deaths_per_1m_population 3,044\n",
      "total_tests 1,000,275,726\n",
      "tests_per_1m_population 2,990,303\n"
     ]
    }
   ],
   "source": [
    "\"\"\"\n",
    "Requests is a HTTP library for the Python programming language. \n",
    "The goal of the project is to make HTTP requests simpler and more human-friendly. \n",
    "\"\"\"\n",
    "import requests\n",
    "\n",
    "\"\"\"\n",
    "RapidAPI is the world's largest API Marketplace. \n",
    "Developers use Rapid API to discover and connect to thousands of APIs. \n",
    "\"\"\"\n",
    "url = \"https://corona-virus-world-and-india-data.p.rapidapi.com/api\"\n",
    "headers = {\n",
    "    'x-rapidapi-key': \"dec069b877msh0d9d0827664078cp1a18fajsn2afac35ae063\",\n",
    "    'x-rapidapi-host': \"corona-virus-world-and-india-data.p.rapidapi.com\"\n",
    "}\n",
    "\n",
    "# Request Covid Data\n",
    "response = requests.request(\"GET\", url, headers=headers)\n",
    "# print(response.text)  # uncomment this line to see raw data\n",
    "\n",
    "\n",
    "# print(response.json[])\n",
    "\n",
    "\n",
    "# This code looks for \"world data\"\n",
    "print(\"World Totals\")\n",
    "world = response.json().get('world_total')  # turn response to json() so we can extract \"world_total\"\n",
    "for key, value in world.items():  # this finds key, value pairs in country\n",
    "    print(key, value)\n",
    "\n",
    "print()\n",
    "\n",
    "# This code looks for USA in \"countries_stats\"\n",
    "print(\"Country Totals\")\n",
    "countries = response.json().get('countries_stat')\n",
    "for country in countries:  # countries is a list\n",
    "    if country[\"country_name\"] == \"USA\":  # this filters for USA\n",
    "        for key, value in country.items():  # this finds key, value pairs in country\n",
    "            print(key, value)\n"
   ]
  },
  {
   "cell_type": "markdown",
   "metadata": {},
   "source": [
    "### Digital Coin Example\n",
    "> This example provides digital coin feedback (ie Bitcoin).  It include popularity, price, symbols, etc.\n",
    "- A valid X-RapidAPI-Key is required.  Look in code for link to RapidAPI page\n",
    "- Read all comments in code for further guidance"
   ]
  },
  {
   "cell_type": "code",
   "execution_count": 4,
   "metadata": {},
   "outputs": [
    {
     "name": "stdout",
     "output_type": "stream",
     "text": [
      "BTC Bitcoin 19468.28634493057\n",
      "ETH Ethereum 1324.8239350607337\n",
      "USDT Tether USD 1.0006827303549273\n",
      "USDC USDC 1.0002798064520788\n",
      "BNB Binance Coin 278.453564839425\n",
      "XRP XRP 0.5346615915847356\n",
      "BUSD Binance USD 1.0007389451923434\n",
      "ADA Cardano 0.4238046885950878\n",
      "SOL Solana 33.059983304299614\n",
      "DOGE Dogecoin 0.06226991319650085\n",
      "DOT Polkadot 6.460873598218451\n",
      "MATIC Polygon 0.8323118182957143\n",
      "SHIB Shiba Inu 0.000011033807422982\n",
      "DAI Dai 1.0000344599182724\n",
      "TRX TRON 0.06385336914258007\n",
      "WETH Wrapped Ether 1319.544277857444\n",
      "UNI Uniswap 6.56133564695078\n",
      "AVAX Avalanche 17.01391552077323\n",
      "CAKE PancakeSwap 4.588384941374258\n",
      "ATOM Cosmos 13.19470285280712\n",
      "OKB OKB 15.629575479691729\n",
      "LTC Litecoin 54.24837407777245\n",
      "FTT FTX Token 24.149273299619992\n",
      "ETC Ethereum Classic 27.046540909173117\n",
      "XMR Monero 145.49491866947685\n",
      "XLM Stellar 0.12791400358299593\n",
      "ALGO Algorand 0.3363480735436051\n",
      "BCH Bitcoin Cash 117.6368488011856\n",
      "BTCB Bitcoin BEP2 19459.94559421814\n",
      "CRO Cronos 0.10801599272993674\n",
      "NEAR NEAR Protocol 3.521530692396976\n",
      "LUNC Terra Classic 0.000300100934329925\n",
      "ENS EnergySwap 17.904044502859836\n",
      "WEMIX WEMIX TOKEN 1.777425448394786\n",
      "FLOW Flow 1.7045296670751668\n",
      "FIL Filecoin 5.437189801151558\n",
      "VET VeChain 0.02340419189659723\n",
      "ICP Internet Computer (DFINITY) 5.821205097188023\n",
      "MANA Decentraland 0.6950642377917485\n",
      "QNT Quant 153.52052550868004\n",
      "IMX Immutable X 0.7350582380594567\n",
      "HBAR Hedera 0.06001197625745847\n",
      "FRAX Frax 0.9994682895984994\n",
      "EGLD Elrond 56.492683806968245\n",
      "XTZ Tezos 1.4297831232398002\n",
      "CHZ Chiliz 0.2158837025152842\n",
      "SAND The Sandbox 0.8353822340699845\n",
      "LDO Lido DAO Token 1.454182428883087\n",
      "EOS EOS 1.127982546846249\n",
      "AAVE Aave 75.81367056307107\n"
     ]
    }
   ],
   "source": [
    "# Request Digital Coin\n",
    "# RapidAPI page https://rapidapi.com/Coinranking/api/coinranking1/\n",
    "\n",
    "# Begin Rapid API Code\n",
    "import requests\n",
    "\n",
    "url = \"https://coinranking1.p.rapidapi.com/coins\"\n",
    "querystring = {\"referenceCurrencyUuid\":\"yhjMzLPhuIDl\",\"timePeriod\":\"24h\",\"tiers[0]\":\"1\",\"orderBy\":\"marketCap\",\"orderDirection\":\"desc\",\"limit\":\"50\",\"offset\":\"0\"}\n",
    "headers = {\n",
    "\t\"X-RapidAPI-Key\": \"703210b827msh18ebf505c5fabaep1efeabjsn249dcd49ab14\",  # place your key here\n",
    "\t\"X-RapidAPI-Host\": \"coinranking1.p.rapidapi.com\"\n",
    "}\n",
    "\n",
    "response = requests.request(\"GET\", url, headers=headers, params=querystring)\n",
    "# End Rapid API Code\n",
    "json = response.json()  # convert response to python json object\n",
    "\n",
    "# Observe data from an API.  This is how data transports over the internet in a \"JSON\" text form\n",
    "# - The JSON \"text\" is formed in dictionary {} and list [] divisions\n",
    "# - To read the result, Data Scientist of  Developer converts JSON into human readable form\n",
    "# - Review the first line, look for the keys --  \"status\" and \"data\"\n",
    "\n",
    "for coin in json[\"data\"][\"coins\"]:\n",
    "\tprint (f'{coin[\"symbol\"]} {coin[\"name\"]} {coin[\"price\"]}')"
   ]
  },
  {
   "cell_type": "markdown",
   "metadata": {},
   "source": [
    "### Formatting Digital Coin example\n",
    "> JSON text transferred from the API in the previous cell was converted to a Python Dictionary called json.  The \"coins\" in the dictionary contain a list of the most relevant data.   Look at the code and comments to see how the original text is turned into something understandable.   Additionally, there are error check to make sure we are starting the code with the expectation that the API was run correctly. "
   ]
  },
  {
   "cell_type": "code",
   "execution_count": 3,
   "metadata": {},
   "outputs": [
    {
     "name": "stdout",
     "output_type": "stream",
     "text": [
      "JSON data is Python type: <class 'dict'>\n",
      "Did you insert a valid key in X-RapidAPI-Key of API cell above?\n",
      "{'message': 'You are not subscribed to this API.'}\n"
     ]
    }
   ],
   "source": [
    "\"\"\"\n",
    "This cell is dependent on valid run of API above.\n",
    "- try and except code is making sure \"json\" was properly run above\n",
    "- inside second try is code that is used to process Coin API data\n",
    "\n",
    "Note.  Run this cell repeatedly to format data without re-activating API\n",
    "\"\"\"\n",
    "\n",
    "try:\n",
    "    print(\"JSON data is Python type: \" + str(type(json)))\n",
    "    try:\n",
    "        # Extracting Coins JSON status, if the API worked\n",
    "        status = json.get('status')\n",
    "        print(\"API status: \" + status)\n",
    "        print()\n",
    "        \n",
    "        # Extracting Coins JSON data, data about the coins\n",
    "        data = json.get('data')\n",
    "        \n",
    "        # Procedural abstraction of Print code for coins\n",
    "        def print_coin(c):\n",
    "            print(c[\"symbol\"], c[\"price\"])\n",
    "            print(\"Icon Url: \" + c[\"iconUrl\"])\n",
    "            print(\"Rank Url: \" + c[\"coinrankingUrl\"])\n",
    "\n",
    "        # Coins data was observed to be a list\n",
    "        for coin in data['coins']:\n",
    "            print_coin(coin)\n",
    "            print()\n",
    "            \n",
    "    except:\n",
    "        print(\"Did you insert a valid key in X-RapidAPI-Key of API cell above?\")\n",
    "        print(json)\n",
    "except:\n",
    "    print(\"This cell is dependent on running API call in cell above!\")\n"
   ]
  },
  {
   "cell_type": "markdown",
   "metadata": {},
   "source": [
    "### Go deeper into APIs\n",
    "> Web Development vs Jupyter Notebook.  A notebook is certainly a great place to start.  But, for your end of Trimester project we want you to build the skill to reference and use APIs within your Project.  Here are some resources to get you started with this journey.\n",
    "\n",
    "- In the Nighthawk Coders APCSP you can find an Overview and Examples using APIs:  [APCSP APIs menu](https://nighthawkcoders.github.io/APCSP/api/overview)\n",
    "- Using Covid RapidAPI\n",
    "    - JavaScript frontend API code in APCSP Fastpages GitHub repo: [https://github.com/nighthawkcoders/APCSP/blob/master/_posts/2022-07-10-PBL-rapidapi.md](https://github.com/nighthawkcoders/APCSP/blob/master/_posts/2022-07-10-PBL-rapidapi.md)\n",
    "- Making a Jokes API (this will next API tech talk)\n",
    "    - Frontend. JavaScript frontend code in APCSP fastpages GitHub repo: [https://github.com/nighthawkcoders/APCSP/blob/master/_posts/2022-07-10-PBL-jokes.md](https://github.com/nighthawkcoders/APCSP/blob/master/_posts/2022-07-10-PBL-jokes.md)\n",
    "    - Backend Endpoints.  Python code that allows Frontend access: [https://github.com/nighthawkcoders/flask_portfolio/blob/main/api.py](https://github.com/nighthawkcoders/flask_portfolio/blob/main/api.py)\n",
    "    - Backend Jokes Management.  Python code that support Create, Read, Update, Delete (CRUD): [https://github.com/nighthawkcoders/flask_portfolio/blob/main/model_jokes.py](https://github.com/nighthawkcoders/flask_portfolio/blob/main/model_jokes.py)"
   ]
  },
  {
   "cell_type": "markdown",
   "metadata": {},
   "source": [
    "## Hacks\n",
    "> Find and use an API as part of your project.  An API and a little coding logic will be a big step toward getting meaningful data for a project.  There are many API providers, find one that might work for your project to complete this hack. When picking an API you are looking for something that will work with either JavaScript Fetch or Python Request.  Here are some samples, these are not qualified in any way.  \n",
    "- [RapidAPI](https://rapidapi.com/collection/list-of-free-apis)\n",
    "- [GitHub Project](https://github.com/public-apis/public-apis/blob/master/README.md)\n",
    "- [No Key APIs Article](https://nordicapis.com/9-free-public-apis-that-offer-up-some-cool-open-data/)\n",
    "- [Twitter Developer](https://developer.twitter.com/en/docs/twitter-api)\n",
    "- [Google Developer](https://developers.google.com/apis-explorer)\n",
    "- [Reddit Developer](https://www.reddit.com/dev/api/)\n",
    "\n",
    "> Show API and format results in either Web Page or Jupyter Notebook.  Ultimately, I will expect that we do APIs in backend (Python/Flask).  However, for this Hack you can pick your preference.  We will discuss pros and cons in next API tech talk."
   ]
  }
 ],
 "metadata": {
  "kernelspec": {
   "display_name": "Python 3.9.12 ('base')",
   "language": "python",
   "name": "python3"
  },
  "language_info": {
   "codemirror_mode": {
    "name": "ipython",
    "version": 3
   },
   "file_extension": ".py",
   "mimetype": "text/x-python",
   "name": "python",
   "nbconvert_exporter": "python",
   "pygments_lexer": "ipython3",
   "version": "3.9.12"
  },
  "orig_nbformat": 4,
  "vscode": {
   "interpreter": {
    "hash": "f4522448fa03726c480e11d9815ce2c412646a9816150097c8daa961a4b73c1a"
   }
  }
 },
 "nbformat": 4,
 "nbformat_minor": 2
}
