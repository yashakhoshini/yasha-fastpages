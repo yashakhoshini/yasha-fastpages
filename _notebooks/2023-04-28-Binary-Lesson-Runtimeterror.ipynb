{
 "cells": [
  {
   "attachments": {},
   "cell_type": "markdown",
   "metadata": {},
   "source": [
    "#  P4-M 4/28 Binary Lesson HACKS\n",
    "> Learn the basics of binary including truth tables, boolean expressions, binary conversions, and binary searches.\n",
    "- toc: true\n",
    "- permalink: /binary/lesson\n",
    "- comments: true\n",
    "- categories: [week 31, binary, lesson]"
   ]
  },
  {
   "attachments": {},
   "cell_type": "markdown",
   "metadata": {},
   "source": [
    "# Lesson Note Taker\n",
    "> Fill in the blanks below during the binary presentation. You can visit our [website here!](https://theoh32.github.io/Runtime_Terror/2023-3-30-mainlesson.html)\n",
    "^ Due to last minute deployment issues, may need to run a local server\n",
    "\n",
    "1. git clone https://github.com/TheoH32/Runtime_Terror.git\n",
    "2. run: \n",
    "- bundle install\n",
    "- bundle exec jekyll serve"
   ]
  },
  {
   "attachments": {},
   "cell_type": "markdown",
   "metadata": {},
   "source": [
    "## Binary \n",
    "\n",
    "1. Binary is a base 2 number system.\n",
    "2. 0 represents off or false, and 1 represents on or true.\n",
    "3. A bit (short for binary digit) is the minimum unit of binary information stored in a computer system.\n",
    "\n",
    "## Boolean Expressions\n",
    "\n",
    "1. A Boolean expression is a logical statement that is either TRUE or FALSE and compares data.\n",
    "\n",
    "## Truth Tables\n",
    "\n",
    "1. The logical operations shown in truth tables are AND, OR, NOT, and XOR."
   ]
  },
  {
   "cell_type": "code",
   "execution_count": 1,
   "metadata": {},
   "outputs": [
    {
     "data": {
      "text/plain": [
       "True"
      ]
     },
     "execution_count": 1,
     "metadata": {},
     "output_type": "execute_result"
    }
   ],
   "source": [
    "# Run this code!! See how boolean expressions work and show the outputs of truth tables.\n",
    "\n",
    "# AND\n",
    "5 > 3 and 5 == 3 + 2"
   ]
  },
  {
   "cell_type": "code",
   "execution_count": 2,
   "metadata": {},
   "outputs": [
    {
     "data": {
      "text/plain": [
       "False"
      ]
     },
     "execution_count": 2,
     "metadata": {},
     "output_type": "execute_result"
    }
   ],
   "source": [
    "\n",
    "5 < 3 and 5 == 5"
   ]
  },
  {
   "cell_type": "code",
   "execution_count": 3,
   "metadata": {},
   "outputs": [
    {
     "data": {
      "text/plain": [
       "True"
      ]
     },
     "execution_count": 3,
     "metadata": {},
     "output_type": "execute_result"
    }
   ],
   "source": [
    "# OR\n",
    "5 == 5 or 5 != 5"
   ]
  },
  {
   "cell_type": "code",
   "execution_count": 4,
   "metadata": {},
   "outputs": [
    {
     "data": {
      "text/plain": [
       "False"
      ]
     },
     "execution_count": 4,
     "metadata": {},
     "output_type": "execute_result"
    }
   ],
   "source": [
    "5 < 3 or 5 != 5"
   ]
  },
  {
   "attachments": {},
   "cell_type": "markdown",
   "metadata": {},
   "source": [
    "### Real Life Example using Boolean Expressions\n",
    "\n",
    "Try changing the conditions and/or the logical operation below! Run the code to see if you are eligible to vote."
   ]
  },
  {
   "cell_type": "code",
   "execution_count": 20,
   "metadata": {},
   "outputs": [
    {
     "name": "stdout",
     "output_type": "stream",
     "text": [
      "You are eligible to vote.\n"
     ]
    }
   ],
   "source": [
    "# Real life example\n",
    "age = 14\n",
    "\n",
    "# I changecd the age\n",
    "\n",
    "\n",
    "citizen = True\n",
    "\n",
    "if age >= 14 and citizen:\n",
    "    print(\"You are eligible to vote.\")\n",
    "else:\n",
    "    print(\"You are not eligible to vote.\")"
   ]
  },
  {
   "attachments": {},
   "cell_type": "markdown",
   "metadata": {},
   "source": [
    "## Binary Conversions\n",
    "\n",
    "### Binary to Decimal\n",
    "\n",
    "1. We can count in binary by using powers of 2.\n",
    "2. In binary, we read from right to left.\n",
    "3. 0111 has a value of 7 in decimal (base-10) notation.\n",
    "\n",
    "\n",
    "### Binary Search\n",
    "\n",
    "1. For a binary search, the list must be sorted in ascending or descending order.\n",
    "2. In a binary search, computers start at the middle of the list.\n",
    "3. The number of steps required in a binary search follows the equation: log2(n), where n is the number of elements in the list.\n",
    "3. Binary searches also work with a list of strings or any other data type that can be ordered, including alphanumeric and symbolic data. We can sort them alphabetically or in any other logical order.\n",
    "4. Binary searches can be represented in flowchart diagrams or pseudocode."
   ]
  },
  {
   "attachments": {},
   "cell_type": "markdown",
   "metadata": {},
   "source": [
    "# Hacks\n",
    "> You will NOT be awarded any points for sections that are INCOMPLETE\n",
    "\n",
    "### Note Taker\n",
    "\n",
    "1. Fill in all of the blanks above.\n",
    "\n",
    "### Lesson Quiz\n",
    "\n",
    "1. Complete the lesson quiz\n",
    "2. SCREENSHOT SCORE and paste it here (or paste screenshot with submission)\n",
    "\n",
    "### Binary Game\n",
    "\n",
    "1. Complete the Binary game and reach a minimum score of 10! \n",
    "2. SCREENSHOT SCORE and paste it here (or with submission)"
   ]
  },
  {
   "attachments": {},
   "cell_type": "markdown",
   "metadata": {},
   "source": [
    "### Binary Conversions Practice\n",
    "\n",
    "1. Convert the decimal number \"17\" into binary.\n",
    "2. Convert the binary number 1010 into decimal.\n",
    "3. Convert the decimal number \"122\" into hexadecimal.\n",
    "4. Convert the hexadecimal number \"09\" into binary."
   ]
  },
  {
   "cell_type": "code",
   "execution_count": 9,
   "metadata": {},
   "outputs": [
    {
     "name": "stdout",
     "output_type": "stream",
     "text": [
      "0b10001\n"
     ]
    }
   ],
   "source": [
    "# Convert the decimal number \"17\" into binary.\n",
    "\n",
    "decimal = 17\n",
    "binary = bin(decimal)\n",
    "\n",
    "print(binary)"
   ]
  },
  {
   "cell_type": "code",
   "execution_count": 13,
   "metadata": {},
   "outputs": [
    {
     "name": "stdout",
     "output_type": "stream",
     "text": [
      "1010\n"
     ]
    }
   ],
   "source": [
    "# Convert the binary number 1010 into decimal.\n",
    "\n",
    "binary = '1010'\n",
    "decimal = int(binary, 2)\n",
    "\n",
    "print(decimal)"
   ]
  },
  {
   "cell_type": "code",
   "execution_count": 16,
   "metadata": {},
   "outputs": [
    {
     "name": "stdout",
     "output_type": "stream",
     "text": [
      "0x7a\n"
     ]
    }
   ],
   "source": [
    "# Convert the decimal number \"122\" into hexadecimal.\n",
    "\n",
    "decimal = 122\n",
    "hexadecimal = hex(decimal)\n",
    "\n",
    "print(hexadecimal)"
   ]
  },
  {
   "cell_type": "code",
   "execution_count": 18,
   "metadata": {},
   "outputs": [
    {
     "name": "stdout",
     "output_type": "stream",
     "text": [
      "0b1001\n"
     ]
    }
   ],
   "source": [
    "# Convert the hexadecimal number \"09\" into binary.\n",
    "\n",
    "hexadecimal = '09'\n",
    "decimal = int(hexadecimal, 16)\n",
    "binary = bin(decimal)\n",
    "\n",
    "print(binary)\n"
   ]
  },
  {
   "attachments": {},
   "cell_type": "markdown",
   "metadata": {},
   "source": [
    "### Binary Search Questions\n",
    "\n",
    "1. Make a binary search tree of different the list [1,2,4,15,25,30,31]\n",
    "2. Put this list of strings in a order that can be used for binary search [\"Donut”,\"Cake”,\"Soda”,\"Banana”,\"Fruit”]\n",
    "3. Explain why Binary Search is more efficient than Sequential Search."
   ]
  },
  {
   "attachments": {},
   "cell_type": "markdown",
   "metadata": {},
   "source": [
    "        15\n",
    "       /  \\\n",
    "      2   30\n",
    "     / \\    \\\n",
    "    1   4   31\n",
    "         \\\n",
    "         25"
   ]
  },
  {
   "cell_type": "code",
   "execution_count": 19,
   "metadata": {},
   "outputs": [
    {
     "name": "stdout",
     "output_type": "stream",
     "text": [
      "['Banana', 'Cake', 'Donut', 'Fruit', 'Soda']\n"
     ]
    }
   ],
   "source": [
    "my_list = [\"Donut\", \"Cake\", \"Soda\", \"Banana\", \"Fruit\"]\n",
    "sorted_list = sorted(my_list)\n",
    "\n",
    "print(sorted_list)\n",
    "\n",
    "# The built in sort command sorts the command in alphabetical order to then be used for binary search."
   ]
  },
  {
   "attachments": {},
   "cell_type": "markdown",
   "metadata": {},
   "source": [
    "Binary search is more efficient than sequential search for large datasets because it has a time complexity of O(log n), which is a lot faster than the time complexity of sequential search, which is O(n). This allowes for efficiency and when dealing with large datasets"
   ]
  },
  {
   "attachments": {},
   "cell_type": "markdown",
   "metadata": {},
   "source": [
    "### Extra Credit:\n",
    "\n",
    "- Translate the binary number, 1001010, into octal (base 8). <mark>SHOW YOUR WORK AND EXPLAIN YOUR THINKING.</mark>\n",
    "OR\n",
    "- write the best rap line (determined during the lesson by group)\n"
   ]
  },
  {
   "attachments": {},
   "cell_type": "markdown",
   "metadata": {},
   "source": [
    "So, we've been asked to translate a binary number into octal. Octal is just a fancy way of saying base 8, which means it uses 8 different digits instead of the 10 we're used to with decimal.\n",
    "\n",
    "The binary number we're given is 1001010. To convert this to octal, we need to group the digits into sets of three. There are only seven digits here so we add a leading zero to make it a mulitple of three. So, we have 010 010 10.\n",
    "\n",
    "Now, we just need to convert each set of three binary digits to its octal equivalent. And since there are only eight possible combinations of three binary digits, we can just memorize them. In this case, we have 010 = 2, 010 = 2, and 10 = 2. So, the octal equivalent of 1001010 is 222.\n"
   ]
  },
  {
   "attachments": {},
   "cell_type": "markdown",
   "metadata": {},
   "source": [
    "# Hacks Scoring\n",
    "\n",
    "| Hack | Comments | Grade |\n",
    "|---|---|---|\n",
    "| Note Taker | fill in the blanks above | 0.1 |\n",
    "| Lesson Quiz | under 100% = 0.1 only | 0.2 |\n",
    "| Binary Game | must score at least 10 points | 0.2 |\n",
    "| Binary Conversions Practice | if incorrect= 0.2 awarded | 0.2 |\n",
    "| Binary Search Questions | if incorrect= 0.2 awarded | 0.2 |\n",
    "| Extra Credit | MUST SHOW WORK | 0.1 |\n",
    "| Total | expected= 0.9/1 | 1/1 |"
   ]
  }
 ],
 "metadata": {
  "kernelspec": {
   "display_name": "base",
   "language": "python",
   "name": "python3"
  },
  "language_info": {
   "codemirror_mode": {
    "name": "ipython",
    "version": 3
   },
   "file_extension": ".py",
   "mimetype": "text/x-python",
   "name": "python",
   "nbconvert_exporter": "python",
   "pygments_lexer": "ipython3",
   "version": "3.9.12"
  },
  "orig_nbformat": 4
 },
 "nbformat": 4,
 "nbformat_minor": 2
}
