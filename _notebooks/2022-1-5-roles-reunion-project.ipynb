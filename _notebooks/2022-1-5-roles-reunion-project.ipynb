{
 "cells": [
  {
   "attachments": {},
   "cell_type": "markdown",
   "metadata": {},
   "source": [
    "# Reunion Project Roles\n",
    "> Roles and objectives for our reunion project\n",
    "\n",
    "- toc: true \n",
    "- badges: true\n",
    "- comments: true\n",
    "- categories: [markdown, reunion project]"
   ]
  },
  {
   "attachments": {},
   "cell_type": "markdown",
   "metadata": {},
   "source": [
    "## Roles\n",
    "\n",
    "#### Scrum Master - Quinn\n",
    "#### Frontend - Yasha\n",
    "#### Backend - Aaron\n",
    "#### DevOps - Kush"
   ]
  }
 ],
 "metadata": {
  "kernelspec": {
   "display_name": "base",
   "language": "python",
   "name": "python3"
  },
  "language_info": {
   "name": "python",
   "version": "3.9.12"
  },
  "orig_nbformat": 4,
  "vscode": {
   "interpreter": {
    "hash": "f4522448fa03726c480e11d9815ce2c412646a9816150097c8daa961a4b73c1a"
   }
  }
 },
 "nbformat": 4,
 "nbformat_minor": 2
}
