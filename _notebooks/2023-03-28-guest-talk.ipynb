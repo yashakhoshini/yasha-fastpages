{
 "cells": [
  {
   "attachments": {},
   "cell_type": "markdown",
   "metadata": {},
   "source": [
    "# Guest Talk 3/39\n",
    "> Libraries\n",
    "- toc: true\n",
    "- comments: true\n",
    "- categories: [csp, jupyter]\n",
    "- tags: [python]\n",
    "- comments: true"
   ]
  },
  {
   "attachments": {},
   "cell_type": "markdown",
   "metadata": {},
   "source": [
    "### Ambassadors\n",
    "---\n",
    "- Ashley\n",
    "- John\n",
    "### San Marcos info.\n",
    "- provides internships\n",
    "- around 250 San Marcos staircases\n",
    "### Pathways\n",
    "- master capability in cyber security\n",
    "- computer engineering.\n",
    "- Education\n",
    "- Algorithm\n",
    "- Engineering\n",
    "- Vio Chemistry\n",
    "- Chemistry\n",
    "- Physics\n",
    "- Applied Physics\n",
    "- Biological sciences\n",
    "\n",
    "### Stories on campus\n",
    "Ashley joined a quantum computing team because she enjoys physics. One of the few schools that offered applied physics was Cal State. She failed Calculus 1 and 3. I'm pursuing a PHD in material science and engineering after falling in love with physics. \"Cal State is the ideal environment to fail.\"\n",
    "John, began at Palomar for three years. two associates, one of them a computer scientist. His experience was unique because he worked on the San Marcos campus after not having visited it until his final year. took 6 years to complete his ComSci bachelor's degree.\n",
    "\n",
    "### Internship\n",
    "- Networking is found by going to campus events, google, etc.\n",
    "- Try to avoid unpaid internships\n",
    "- Networking - the action or process of interacting with others to exchange information and develop professional or social contacts.\n",
    "\n",
    "### Clubs\n",
    "- STEM Women\n",
    "- Robotics\n",
    "- CyberSecurity Club\n",
    "\n",
    "### Programs\n",
    "- Summer Scholars program: $6000 for 10 weeks research done with an advisor\n",
    "- Quantum Bridge Program: 4 week program where you learn about quantum information sciences.\n",
    "- etc.\n",
    "### Paying for College\n",
    "- Scholarship\n",
    "Can get one in any way pretty much, as long as you accel at something.\n",
    "- Grants\n",
    "given by the government to help poorer families.\n",
    "** Loans, 2 types **\n",
    "- subsidized loan\n",
    "A loan that is partially funded by the government to prevent you going deeper in debt.\n",
    "- unsubsidized loan\n",
    "You start occurring interest on your loan as soon as the semester finishes, costs more.\n",
    "### Grad school\n",
    "- You can get paid to go to grad school."
   ]
  }
 ],
 "metadata": {
  "language_info": {
   "name": "python"
  },
  "orig_nbformat": 4
 },
 "nbformat": 4,
 "nbformat_minor": 2
}
