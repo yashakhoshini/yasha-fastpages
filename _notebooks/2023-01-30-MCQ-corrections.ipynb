{
 "cells": [
  {
   "attachments": {},
   "cell_type": "markdown",
   "metadata": {},
   "source": [
    "# MCQ Test Corrections\n",
    "> Multiple choice quiz test corrections\n",
    "\n",
    "- toc: true \n",
    "- badges: true\n",
    "- comments: true\n",
    "- categories: [markdown, reunion project]"
   ]
  },
  {
   "attachments": {},
   "cell_type": "markdown",
   "metadata": {},
   "source": [
    "## Test Score\n",
    "\n",
    "![](https://lh3.googleusercontent.com/pT8flaZsDQPilg2OCHsvnCtAxI1CYNxDR7aMq65C2NOQpD6J0xxBSsMR0q2Po2Ahne8AAk6C_N2gnsvt_NnH_ty4YOEcgBPMsEQI4tCUyrGhfQtlep9h9tYvlmxKUqOkwWqqru5e07wyi4fuaZg_skCD2oo1sjvX3YjUSXx1dRncNUWpAQnkoVcCoJCJIFgKdbMqkF-I3DmsDEvL_mI_RqFez73bsKrqkHKKOh7rK4YlCeMos7ybRHvQyUZLlbg6kxzezDTYNaxcDi3Yzt952Eu2CmZSuPlFxIJffKd-9w7QEa_CmdHKC-MHR_T2Z-Y5M068qFE3XwzZjjTl7XLVx3xsIK8N1nWpH5EkUumAsJ29-focTMEHN0Fk71xnCTkbhgR4vH6P6ycWxpz7X4lYt7Nqzhy6BEQCpNeIdII934JLWm-UwdvfzAdOOlkCE_fHaWdlnFLF45bC0O8Anp-otugnkYDJa6qVMh3C1vtr1uhswYRsd7ZxjYlIE2CbRkkt4NdmHOhvVi0dMe1Nu0D-y2egxXVXAD7cGj2OI0gRiIydXkEZ_sMf6irq2eKVs7qi7XDyGxX4WKVkxXNiru_BJHqrfLrhernCHQW4uDfEq8LIwJGo3VdocpnB3VCbrThwskcC5SCnuCJoz-qkN1ESezSe4KySF2tPECELNUlywoPG25Ll7IrWiOVi9VUv2dhyqrze0ZBZamItQFS59rlfcbpUzMYabgOfi7SyYeh7VxOXXIV69PWBlk70J7ORy3NaDjifoRyfodHvyCDGzavQE7aUWJ14iAZT5wApzojKKdCOG9s-wGZBgSjZlbfaN5MmMqv2eT2LesWAIvQ3dPhYgSYmXns3HxPL0flxeVMY2yYIvcpnQf2Q9Bgd_IRJA6jE1eXzniHaP_qVW3SaVuTQ1R0O0bNExeDYcNq9Os0f8wE=w328-h68-no?authuser=0)"
   ]
  },
  {
   "attachments": {},
   "cell_type": "markdown",
   "metadata": {},
   "source": [
    "#### Q1\n",
    "\n",
    "![](https://lh3.googleusercontent.com/CciZjpyS6yv1fT05WW3duVcbqmHTUNANr9a1z5ZLJ8IilBr4rormtMJyMhv-rf3n8zIbVt1gxS2UYCWRIaI_6K0Pe7qU1TWdnxfrfvnk48KphgtrdUUZHj6NIQzG5TJBqG4oY68qguG-bdu_h_xu-q_iwTcKns9rxTKsKB3tcYiNpZOZcs8xGPogWw6dJsuuRZ3EP_68NWIrkNRONW2Duw6BBaSSQtGPgT7mq-Ke6SreNc3pc-oHuGUckb-by42124PvsqAAa8-zZYmLUWjPoijXNmSrY9TkFK-XEbXPLu5kt3DWzhW6pVw7PaZWlQBfF6RhadyA4ClT1estOwW81NyaC7JgX_727aNfqh8DiELQHIGXS2ojz4G4z7XNjXb4--KFPuJtlzagzNmkAQvJJxdlKoa-_ax3D5phsiudw3oSzry7maQpMYTxHuyW73Cp40nUlXFhNIZSEVO5s8AXWdAZtpGcho9_6ATUjNvMwvu3UDAhsoYtXoLiAMiwPtpMaRAqbmrDZzxXrgYCbKdCPxt048Hk1YZ90qQrdajgDxWID2d7OkLZC7bW8JA-ReTIqqUi0tX6w6twiBDbQlvV6iC04_g3G-Hp4i2fHo-ya7mrBM0AvF-d3NnJ-XlI2Q9EHliDA0w1BG4WTNLlTHoO-wC_xU-b3aZxS0g6Au5YWwU8tcp_LngjMwl2qNsPojOViqDYuYGxc9raeIuNm-C_1AkxynxKcr6-5Plei5Ag7RsrPweviMLYe-ZH3yzLl6RpT4gHqieWxW2pagKXWPjz6DggdRReO12ZusdPGNnZbPrTubjnUPnTPsRaAeUyLC8GA_chdI7fKzTd_ePllvA3KdGbFlyKg-aka1CLF3rTWEYc3VvF3Cuu9h9Js6WddB0PxER5UJYYboT7U0rlOjKFBgF7WS5cFDYJIyxq8_3LiR8=w1798-h1422-no?authuser=0)\n",
    "\n",
    "Reasoning: This option is incorrect. The value of variable b is stored in the variable a. Then the value of the variable a (which now contains the original value of the variable b) is stored in the variable temp. Finally, the value of the variable temp (which now contains the original value of the variable b) is stored in the variable b. Both a and b store the original value of b."
   ]
  },
  {
   "attachments": {},
   "cell_type": "markdown",
   "metadata": {},
   "source": [
    "#### Q2\n",
    "\n",
    "![](https://lh3.googleusercontent.com/vjqCnNize3IrA5I4Ab-4XduoyY4SN5NmOQU_ElwU-4SobeUG86Y4yNGOp63OdryWHuFAG3mA1iQj2KjRX_qnovYgFIFJt8QK0TY7ft2Hrg-h035czcaos2M_KscmYUOCW8tP9XkUbOo_kXHFsT3B1U8qWSiH8FaEa_eZX4_gfqIXKrIRJH2pnyJ1dA1xqbOpTv9Iluyy7Yf2dcU7Tk4XVp9iVH-bRqID2Uo5R0SMmwU_uQhPrAwbmbk6YZoBFLFP6EYQkYthbBgW2H1JlFaTFuEjslPIhdAcp7S-zKRXo_JmkdrxumllSBQJFBTDxOzisJJ934Hic4VbR_S1wlSRFOl_oDqWHldKUA_7pSJBqE8nKGZYznMU43CKTJArCR3DG929vu7xv3oyCZ6NbeEJ-Uj_h5RqrEfCha-Cx_7KLNpxTIhtCvcDXO-GVmppADKMrb1bn_vg0e5uf3Cx2llJPfPIUSlRkizspQhzZXi43rAIpi55N8a6uI7QrsW3KG6UPgVWGtRU6HHyhRzmvoap71XoKbPZoJbGPoHJtyaZMqPUFuAOc1g4sx1rrmswFTNTu-7_3p3JgvvVbUBF2wFs3tOgOfP3gg8h39is_9FTYj5Yu9sW8cFXMiJXWUBWKdUJ9kIZQB1kJ_QjUVEOmeep82yigID8iVosmMzL4ecqKCDafHfo3dZgUQ-Yj-_qyFx9JPII2oZtuGOhmrcyAYGnIk1KG4X2zzE0dq-SlXIutUUM8LjzmKDebdaGPKCE5cUdjKcYdfvi933Xv1_UayI5vlFEVm062dEI36g3jv7wgD6KBozfB102676clcIcHPCbC8B7H14Q5otMry0g9ZOTvaqWXjDLqrsb2r0CvLRouYYxln12YPqVhZSoxhWGTjtjhEdPbGnhxGhexWV20z17Sl9hajvv8pPrw58eaZkkHWg=w336-h200-no?authuser=0)\n",
    "\n",
    "Reasoning: Careless error when reading question"
   ]
  },
  {
   "attachments": {},
   "cell_type": "markdown",
   "metadata": {},
   "source": [
    "#### Q3\n",
    "\n",
    "![](https://lh3.googleusercontent.com/qQhslkP0YbWdApepnW6hM6n0QZ3mQLLOwidoT8RHKmCwj67lceafWlzhazU8XorqMvvy2qUIaeN4z3J47YKOe_fr95ySM9uq39lGQJ78rj43tV7neqL7VlSVgNUzaHUI4kChoIWdZvVkh4vhb08f0o5mciLq_K5vP1MfOwUNljgez4u1DcjBd1-KtQFU5AbdyfwTzrVGo-pgSwEz3DXpukQYtKSKTL1yHDDLin7OQ1tfKgQo8xj2t9B57rORP7MBqFYGbC8f-47S9XE1C9rm1G7YHiDxckkd2g475l7Gl4_RRV5zRh0UFMdSkPgkbsSmI1NOfS-F_RHHyQwppkJuRG54Ysm3nmidapIPfdlQklM8LPuCVtXmCSihvQhXk5jIqW6BTlEkumieO094fK7zDMXuAndCmjG6ETNY-bwb7ClDBaVPVNidJIWqpNtMnt1UlukIpSDS57y4EObAQD-SZWfBlDI0J84akgjfV1n4uXz9GTR_gV2VRNQF3O7e-J0hrl1QlSWTqqW8z-lO5C9gezFvGzUGmJNBR2Y-mC5qksBAeWtxWhmgMuI6kp4RxPMopyWDRkyKO-C2IzRm_-W-QCbDvySO7sGAKryf4jWS8r8PmfoQsnYzVj2bJll9nNa6iuxIHlGt6-7aN2Ss7Tur76XjlNDWAARwc5-qJoPSKFp28NpoNtUmoNTcp1PFvmyh7_VyGso5EFbUyWJFGjVtvBWHXGHcvlA7O2WT-Kf55lS50qBa3BtZjeM2al0871D59hmfGX8x_k-gYG_oOE1pzol7iZ4lzOvkSY19dFVnjvVK97AYCowByTQmvwYf3cHLavqgIxxHjgpuAECEWRSzq0Tj3J2MrcCt_QszdORXRIEnomjyZyXtxjb_YsxZkvWvMesmSt7j1RRy_KVdozziJfJvLo8On0BP9EZvR7kUNkQ=w1780-h1486-no?authuser=0)\n",
    "\n",
    "Reasoning: This option is incorrect. If input B is false, the resulting value coming out of the OR gate will be true (since the value of A is true). Since the value of C is true, the resulting value coming out of the AND gate is true. This result contradicts the statement."
   ]
  },
  {
   "attachments": {},
   "cell_type": "markdown",
   "metadata": {},
   "source": [
    "#### Q4\n",
    "\n",
    "![](https://lh3.googleusercontent.com/AN4B0urQXzXN0bsLaxiRd0be1fQB8Id4GxEHBtW7B369ue23E8AoFeSIyakRuhBfMG8o_6si5dCpfDVZOeyP7pGvWvUgRodw5eUiAKaKwaBy54xldSMmJrB-w8rkRt_nkUaBGZXHAYIvFylUlKHetqXe6ZI6-ooTuVWvQqAC1yiibfKqADEo7D0QBZ6NVPulH_M7rk1O0UUlbF23KhOSj6-nNXCc63OJ490hLpkeMhPSy5V2rNtaqkjbTolCaw06Hvr7PrqoliTmixjq2uPm_Bz3_aG_jps2WUADJIjZol7v-yQzkhCrj46l1Hz3HyWAD5Bc_iaS6iyQUs7f3kUKf3HDVsQ06QmXXBiQB08sKMF7z-Z5hrlJJs1PGoW5qhqprjhjBIkMJDxhOj4h8lLMqEG3RW3LPd6cTGjXEPfe6cqvoP5vrBH25sxn_0QjJf-c3NjXstKXKSQCsIyWoM5zgIAppYN0jifNrJCVxDWDazkzonh_5jm84yUG3o0KtNXg1Lkt6t1MbHIBYKdXSqIMH1CkLbMWVJE6RzOBTgG8Kop3LBuRaExyhn38xLz1LiUeZIs1naLuN0w878jkZEwObA8E-GT_XRTDDDHYL_L4Y7HvLEnCY40Jks2QE1ju1HC6gepmT0VXFCrfXbIa__S0PY3kH03XdvR2hrU3oboJJtWqeirAxuFjwUit-E7MhEcuGQ97UevIelSqA4H2xOq3BFeUua3tr4EXVQmcyyR-3WkdkgcB_u1z58MmLcYymiI839Nf5xvnTQpvnoFHgi1wFBcbScwvXp580uuOm5V5O27cjOi3O2RjfLeP8ZT0dOoK-4X1PpkPoJdFSNZKggBy5nELAZkg0pJ8QSVPDBQYNOjfsKL3A2OkmKIIWbKoRvyeoCdhCXndsaeylxDoh8HgQ0_zOfXVQGbX3H63AJ-aXwc=w1780-h1486-no?authuser=0)"
   ]
  },
  {
   "attachments": {},
   "cell_type": "markdown",
   "metadata": {},
   "source": [
    "#### Q5\n",
    "\n",
    "![](https://lh3.googleusercontent.com/R2_Gf2i4Uipw-ibWDyPgy9dhXJAOmpVrSvFDET_DE5-41MB_FKcsRk3U6o2zDgjxvNHAEgrDldq0uaVwmmjLrfeJdYBtfi2eo1eE2R4d4c7o6bOMj3ql_TLY3UoKl4nj-fzCBGyF9yd_9TgwJ9ZIBZpevDYHXvupIhq6l5_2D70ubmnmhiqUV7PL4V6e-I3Vc-RGvvDEJ0cGMkk_2s_idQ4aA8acEHS4roAGVwa46UKGTRtK3fnN1Vj1YbdUZkoKZ3fhW6ncHqVWX53VdX68XVy8ocvz22rqPfsM6emxfpsCZqbN-LCt9lOyGooLyoAr4NROFsUK8iwuhjDKOO81dN8gkAxRD2uHdvRCWJN8oNXbsVZYc8i8YVyp9wTs-ycZObFfut9tIsoMAiv3v_kmIDuyGoKE7q9nDU0zQiGSFgji-kaUIt9BUqoIyuJe26T4AMh8MIT6OPlFPGJXLm0W56XCLbxlkL6XiSE0_hYbzLGQxQUfsAYBm5QfWBxCo9vq0vMf9soh2HC1bc3N9hLDpg5rnFwbOWQmGEEsZjct-83Qt6pOSlzWbWcRbVsfwJmQypYYMZm6GNeIcsReagxIoPTNTaIgq5tuP_5xHSyF-SImSDhoUbBteJZCcI3VA2OcJcmEhJdPBQ_Iz3arhKGEVG-QIqgtFweOLBbGsdt-5EyBUZtjCkp2ON807kssAJVOcJq4rjcz-J6uXfVH3IVqs2WftTO3Ue2n5KuGBWgq5_RzCUMc7sXMCDPQzT2HY4zO3L0yXK37J0nlR3hdqsvUoF3t6bGnCPZ0XebbVF4AE7zq4dYiCXdMYLgxC_d3DaF16ZeFyitFO2EhavrGrCud95hMXviIVACKDUo6aHcsVR0s4G2JGl32SblSFBccfdtrwzt-qIHQ77cX2fN9kDcWroqRyoX3NFhUbFpE7BTTvjk=w327-h273-no?authuser=0)\n",
    "\n",
    "Reasoning: The program results in an infinite loop so nothing is displayed."
   ]
  }
 ],
 "metadata": {
  "kernelspec": {
   "display_name": "base",
   "language": "python",
   "name": "python3"
  },
  "language_info": {
   "name": "python",
   "version": "3.9.12 (main, Apr  5 2022, 01:53:17) \n[Clang 12.0.0 ]"
  },
  "orig_nbformat": 4,
  "vscode": {
   "interpreter": {
    "hash": "f4522448fa03726c480e11d9815ce2c412646a9816150097c8daa961a4b73c1a"
   }
  }
 },
 "nbformat": 4,
 "nbformat_minor": 2
}
