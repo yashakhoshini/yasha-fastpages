{
 "cells": [
  {
   "attachments": {},
   "cell_type": "markdown",
   "metadata": {},
   "source": [
    "# Create Performance Task\n",
    "> My features of the stock project that I will be completing\n",
    "\n",
    "- toc: true \n",
    "- badges: true\n",
    "- comments: true\n",
    "- categories: [markdown, dumbtrade]"
   ]
  },
  {
   "attachments": {},
   "cell_type": "markdown",
   "metadata": {},
   "source": [
    "| Reporting Category | Scoring | Explanation |\n",
    "| - | - | - |\n",
    "| Program Purpose & Algorithm Implementation | 2/2 | 4A & 2B: On the game section of our website there is an option for how many shares of a certain stock you would like to purchase (the input), the program will then multiply the stock price by the imputed value and give the product of the equation as the amount spent (output). |"
   ]
  },
  {
   "attachments": {},
   "cell_type": "markdown",
   "metadata": {},
   "source": [
    "Here is an example of how the code will work-"
   ]
  },
  {
   "cell_type": "code",
   "execution_count": null,
   "metadata": {
    "vscode": {
     "languageId": "html"
    }
   },
   "outputs": [],
   "source": [
    "<body>\n",
    "  <head>\n",
    "    <script>\n",
    "    function notify() {\n",
    "      alert(document.getElementById(\"result\").innerHTML = \"Result: \" + result);\n",
    "    }\n",
    "    </script>\n",
    "    </head>\n",
    "<body>\n",
    "<p id=\"result\"></p>\n",
    "\n",
    "\n",
    "<script>\n",
    "  function multiplyByTwo() {\n",
    "    var num = document.getElementById(\"numInput\").value;\n",
    "    var result = num * 141.86;\n",
    "    alert(document.getElementById(\"result\").innerHTML = \"Just confirming the transaction of $\" + result);\n",
    "  }\n",
    "</script>\n",
    "</body>"
   ]
  },
  {
   "attachments": {},
   "cell_type": "markdown",
   "metadata": {},
   "source": [
    "| Reporting Category | Scoring | Explanation |\n",
    "| - | - | - |\n",
    "| Data Abstraction & Managing Complexity | 2/2 | 3B & 3C: On the section of the website referred to as the “game” the output to the code above will be stored in a list and when called upon will subtract the stored (listed) values from your wallet (your cash holdings). The same information will be pulled to display a visual of your earning report when the game is finished playing. |"
   ]
  },
  {
   "attachments": {},
   "cell_type": "markdown",
   "metadata": {},
   "source": [
    "Here is an example of how the code will work-"
   ]
  },
  {
   "cell_type": "code",
   "execution_count": null,
   "metadata": {},
   "outputs": [],
   "source": [
    "def store_input_in_list():\n",
    "    input_list = []\n",
    "    input_value = input(\"Enter a value: \")\n",
    "    input_list.append(input_value)\n",
    "    return input_list\n",
    "\n",
    "\n",
    "print(store_input_in_list())"
   ]
  },
  {
   "attachments": {},
   "cell_type": "markdown",
   "metadata": {},
   "source": [
    "| Reporting Category | Scoring | Explanation |\n",
    "| - | - | - |\n",
    "| Procedural Abstraction | 1/1 | 3B: The values that were stored in the list above will be pulled and added to the players/users wallet (cash holdings) to display a new cash holding price (output)  |"
   ]
  },
  {
   "attachments": {},
   "cell_type": "markdown",
   "metadata": {},
   "source": [
    "An example of the code is shown below-"
   ]
  },
  {
   "cell_type": "code",
   "execution_count": null,
   "metadata": {},
   "outputs": [],
   "source": [
    "def add_to_10000(input_list):\n",
    "    value = input_list[0]\n",
    "    result = int(value) + 10000\n",
    "    return result\n",
    "\n",
    "\n",
    "input_list = [5]\n",
    "print(add_to_10000(input_list))"
   ]
  }
 ],
 "metadata": {
  "kernelspec": {
   "display_name": "base",
   "language": "python",
   "name": "python3"
  },
  "language_info": {
   "name": "python",
   "version": "3.9.12"
  },
  "orig_nbformat": 4,
  "vscode": {
   "interpreter": {
    "hash": "f4522448fa03726c480e11d9815ce2c412646a9816150097c8daa961a4b73c1a"
   }
  }
 },
 "nbformat": 4,
 "nbformat_minor": 2
}
