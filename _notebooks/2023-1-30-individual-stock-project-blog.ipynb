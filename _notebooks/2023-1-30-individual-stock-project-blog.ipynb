{
 "cells": [
  {
   "attachments": {},
   "cell_type": "markdown",
   "metadata": {},
   "source": [
    "# Individual Stock Project Blog\n",
    "> My features of the stock project that I will be completing\n",
    "\n",
    "- toc: true \n",
    "- badges: true\n",
    "- comments: true\n",
    "- categories: [markdown, ]"
   ]
  },
  {
   "attachments": {},
   "cell_type": "markdown",
   "metadata": {},
   "source": [
    "#### Project Blog\n",
    "\n",
    "For my video submission for the College Board's Performance task, I will demonstrate my implementation of a stock game. I will highlight the key features of the program including data abstraction, user input, and the use of sequencing, selection, and iteration in my algorithms. I will also explain the algorithms and their complexity to show off my understanding of the coding process.\n",
    "\n",
    "My code plan for the College Board requires me to have functions that will take in the user's input for stock purchases, store the data in a list, and display the information in a HTML table. I will also include a function that allows the user to sell their stocks and update the table accordingly.\n",
    "\n",
    "In the video, I will give a brief overview of the program's functionality and then show an example of how it works by adding a stock purchase, waiting for the stock's value to change, and then selling it. This will demonstrate the use of data abstraction, user input, and the algorithmic processes involved in the program. Overall, the video will showcase my ability to code a functional stock game that meets the requirements set by the College Board.\n"
   ]
  }
 ],
 "metadata": {
  "kernelspec": {
   "display_name": "base",
   "language": "python",
   "name": "python3"
  },
  "language_info": {
   "name": "python",
   "version": "3.9.12 (main, Apr  5 2022, 01:53:17) \n[Clang 12.0.0 ]"
  },
  "orig_nbformat": 4,
  "vscode": {
   "interpreter": {
    "hash": "f4522448fa03726c480e11d9815ce2c412646a9816150097c8daa961a4b73c1a"
   }
  }
 },
 "nbformat": 4,
 "nbformat_minor": 2
}
