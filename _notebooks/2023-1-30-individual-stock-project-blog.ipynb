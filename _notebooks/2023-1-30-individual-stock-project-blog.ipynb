{
 "cells": [
  {
   "attachments": {},
   "cell_type": "markdown",
   "metadata": {},
   "source": [
    "# Create Performance Task\n",
    "> My features of the stock project that I will be completing\n",
    "\n",
    "- toc: true \n",
    "- badges: true\n",
    "- comments: true\n",
    "- categories: [markdown, dumbtrade]"
   ]
  },
  {
   "attachments": {},
   "cell_type": "markdown",
   "metadata": {},
   "source": [
    "Write Up\n",
    "\n",
    "Describe Procedural Abstraction, discussion on code and abstraction techniques used: Frontend/Backend, Functions, Classes, etc\n",
    "\n",
    "- Procedural Abstraction involves breaking down complex tasks into simpler steps, using techniques such as frontend/backend separation, functions, and classes. This helps to manage code complexity and makes it easier to modify and understand.\n",
    "\n",
    "Describe Data Abstraction, discussion on data used and data structures to support project: JSON, Dictionaries, Lists, and/or Database Tables.\n",
    "\n",
    "- Data Abstraction involves hiding the implementation details of data structures to provide a simpler interface for interacting with them. It can be implemented using data structures like JSON, dictionaries, lists, and database tables, which help manage complexity and ease maintenance of the project.\n",
    "\n",
    "Describe Usage of Control Structures, ie Iteration and Conditional Statements. Areas where you use lists and interation in Frontend Display. Areas were you decide and execulte different paths of code, for instance Create vs Read vs Update vs Delete. Also, show a function where a different parameter or condition causes a differen result.\n",
    "\n",
    "- Control Structures like iteration and conditional statements are essential for controlling the flow of execution in a program. They are useful for processing lists and arrays, displaying dynamic sets of items, and executing different paths of code, such as in Create, Read, Update, Delete operations. A function example could be a price calculator that returns a discounted price if the discount parameter is greater than 0, and the original price if it is 0 or negative.\n",
    "\n",
    "### **Technical Feature 1**\n",
    "Initially, my group assigned me the critical task of creating a database that stores information about stocks. Although we ultimately decided not to use it, I would like to take this opportunity to explain the process in detail. To begin, I wrote [initiation code](https://github.com/yashakhoshini/stockbackend/blob/main/api/stock.py#L1-L8) that imports both the stock and the API used for building rest APIs. Next, I developed the create and read portions of the code, which are available [here](https://github.com/yashakhoshini/stockbackend/blob/main/api/stock.py#L13-L56). For those interested in viewing a demonstration of how this database works, I have created a [video](https://github.com/gigtieup/GroupA/blob/main/bp_projects/templates/bp_projects/portfoli0.html#L38-L68) that walks through the process step-by-step.\n",
    "\n",
    "| **Technical Feature** | **Runtime Link** | **Code** | \n",
    "| --- | --- | --- |\n",
    "| Backend API Model | Group decided not to implement | [link to code](https://github.com/yashakhoshini/stockbackend/blob/main/model/stocks.py) | \n",
    "| Backend API Endpoint | Group decided not to implement | [link to code](https://github.com/yashakhoshini/stockbackend/blob/main/api/stock.py#L7-L8) |\n",
    "\n",
    "### **Technical Feature 2**\n",
    "Unfortunately, my group decided not to implement this database, and they informed me of this decision at the last minute, which left me with no time to prepare for my next role. Nevertheless, I embraced the challenge and focused my energy on developing a page that would allow users to input a stock and receive information about it in return.\n",
    "\n",
    "During this process, I encountered some issues, such as repeated information when two or more stocks were entered simultaneously. I overcame this obstacle by utilizing a [remove feature](https://github.com/gigtieup/GroupA/blob/main/bp_projects/templates/bp_projects/portfoli0.html#L38-L68) that allowed me to erase the original stock information each time a new stock was entered, thereby ensuring that only one variant of the initial stock information was added.\n",
    "\n",
    "In addition to my contributions to the database and the stock input page, I also played an integral role in the development of the stock quiz and game features on our website. As a result of these contributions, I believe that my growth and development have been apparent when comparing my work this trimester to that of the previous trimester. I have learned a great deal and have been able to apply this knowledge to enhance my assignments and tickets significantly.\n",
    "\n",
    "| **Technical Feature** | **Runtime Link** | **Code** | \n",
    "| --- | --- | --- |\n",
    "| Frontend API Call | [Website Link](https://dumbtrade.duckdns.org/projects/portfoli0/) | [Link to code](https://github.com/gigtieup/GroupA/blob/main/bp_projects/templates/bp_projects/portfoli0.html#L21-L35) | \n",
    "| Editing the dom | [Website Link](https://dumbtrade.duckdns.org/projects/portfoli0/) | [link to code](https://github.com/gigtieup/GroupA/blob/main/bp_projects/templates/bp_projects/portfoli0.html#L38-L68)\n",
    "\n",
    "Finally, I would like to note that while I may not be able to demonstrate the stock input process during class due to the API and connection, I have created a [video](https://www.example.com/) that provides a live demonstration of the entire process."
   ]
  },
  {
   "attachments": {},
   "cell_type": "markdown",
   "metadata": {},
   "source": [
    "| Reporting Category | Scoring | Explanation |\n",
    "| - | - | - |\n",
    "| Program Purpose & Algorithm Implementation | 2/2 | 4A & 2B: On the game section of our website there is an option for how many shares of a certain stock you would like to purchase (the input), the program will then multiply the stock price by the imputed value and give the product of the equation as the amount spent (output). |"
   ]
  },
  {
   "attachments": {},
   "cell_type": "markdown",
   "metadata": {},
   "source": [
    "Here is an example of how the code will work-"
   ]
  },
  {
   "cell_type": "code",
   "execution_count": null,
   "metadata": {
    "vscode": {
     "languageId": "html"
    }
   },
   "outputs": [],
   "source": [
    "<body>\n",
    "  <head>\n",
    "    <script>\n",
    "    function notify() {\n",
    "      alert(document.getElementById(\"result\").innerHTML = \"Result: \" + result);\n",
    "    }\n",
    "    </script>\n",
    "    </head>\n",
    "<body>\n",
    "<p id=\"result\"></p>\n",
    "\n",
    "\n",
    "<script>\n",
    "  function multiplyByTwo() {\n",
    "    var num = document.getElementById(\"numInput\").value;\n",
    "    var result = num * 141.86;\n",
    "    alert(document.getElementById(\"result\").innerHTML = \"Just confirming the transaction of $\" + result);\n",
    "  }\n",
    "</script>\n",
    "</body>"
   ]
  },
  {
   "attachments": {},
   "cell_type": "markdown",
   "metadata": {},
   "source": [
    "| Reporting Category | Scoring | Explanation |\n",
    "| - | - | - |\n",
    "| Data Abstraction & Managing Complexity | 2/2 | 3B & 3C: On the section of the website referred to as the “game” the output to the code above will be stored in a list and when called upon will subtract the stored (listed) values from your wallet (your cash holdings). The same information will be pulled to display a visual of your earning report when the game is finished playing. |"
   ]
  },
  {
   "attachments": {},
   "cell_type": "markdown",
   "metadata": {},
   "source": [
    "Here is an example of how the code will work-"
   ]
  },
  {
   "cell_type": "code",
   "execution_count": null,
   "metadata": {},
   "outputs": [],
   "source": [
    "def store_input_in_list():\n",
    "    input_list = []\n",
    "    input_value = input(\"Enter a value: \")\n",
    "    input_list.append(input_value)\n",
    "    return input_list\n",
    "\n",
    "\n",
    "print(store_input_in_list())"
   ]
  },
  {
   "attachments": {},
   "cell_type": "markdown",
   "metadata": {},
   "source": [
    "| Reporting Category | Scoring | Explanation |\n",
    "| - | - | - |\n",
    "| Procedural Abstraction | 1/1 | 3B: The values that were stored in the list above will be pulled and added to the players/users wallet (cash holdings) to display a new cash holding price (output)  |"
   ]
  },
  {
   "attachments": {},
   "cell_type": "markdown",
   "metadata": {},
   "source": [
    "An example of the code is shown below-"
   ]
  },
  {
   "cell_type": "code",
   "execution_count": null,
   "metadata": {},
   "outputs": [],
   "source": [
    "def add_to_10000(input_list):\n",
    "    value = input_list[0]\n",
    "    result = int(value) + 10000\n",
    "    return result\n",
    "\n",
    "\n",
    "input_list = [5]\n",
    "print(add_to_10000(input_list))"
   ]
  }
 ],
 "metadata": {
  "kernelspec": {
   "display_name": "base",
   "language": "python",
   "name": "python3"
  },
  "language_info": {
   "name": "python",
   "version": "3.9.12"
  },
  "orig_nbformat": 4,
  "vscode": {
   "interpreter": {
    "hash": "f4522448fa03726c480e11d9815ce2c412646a9816150097c8daa961a4b73c1a"
   }
  }
 },
 "nbformat": 4,
 "nbformat_minor": 2
}
