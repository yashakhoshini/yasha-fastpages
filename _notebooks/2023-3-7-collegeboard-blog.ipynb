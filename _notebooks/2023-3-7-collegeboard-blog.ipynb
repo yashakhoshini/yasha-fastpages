{
 "cells": [
  {
   "attachments": {},
   "cell_type": "markdown",
   "metadata": {},
   "source": [
    "# Collegeboard Blog\n",
    "> Blogging about the final collegeboard quiz\n",
    "\n",
    "- toc: true \n",
    "- badges: true\n",
    "- comments: true\n",
    "- categories: [markdown, collegeboard]"
   ]
  },
  {
   "attachments": {},
   "cell_type": "markdown",
   "metadata": {},
   "source": [
    "![](https://lh3.googleusercontent.com/f8runej98uCzPCKcN46QpaMTPH4_HE_aUFyd4VF58Ml9x8sSRGTLj5RveYzIV89uT9lkQt0dn6sTr939TDnmvnPSF792U0dvOsXswgvxlOh0vzL6IdLmokDL0FAcjTQtbGJgrwR3O0ZkCVF-DbxCNTkYBDrzcRkb86twNpmayelM0WxChfoYxNAyK3gO0f2P2HyBEqE53RWPk1XwFmZPL-VVncrq8k6fjUunvamDovVvn-bbWPZJn-Jz-d2GUrn8qTeY-dXdHXxZfC7hqCj5i9nYaFlasBHfjFiGgJuSb2vYj9d-4Kl87dexnw2XZcVbYMkVYgaNmB-YxRWO9jGcW2U5aK142O1u-6hpcU28eyL05yr2ZGybtksKEmISIHMi9l34oAz8tIxKt11Jub4A9hgb15fMBhe_iy8kK07aoThoGXrfM244Ip-iJP2jp_lqd_qoXnmqJ9jn7Rx2Jld-e_0CgNZwvkwZU6wJcvOjp7CDtLMVorfTtPiiWSTjnfKpN0fo9zp7tRbmdk1SII53RVAz6iCBcwmTFijSNPn-FPykziyM3opJ4pvL6u8NbyQsXKxSWUecOs5fWdj7qAexYrIdWJeHwUMb6fKPc3SkPXlh8_p-P-IiZGUI3VdrjkwoMS5UD8gou8MiBRVM5SCkHCbQ9-7KirLeEGZZyHX2QfNU_aGItqFKy9R-3Zw9C9ypGV0TT9mOvNmvnxVnNJdxmWSc7JTHbtJI1ry2o_6v24c1BTemziUDqBbWyG_AKf11hRze_gnvTyL4Kqcm62EM3rIynvbrSui4XML5dE7f0qEuvLWJIYbKLCVrVKxE7xrENxBgzTqXPYcyXXYngYXurNoTP1S7t2_Fa_6fP68apSUUMAhZOMi0kYRfIv1-M7Mugk3CsiePpNpCZNtDCx8PHF_TMOVvX4YpybVTth0NNOyQ=w434-h220-no?authuser=0) \n",
    "\n",
    "I was wrong on this because I didn't know that a school provides a laptop or tablet computer to all students enrolled at the school."
   ]
  },
  {
   "attachments": {},
   "cell_type": "markdown",
   "metadata": {},
   "source": [
    "![](https://lh3.googleusercontent.com/pFjAtXib5tDFqNQKPbQax25gYm_CAr9LlQqmY2QBpIzNoNHnl5LOF-eHbr_tKLRFIpMDXeifWdku5HotuCBKwix09arEDWzMUG-uxaFJvsf-xxFEgcqyVxhShAkkt6GcvPJ1lEykkWnKAoiwNZTYfc4sU57SiH2q7hk__iY9DNhXI2OagpKvoohC49t-4R9fXsTEidFZGtAihKoOw6-z_F8S1djG7VcjQC9JYSObrApC4oXYzfj1nLY7JQUG1GSjARxDPr7TtJ7oackQF5_FzXDgY5bAMK9FnrgBWRNsT_6Vn-cq6aD_l4oHvWdMZNtF5iEZLk9NZdPxyFD0vwY9jzsNz8MM3qQTXsziGCGjKqJpnQtwY46yAZCFPpjiHP1rc5vIi9Otw3sS6wmShHbs7_AwbzMscs7GmYMrNaYEToztZv3W7hOgLPWQ0oEvD5ciphK3sFclYhLdt89gnHnvIuHaa7tCLTBWZYYizuYV64LcNoRi24gGk5TWeKAdAhTb5NZPdwgFmn0iW-sEmJ8XoPVCegS3b8MFBchq13V9myqXBuneAQorXIVH0iLT8CGHPJzmj_euwQwmjgjJl5_2DxQNh1R60FJD_o0Yejx_LZnD1EUSXfgkkXt-Rd7o71ZYNIr5d-OSYSt9dxkN20nKoy3Imym_99F2kRFtScg8S3M-_g3Qj_kPRiKQPSciPdpPyauXxNE60ouURIOXpz78vaiQ2_auazH0j7Xu7S2mYFM3FlQvCjMWHNlyMxRfxqtN-5wRmiszizEa9jF6WQ7xfZyx--8PYMHkEA22XLDBCUe4WNK4gpPweV0M8x4vysil91ZCsIwp99aSZd6439K2F_DsCHONvoiT5oxOXbYknWTURrdEyqR6aCx6GuSwwrCAxVO3b630uYQnmYbfCPGLT9TCVNN8U2-awD3boQvCvyHu=w252-h204-no?authuser=0)\n",
    "\n",
    "Correct. To remove the first 2 characters of oldString, this code segment takes a substring starting at position 3. To remove the last 2 characters of oldString, the substring ends at the position that is 4 characters less than the length of oldString (since 4 characters are removed)."
   ]
  },
  {
   "attachments": {},
   "cell_type": "markdown",
   "metadata": {},
   "source": [
    "![](https://lh3.googleusercontent.com/Q8a4KzBKQopH-K5Mcbu_FmKr8hwPd-aIvfsga0Pl8C_qvEMTaDgwFuEanaPZf2_7JX140DYFnNSKc-KRdYwIYDnv5LNgRbCWIL8IRE9yrGIWrMvzdjKKF7BdWxOMApwfdsgajUhSPcosgbmqAV8YgYNgAhQ2fCICRHYV7xV4bhx5O6nCUDdlwI9pFDg8pYXiTR0RgwvVG6KkftOrkOTV8LWuR0C_JsUVmANG2EYCN1dTfqw1G-wO1bpyecGTZcG_3x_HYcvOkbJ_tbA50WVJKf3cE5G-zZAl7Ap0qBos_Dgy9UsGhwqNaBuv3t3Cwnwes-7vHssQDQByPS8MUmqlNN8skFphCCBN-rzTVQtOs-ORAv0MH85V_A6tWFKFtZut525APOUVLuqDF_mijn-VRCtGMaM3i2QxmPIA6WKV3wKjScM7dxiFXW_Isd3gQavzqpCj0lXHjslZL5hIcOsrOQuF83NTudUWluCBwtkMH4A9LFfkEfwS7y7jeHL8aKOWVA5AUtlYBD8qdQE8orBxyoti2-nxpg33Ug_lVODYlSO2JFVMbGrZchFAsspwzUu39H8tip8kjma0cOboM3JejQzisyz3W05DKOS-jXeeR93ZXF6Js0lx9m7ycGGcvBjCIdLEk7e9vBndyXmCu0Z2SgJg51XFmnTcUOxODW31Df_OtvqJAC7Y3CvFCS6ZXJ6rgh6MoiKZ8-hyfQeFY76SQkoyzu4huToLJ-Q-31sWenO7EElPXXvB1Qz3UplU-Ajcmt2QREwjdsK3O52lI-MDYGlz24W1-gL2-805ZqoD_ovd5goFirLDacMgUCnaE-DOctdiVEHuEorJIb1UXAcE9lZKMntM01LphTcX5LSkeHJlM_vs_B63MaA4rkOM8mZxqAzclG8rtFkgtqUKojWgv-isAxACObjCsbtYZKGSFaDP=w1794-h948-no?authuser=0)\n",
    "\n",
    "Incorrect. A binary search will work on any sorted list, regardless of whether the number of elements in the list is even."
   ]
  },
  {
   "attachments": {},
   "cell_type": "markdown",
   "metadata": {},
   "source": [
    "![](https://lh3.googleusercontent.com/XMYqK4STuBJctsWX_QawkGx34ko13KcPHZq9JrcAy8PRu42Yojad0khoskHUiw_hsRhvD_Vf3sEuNHeJDWD7V918Fi5MNKR_94zgBqkoUhNNB6JjqLpAJ_mpHRBfJ5e2wFdiqSB_eGkQKGAjlyBbXlrNsC2dlyImkOsbcEwwQVlxdmmL6ajUp96RoPaynRQ18YR-Yg2wCKN5gfelzCkSjrEtxxOHglIXJB2BFXzixTBCFyvTHDzLb-BYBBLmvBlD-5m1GLFaNAv_17bk10VCy7zvYUvLmBx_p2t8rMzlbU4lVcnCZUm1ScRIsFY6hEJnoRebX-ovPed9vpbAcXKxM3xG-oNxMOYvsHs0pq5uN0dXob-3n2iXU2h53c6qTbEofwA3-Qcf0EfGkNgcdEJIjSz2syuYahyb7S3EmnXKqgfD72Xh2Inq5EneOOCe_jGnsW2uPeaa2JlMdgAWnyX1E3ecbBA9Gvmpy8QGEvJGp9UotsQV31a7TlnVr9r2vshrZWMcwZUFbFcozf6Jua4HdjN4yv97qd9HJqr3X3zv0puh6cfGwz_DpKavPqLpGcvn08qB31jHL1E10ZFa2pwL1M2DYvhofJmtPiR9olK6FUAVhdA3hDrnXmPBMsA4eQ6e1BeCN3ODevlBN1KJjWCyCODSlt6W8OAJaQDpAbGcBfHAgcY9HKJkkJ-iwG6cjagKZd71T8qF5aL3kekoi5ykGB6A-9rLI9A18oG_FXygSphpf0cDJ07_yi43kKk-kHzyMl-X5SHnAwFwEhSvZVM1o9swRS-8mOxO_9_yBA4KwxhKP9cULTGSFYC0kz6LU9lAQPJkYrm2SkWhTJSOoWtmyJEbtvaBHsiNlifYRZ17s4u1jWDppS7fz9X1nNKbvhAvxyaM6sjLLf_IMsTkWiE-SDqOlR3fC7HKkpaqywzA7Pg2=w1794-h998-no?authuser=0)\n",
    "\n",
    "Answer D is correct aswell because procedures created to solve subproblems of a larger problem are called by name."
   ]
  }
 ],
 "metadata": {
  "language_info": {
   "name": "python"
  },
  "orig_nbformat": 4
 },
 "nbformat": 4,
 "nbformat_minor": 2
}
