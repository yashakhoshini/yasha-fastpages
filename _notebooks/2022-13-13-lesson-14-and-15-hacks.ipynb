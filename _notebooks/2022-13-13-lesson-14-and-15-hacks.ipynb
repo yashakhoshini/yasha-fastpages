{
 "cells": [
  {
   "cell_type": "markdown",
   "metadata": {},
   "source": [
    "# Lesson 14 and 15 Hacks\n",
    " \n",
    "- title: Unit 3 Sections 14 and 15\n",
    "- toc: true\n",
    "- categories: [ap csp, unit 3, section 14, section 15, lesson]"
   ]
  },
  {
   "cell_type": "markdown",
   "metadata": {},
   "source": [
    "1. In your own words, what is a library?\n",
    "    - A library is a collection of pre-written code that provides commonly-used functionality that can be easily incorporated into a program.\n",
    "2. Why are libraries useful when writing a program?\n",
    "    - Libraries are useful when writing a program because they provide pre-written code that can be easily incorporated into your own program, which saves time and effort. \n",
    "\n",
    "3. What keyword is used to add a pre-made library?\n",
    "    - key word: import"
   ]
  },
  {
   "cell_type": "markdown",
   "metadata": {},
   "source": [
    "#### Hacks 3.14.1\n",
    "\n",
    "Write a program that uses a library/libraries in any sort of manner.\n",
    "Explain your work/code"
   ]
  },
  {
   "cell_type": "code",
   "execution_count": 6,
   "metadata": {},
   "outputs": [
    {
     "name": "stdout",
     "output_type": "stream",
     "text": [
      "70\n"
     ]
    }
   ],
   "source": [
    "import random\n",
    "\n",
    "def main():\n",
    "  # Generate a random integer between 1 and 100\n",
    "  random_number = random.randint(1, 100)\n",
    "  \n",
    "  # Print the random number\n",
    "  print(random_number)\n",
    "  \n",
    "if __name__ == '__main__':\n",
    "  main()\n"
   ]
  },
  {
   "cell_type": "markdown",
   "metadata": {},
   "source": [
    "#### Hacks for lesson 3.15.1\n",
    "- Write a few lines of code that implements the import function\n",
    "\n",
    "- Define what an import random function do\n",
    "    - the import random function defines a series of functions for generating or manipulating random integers\n",
    "- List a few other things that we can import other than random\n",
    "    - math\n",
    "    - flask\n",
    "    - os\n",
    "    - sys\n",
    "    - datetime"
   ]
  },
  {
   "cell_type": "code",
   "execution_count": 17,
   "metadata": {},
   "outputs": [
    {
     "name": "stdout",
     "output_type": "stream",
     "text": [
      "17.320508075688775\n"
     ]
    }
   ],
   "source": [
    "# Import the math module\n",
    "import math\n",
    "\n",
    "# Use the sqrt function from the math module\n",
    "result = math.sqrt(300)\n",
    "print(result)  "
   ]
  },
  {
   "cell_type": "markdown",
   "metadata": {},
   "source": [
    "I am using the import statement to access the math module, which provides us with functions for doing math. Then, we use the math.sqrt() function to find the square root of 16 and print the result to the console."
   ]
  },
  {
   "cell_type": "code",
   "execution_count": 16,
   "metadata": {},
   "outputs": [
    {
     "name": "stdout",
     "output_type": "stream",
     "text": [
      "Waking up now!\n",
      "Eating breakfast now!\n",
      "Going to school now!\n"
     ]
    }
   ],
   "source": [
    "tasks = [\"wake up\", \"eat breakfast\", \"brush teeth\", \"go to school\"]\n",
    "\n",
    "def complete_tasks(tasks):\n",
    "  for task in tasks:\n",
    "# code to complete each task goes here\n",
    "\n",
    "    if task == \"wake up\":\n",
    "      print(\"Waking up now!\")\n",
    "    elif task == \"eat breakfast\":\n",
    "      print(\"Eating breakfast now!\")\n",
    "    elif task == \"go to school\":\n",
    "        print(\"Going to school now!\")\n",
    "\n",
    "# and so on for each task in the list\n",
    "\n",
    "# call the function to complete the tasks\n",
    "complete_tasks(tasks)\n"
   ]
  },
  {
   "cell_type": "markdown",
   "metadata": {},
   "source": [
    "#### Hacks 3.15.2\n",
    "- For your hacks you need to create a random number generator that will simulate this situation:\n",
    "\n",
    "- There is a spinner divided into eight equal parts. 3 parts of the spinner are green, two parts are blue, one part is purple, one part is red, and one part is orange. How can you simulate this situation using a random number generator."
   ]
  },
  {
   "cell_type": "code",
   "execution_count": 19,
   "metadata": {},
   "outputs": [
    {
     "name": "stdout",
     "output_type": "stream",
     "text": [
      "['orange']\n"
     ]
    }
   ],
   "source": [
    "import random\n",
    "\n",
    "# create a list of colors and their probabilities\n",
    "colors = [\"green\", \"green\", \"green\", \"blue\", \"blue\", \"purple\", \"red\", \"orange\"]\n",
    "\n",
    "# use the random.choices() function to generate a random color\n",
    "color = random.choices(colors, weights=None, cum_weights=None, k=1)\n",
    "\n",
    "# print the selected color\n",
    "print(color)"
   ]
  },
  {
   "cell_type": "markdown",
   "metadata": {},
   "source": [
    "- Also answer this question: What numbers can be outputted from RANDOM(12,20) and what numbers are excluded?\n",
    "    - The RANDOM function is a function in some programming languages (such as Excel and Google Sheets) that generates a random number between a given range of values. In the case of RANDOM(12, 20), the function will generate a random number between 12 and 20, inclusive.\n",
    "\n",
    "Answer: The RANDOM(12, 20) function will generate a random number between 12 and 20, inclusive. This means that the possible numbers that can be outputted by the function are 12, 13, 14, 15, 16, 17, 18, 19, and 20. No other numbers outside of this range will be generated by the function."
   ]
  }
 ],
 "metadata": {
  "kernelspec": {
   "display_name": "Python 3.9.12 ('base')",
   "language": "python",
   "name": "python3"
  },
  "language_info": {
   "codemirror_mode": {
    "name": "ipython",
    "version": 3
   },
   "file_extension": ".py",
   "mimetype": "text/x-python",
   "name": "python",
   "nbconvert_exporter": "python",
   "pygments_lexer": "ipython3",
   "version": "3.9.12"
  },
  "orig_nbformat": 4,
  "vscode": {
   "interpreter": {
    "hash": "f4522448fa03726c480e11d9815ce2c412646a9816150097c8daa961a4b73c1a"
   }
  }
 },
 "nbformat": 4,
 "nbformat_minor": 2
}
