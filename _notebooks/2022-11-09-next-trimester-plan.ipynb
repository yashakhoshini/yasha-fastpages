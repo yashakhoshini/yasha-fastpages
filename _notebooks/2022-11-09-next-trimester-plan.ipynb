{
 "cells": [
  {
   "cell_type": "markdown",
   "metadata": {},
   "source": [
    "# Plan for Next Trimester\n",
    "> Idea I had for next trimester that can help me with coding and possibly money-making\n",
    "\n",
    "- toc: true \n",
    "- badges: true\n",
    "- comments: true\n",
    "- categories: [NOTM, ]"
   ]
  },
  {
   "cell_type": "markdown",
   "metadata": {},
   "source": [
    "Next trimester I have big goals for myself, as of now, I dropship, run a clothing brand and trade stocks. These three side hustles have helped me and my friend make over 10 thousand dollars in profit! However this class has gave me the idea for something that could help me make a lot of money.\n",
    "\n",
    "Recently, I grew quite fond of indicators and was looking at the code behind some of them. Hopefully within the next few months I will be able to code my own indicator for tradingview and provide paid access for people that want to use it. I will most likely code it using PineScript which is built in on tradingview.\n",
    "\n",
    "![](https://s3.tradingview.com/l/lcOaqxkn_mid.png)"
   ]
  }
 ],
 "metadata": {
  "kernelspec": {
   "display_name": "Python 3.9.12 ('base')",
   "language": "python",
   "name": "python3"
  },
  "language_info": {
   "name": "python",
   "version": "3.9.12"
  },
  "orig_nbformat": 4,
  "vscode": {
   "interpreter": {
    "hash": "f4522448fa03726c480e11d9815ce2c412646a9816150097c8daa961a4b73c1a"
   }
  }
 },
 "nbformat": 4,
 "nbformat_minor": 2
}
