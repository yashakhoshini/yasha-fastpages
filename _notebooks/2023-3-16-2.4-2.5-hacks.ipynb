{
 "cells": [
  {
   "attachments": {},
   "cell_type": "markdown",
   "metadata": {},
   "source": [
    "# Unit 2.4 - 2.5 Hacks\n",
    "> Libraries\n",
    "- toc: true\n",
    "- comments: true\n",
    "- categories: [csp, jupyter]\n",
    "- tags: [python]\n",
    "- comments: true"
   ]
  },
  {
   "attachments": {},
   "cell_type": "markdown",
   "metadata": {},
   "source": [
    "#### Database and SQLAlchemy\n",
    "\n",
    "In this blog, I will explore the use of programs with data, specifically focusing on databases. The SQLite Database will be used to demonstrate how programs can be used with data. Debugging will also be used to examine the objects created in the code.\n",
    "\n",
    "The College Board discusses several ideas related to\n",
    "\n",
    "- the use of filter systems for finding information and patterns.\n",
    "- data management through classification and storage in tables\n",
    "- programming, including the iterative and interactive processing of information\n",
    "- gaining insights and knowledge from digitally represented information\n",
    "\n",
    "Other topics covered in this post include\n",
    "\n",
    "- PBL\n",
    "- databases\n",
    "- iterative programming Iterative programming refers to the repetition of a sequence of instructions until a specific end result is achieved.\n",
    "- OOP: programming model that organizes software design around objects, rather than functions and logic.\n",
    "- SQL: language used for programming, managing, and structuring data.\n",
    "\n",
    "Creation of Flask and SQLAlchemy Objects\n",
    "\n",
    "- I've seen the creation of Flask and SQLAlchemy objects in different programming scenarios. These objects are necessary in web development frameworks like Flask.\n",
    "\n",
    "Flask App Object\n",
    "\n",
    "- The Flask app object is an important component of the Flask framework. It represents the application and provides different methods and attributes for managing and configuring applications. It enables developers to define routes and register blueprints, which are groups of routes that can be used to organize the functionality within the application's.\n",
    "\n",
    "- I have personally seen the use of Flask app objects in creating APIs during trimesters 1 and 2 like the StockAPI. We used these objects to register new blueprints, which helped us create our API that connected the front-end and back-end of our application.\n",
    "\n",
    "SQLAlchemy DB Object\n",
    "\n",
    "- We also used the SQLAlchemy DB object to create our former database, mine being the stock database. When we assigned the SQLAlchemy object to the database object, we registered our database, enabling the creation of the SQLite data table and the database that contained all the data necessary. The SQLAlchemy DB object is a powerful tool for working with databases, providing a high-level interface for interacting with databases and facilitating the creation of complex database-driven applications.\n",
    "\n",
    "\n",
    "\n"
   ]
  },
  {
   "attachments": {},
   "cell_type": "markdown",
   "metadata": {},
   "source": [
    "### PERSONAL DATABASE"
   ]
  },
  {
   "cell_type": "code",
   "execution_count": 89,
   "metadata": {},
   "outputs": [],
   "source": [
    "\"\"\"\n",
    "These imports define the key objects\n",
    "\"\"\"\n",
    "\n",
    "from flask import Flask\n",
    "from flask_sqlalchemy import SQLAlchemy\n",
    "\n",
    "\"\"\"\n",
    "These object and definitions are used throughout the Jupyter Notebook.\n",
    "\"\"\"\n",
    "\n",
    "# Setup of key Flask object (app)\n",
    "app = Flask(__name__)\n",
    "# Setup SQLAlchemy object and properties for the database (db)\n",
    "database = 'sqlite:///sqlite.db'  # path and filename of database\n",
    "app.config['SQLALCHEMY_TRACK_MODIFICATIONS'] = False\n",
    "app.config['SQLALCHEMY_DATABASE_URI'] = database\n",
    "app.config['SECRET_KEY'] = 'SECRET_KEY'\n",
    "db = SQLAlchemy()\n",
    "\n",
    "\n",
    "# This belongs in place where it runs once per project\n",
    "db.init_app(app)"
   ]
  },
  {
   "cell_type": "code",
   "execution_count": 90,
   "metadata": {},
   "outputs": [],
   "source": [
    "import datetime\n",
    "\n",
    "import json\n",
    "\n",
    "from datetime import datetime\n",
    "\n",
    "from sqlalchemy.exc import IntegrityError\n",
    "\n",
    "\n",
    "\n",
    "class Banlist(db.Model):\n",
    "    __tablename__ = 'banlist'\n",
    "\n",
    "    # added this after getting an error that the table had already been defined\n",
    "    __table_args__ = {'extend_existing': True}\n",
    "\n",
    "\n",
    "    id = db.Column(db.Integer, primary_key=True)\n",
    "    name = db.Column(db.String(255), unique=True, nullable=False)\n",
    "    pastfive = db.Column(db.String(255), unique=False, nullable=False)\n",
    "    reason = db.Column(db.String(255), unique=False, nullable=False)\n",
    "\n",
    "    def __init__(self, name, pastfive, reason):\n",
    "        self.name = name\n",
    "        self.pastfive = pastfive\n",
    "        self.reason = reason\n",
    "\n",
    "    @property\n",
    "    def banlist_info(self):\n",
    "        return self.read()\n",
    "\n",
    "    def create(self):\n",
    "        try:\n",
    "            db.session.add(self)\n",
    "            db.session.commit()\n",
    "            return self\n",
    "        except IntegrityError:\n",
    "            db.session.remove()\n",
    "            return None\n",
    "\n",
    "    def read(self):\n",
    "        return {\n",
    "            \"id\": self.id,\n",
    "            \"name\": self.name,\n",
    "            \"pastfive\": self.pastfive,\n",
    "            \"reason\": self.reason,\n",
    "        }\n",
    "\n",
    "    def update(self, name=\"\", pastfive=\"\", reason=\"\", ):\n",
    "        if len(name) > 0:\n",
    "            self.name = name\n",
    "        if len(pastfive) > 0:\n",
    "            self.pastfive = pastfive\n",
    "        if len(reason) > 0:\n",
    "            self.reason = reason\n",
    "        db.session.commit()\n",
    "        return self\n",
    "\n",
    "    def delete(self):\n",
    "        db.session.delete(self)\n",
    "        db.session.commit()\n",
    "        return None"
   ]
  },
  {
   "cell_type": "code",
   "execution_count": 91,
   "metadata": {},
   "outputs": [
    {
     "name": "stdout",
     "output_type": "stream",
     "text": [
      "Created new uid ZACH LAVINE\n",
      "Records exist uid DONOVAN MITCHELL, or error.\n"
     ]
    }
   ],
   "source": [
    "\"\"\"Database Creation and Testing \"\"\"\n",
    "\n",
    "\n",
    "# Builds working data for testing\n",
    "def initBanlists():\n",
    "    with app.app_context():\n",
    "        \"\"\"Create database and tables\"\"\"\n",
    "        db.create_all()\n",
    "        \"\"\"Tester data for table\"\"\"\n",
    "        p1 = Banlist(name='ZACH LAVINE', pastfive='SHITE', reason='Sold me on 5 picks so far, them most inconsistent mf I have ever met.')\n",
    "        p2 = Banlist(name='DONOVAN MITCHELL', pastfive='DECENT', reason='Too inconsistent, performs highly some days and terrible on others')\n",
    " \n",
    "        # locals include age, name, date of birth, user id, etc.\n",
    "        # debugging allows you to go in to see if there is any problems with your code (ex. missing an attribute like user id)\n",
    "        # once you have your users, your sqlite.db file is created \n",
    "\n",
    "        banlists = [p1, p2]\n",
    "\n",
    "        \"\"\"Builds sample user/note(s) data\"\"\"\n",
    "        for banlist in banlists:\n",
    "            try:\n",
    "                '''add user to table'''\n",
    "                object = banlist.create()\n",
    "                print(f\"Created new uid {object.name}\")\n",
    "            except:  # error raised if object nit created\n",
    "                '''fails with bad or duplicate data'''\n",
    "                print(f\"Records exist uid {banlist.name}, or error.\")\n",
    "                \n",
    "initBanlists()\n",
    "\n"
   ]
  },
  {
   "cell_type": "code",
   "execution_count": 92,
   "metadata": {},
   "outputs": [],
   "source": [
    "def find_by_name(name):\n",
    "    with app.app_context():\n",
    "        game = Banlist.query.filter_by(name=name).first()\n",
    "    return game\n",
    "\n",
    "        \n",
    "#check_credentials(\"indi\", \"123qwerty\")\n"
   ]
  },
  {
   "attachments": {},
   "cell_type": "markdown",
   "metadata": {},
   "source": [
    "#### Create"
   ]
  },
  {
   "cell_type": "code",
   "execution_count": 102,
   "metadata": {},
   "outputs": [
    {
     "name": "stdout",
     "output_type": "stream",
     "text": [
      "Created\n",
      " {'id': 14, 'name': 'taiyo', 'pastfive': 'good', 'reason': 'hes terrible'}\n"
     ]
    }
   ],
   "source": [
    "\n",
    "def create():\n",
    "    # optimize user time to see if uid exists\n",
    "    name = input(\"Enter player name:\")\n",
    "    banlist = find_by_name(name)\n",
    "    try:\n",
    "        print(\"Found\\n\", banlist.read())\n",
    "        return\n",
    "    except:\n",
    "        pass # keep going\n",
    "    \n",
    "    # request value that ensure creating valid object\n",
    "    # pastfive = (\"Terrible\")\n",
    "    # reason = (\"Sold all my picks\")\n",
    "\n",
    "    pastfive = (input(\"How has he performed in the pastfive? (good, shite, amazing, etc.)\"))\n",
    "    reason = (input(\"Enter your reasoning\"))\n",
    "\n",
    "    # delete comments and update the code\n",
    "    \n",
    "    \n",
    "    # Initialize User object before date\n",
    "    banlist = Banlist(name=name, \n",
    "                pastfive=pastfive,\n",
    "                reason=reason,\n",
    "                )\n",
    "           \n",
    "    # write object to database\n",
    "    with app.app_context():\n",
    "        try:\n",
    "            object = banlist.create()\n",
    "            print(\"Created\\n\", object.read())\n",
    "        except:  # error raised if object not created\n",
    "            print(\"Unknown error name {name}\")\n",
    "        \n",
    "create()"
   ]
  },
  {
   "attachments": {},
   "cell_type": "markdown",
   "metadata": {},
   "source": [
    "#### Read"
   ]
  },
  {
   "cell_type": "code",
   "execution_count": 106,
   "metadata": {},
   "outputs": [
    {
     "data": {
      "text/plain": [
       "[{'id': 2,\n",
       "  'name': 'DONOVAN MITCHELL',\n",
       "  'pastfive': 'DECENT',\n",
       "  'reason': 'Too inconsistent, performs highly some days and terrible on others'},\n",
       " {'id': 3,\n",
       "  'name': 'Enter player name',\n",
       "  'pastfive': 'How has he performed in the pastfive? (good, shite, amazing, etc.)',\n",
       "  'reason': 'Enter your reasoning'},\n",
       " {'id': 4,\n",
       "  'name': 'Joel Embiid',\n",
       "  'pastfive': 'How has he performed in the pastfive? (good, shite, amazing, etc.)',\n",
       "  'reason': 'Enter your reasoning'},\n",
       " {'id': 5,\n",
       "  'name': '',\n",
       "  'pastfive': 'How has he performed in the pastfive? (good, shite, amazing, etc.)',\n",
       "  'reason': 'Enter your reasoning'},\n",
       " {'id': 8,\n",
       "  'name': 'alex kumaar',\n",
       "  'pastfive': 'Terrible',\n",
       "  'reason': 'Sold all my picks'},\n",
       " {'id': 9,\n",
       "  'name': 'quinn',\n",
       "  'pastfive': 'Terrible',\n",
       "  'reason': 'Sold all my picks'},\n",
       " {'id': 10,\n",
       "  'name': 'mort',\n",
       "  'pastfive': 'Terrible',\n",
       "  'reason': 'Sold all my picks'},\n",
       " {'id': 11,\n",
       "  'name': 'ZACH LAVINE',\n",
       "  'pastfive': 'SHITE',\n",
       "  'reason': 'Sold me on 5 picks so far, them most inconsistent mf I have ever met.'},\n",
       " {'id': 13,\n",
       "  'name': 'Yasha',\n",
       "  'pastfive': 'Terrible',\n",
       "  'reason': 'Sold all my picks'},\n",
       " {'id': 14, 'name': 'taiyo', 'pastfive': 'good', 'reason': 'hes terrible'},\n",
       " {'id': 15, 'name': 'yasha', 'pastfive': 'bad', 'reason': 'bad'}]"
      ]
     },
     "execution_count": 106,
     "metadata": {},
     "output_type": "execute_result"
    }
   ],
   "source": [
    "# SQLAlchemy extracts all users from database, turns each user into JSON\n",
    "def read():\n",
    "    with app.app_context():\n",
    "        table = Banlist.query.all()\n",
    "    json_ready = [banlist.read() for banlist in table]\n",
    "    return json_ready\n",
    "\n",
    "read()"
   ]
  },
  {
   "attachments": {},
   "cell_type": "markdown",
   "metadata": {},
   "source": [
    "#### Update"
   ]
  },
  {
   "cell_type": "code",
   "execution_count": 95,
   "metadata": {},
   "outputs": [
    {
     "name": "stdout",
     "output_type": "stream",
     "text": [
      "Current values:\n",
      "{'id': 12, 'name': 'mortenson', 'pastfive': 'Terrible', 'reason': 'Sold all my picks'}\n",
      "Updated values:\n",
      "{'id': 12, 'name': 'Mr. Mort', 'pastfive': 'idk', 'reason': 'Sold all my picks'}\n"
     ]
    }
   ],
   "source": [
    "def update():\n",
    "    # find the banlist to update\n",
    "    name = input(\"Enter the name of the Banlist to update: \")\n",
    "    banlist = find_by_name(name)\n",
    "    if not banlist:\n",
    "        print(\"player not found\")\n",
    "        return\n",
    "    \n",
    "    # print the current values\n",
    "    print(\"Current values:\")\n",
    "    print(banlist.read())\n",
    "    \n",
    "    # prompt the user for new values, allowing them to skip\n",
    "    new_name = input(f\"Enter a new player [{banlist.name}]: \")\n",
    "    if new_name:\n",
    "        banlist.name = new_name\n",
    "    new_pastfive = input(f\"Enter an updated pastfive game performances for this specific player\")\n",
    "    if new_pastfive:\n",
    "        banlist.pastfive = new_pastfive\n",
    "    new_reason = input(f\"Enter your reasoning for adding this player to the Banlist\")\n",
    "    if new_reason:\n",
    "        banlist.pastfive = new_reason\n",
    "\n",
    "    \n",
    "    # update the banlist in the database\n",
    "    with app.app_context():\n",
    "        try:\n",
    "            updated_banlist = banlist.update()\n",
    "            print(\"Updated values:\")\n",
    "            print(updated_banlist.read())\n",
    "        except:\n",
    "            print(\"Error updating banlist\")\n",
    "update()"
   ]
  },
  {
   "attachments": {},
   "cell_type": "markdown",
   "metadata": {},
   "source": [
    "#### Delete"
   ]
  },
  {
   "cell_type": "code",
   "execution_count": 109,
   "metadata": {},
   "outputs": [
    {
     "name": "stdout",
     "output_type": "stream",
     "text": [
      "Found\n",
      " {'id': 13, 'name': 'Yasha', 'pastfive': 'Terrible', 'reason': 'Sold all my picks'}\n",
      "Yasha taken off the banlist\n"
     ]
    }
   ],
   "source": [
    "def delete():\n",
    "    name = input(\"Enter the name of the player to delete:\")\n",
    "    banlist = find_by_name(name)\n",
    "    try:\n",
    "        print(\"Found\\n\", banlist.read())\n",
    "    except:\n",
    "        print(f\"banlist with name {name} not found\")\n",
    "        return\n",
    "    \n",
    "    # confirm deletion\n",
    "    confirm = input(\"Are you sure you want to delete this player? (y/n)\")\n",
    "    if confirm.lower() == 'y':\n",
    "        with app.app_context():\n",
    "            try:\n",
    "                banlist.delete()\n",
    "                print(f\"{name} taken off the banlist\")\n",
    "            except:  # error raised if object not deleted\n",
    "                print(f\"Unknown error deleting player named {name}\")\n",
    "    else:\n",
    "        print(f\"Deletion of {name} cancelled\")\n",
    "\n",
    "delete()"
   ]
  },
  {
   "attachments": {},
   "cell_type": "markdown",
   "metadata": {},
   "source": [
    "#### Menu"
   ]
  },
  {
   "cell_type": "code",
   "execution_count": 112,
   "metadata": {},
   "outputs": [
    {
     "name": "stdout",
     "output_type": "stream",
     "text": [
      "Created\n",
      " {'id': 17, 'name': 'KELLY OUBRE', 'pastfive': 'TERRIBLE', 'reason': 'HE WENT 0/20 FROM FG'}\n"
     ]
    }
   ],
   "source": [
    "def crudmenu():\n",
    "    selection = input(\"Enter a letter to select your option --> c: Create, r: Read, u: Update, d: delete\")\n",
    "    if selection.lower() == \"c\":\n",
    "        create()\n",
    "    elif selection.lower() == \"r\":\n",
    "        with app.app_context():\n",
    "            table = Banlist.query.all()\n",
    "        json_ready = [banlist.read() for banlist in table]\n",
    "        return json_ready\n",
    "    elif selection.lower() == \"u\":\n",
    "        update()\n",
    "    elif selection.lower() == \"d\":\n",
    "        delete()\n",
    "    else:\n",
    "        selection = input(\"Please enter a valid letter --> c: Create, r: Read, u: Update, D: delete\")\n",
    "\n",
    "crudmenu()"
   ]
  }
 ],
 "metadata": {
  "kernelspec": {
   "display_name": "base",
   "language": "python",
   "name": "python3"
  },
  "language_info": {
   "codemirror_mode": {
    "name": "ipython",
    "version": 3
   },
   "file_extension": ".py",
   "mimetype": "text/x-python",
   "name": "python",
   "nbconvert_exporter": "python",
   "pygments_lexer": "ipython3",
   "version": "3.9.12"
  },
  "orig_nbformat": 4
 },
 "nbformat": 4,
 "nbformat_minor": 2
}
