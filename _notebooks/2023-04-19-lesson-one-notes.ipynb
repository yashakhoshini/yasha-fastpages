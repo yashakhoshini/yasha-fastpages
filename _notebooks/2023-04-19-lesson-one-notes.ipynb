{
 "cells": [
  {
   "attachments": {},
   "cell_type": "markdown",
   "metadata": {},
   "source": [
    "# Lesson one hacks\n",
    "> Hacks from lesson one\n",
    "\n",
    "- toc: true \n",
    "- badges: true\n",
    "- comments: true\n",
    "- categories: [markdown, python]"
   ]
  },
  {
   "attachments": {},
   "cell_type": "markdown",
   "metadata": {},
   "source": [
    "# Hacks: Your Score/1\n",
    "\n",
    "\n",
    "## General 0.3\n",
    "- Copy this noteboook into your personal fastpages\n",
    "- Answer all questions\n",
    "    - put the question in a new markdown block (so we can grade faster)\n",
    "\n",
    "## Iteration 0.2 (can get up to 0.23)\n",
    "- Get to level 5\n",
    "    - Take ScreenShots of your name inside the box an put them in your ticket\n",
    "- Create a code segment with iteration that does something cool\n",
    "\n",
    "## 2D array 0.2 (can get up to 0.23)\n",
    "- Explain how the tic tac toe game works\n",
    "- Give 3 Examples of games that can be made from 2D arrays\n",
    "\n",
    "## List and Dictionaries 0.2 (can get up to 0.23)\n",
    "- Explain the differences between Lists and Dictionaries\n",
    "- Make a code block that manipulates either a list or a dictionary"
   ]
  }
 ],
 "metadata": {
  "language_info": {
   "name": "python"
  },
  "orig_nbformat": 4
 },
 "nbformat": 4,
 "nbformat_minor": 2
}
