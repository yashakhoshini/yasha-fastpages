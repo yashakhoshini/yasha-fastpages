{
 "cells": [
  {
   "attachments": {},
   "cell_type": "markdown",
   "metadata": {},
   "source": [
    "# Variables, Assignments, and Data Abstractions\n",
    "> Hacks and notes on 3.1 and 3.2\n",
    "\n",
    "- toc: true \n",
    "- badges: true\n",
    "- comments: true\n",
    "- categories: [collegeboard, ]"
   ]
  },
  {
   "cell_type": "markdown",
   "metadata": {},
   "source": [
    "## 3.1.1\n",
    " Blog:\n",
    "\n",
    "    Strings is a series of characters (numbers, letters, etc), one example of a string is your name or your id because strings can contain both numbers and letters.\n",
    "\n",
    "    Lists are sequences of elements with each element being a variable. An example of a list can be the names of the students in this classroom. \n",
    "\n",
    "    Assign variable that coorelates to the function so less errors are made\n",
    "\n",
    "    3 different data types that support different data\n",
    "\n",
    "        * integer (numbers)\n",
    "        * string (or text/letters)\n",
    "        * Boolean (True/False statements)\n",
    " \n",
    " - Questions:\n",
    "    1. What exactly IS a variable?\n",
    "\n",
    "        A variable is an abstraction inside a program that holds a value, where each variable has associated data storage that represents a single value at a time\n",
    "\n",
    "    2. What is the best data type to represent someone's dog's name?\n",
    "\n",
    "        String\n",
    "\n",
    "    3. Why is it important to give variables specific names before containing values?\n",
    "\n",
    "        So you don't get them mixed up\n",
    "\n",
    "    4. What is the best way to represent someone's phone number?\n",
    "\n",
    "        String\n",
    "\n",
    "    Bonus (Not required but important to know): \n",
    "    1. How can we update a variable's value\n",
    "\n",
    "        (blank) = updated version\n",
    "\n",
    "    2. What function is used to recieve a user's input?\n",
    "\n",
    "        Input\n",
    "\n",
    "\n",
    "Hacks: \n",
    "    Assignment Operater: The operator used to assign a new value to a variable, property, event or indexer element.\n",
    "        Example: X = 5\n",
    "    Collegeboard uses arrow symbols to assign a value to a variable.\n",
    "    A variable, x, is initially given a value of 15. Later on, the value for x is changed to 22. If you print x, would the command display 15 or 22? The variable would display 22.\n"
   ]
  },
  {
   "cell_type": "code",
   "execution_count": 2,
   "metadata": {},
   "outputs": [
    {
     "data": {
      "text/plain": [
       "15"
      ]
     },
     "metadata": {},
     "output_type": "display_data"
    }
   ],
   "source": [
    "# Changing a varaible's value that was initialy 22.\n",
    "x = 22\n",
    "x = 15\n",
    "display(x)"
   ]
  },
  {
   "cell_type": "markdown",
   "metadata": {},
   "source": [
    "## 3.1.2\n",
    "\n",
    "Questions:\n",
    "* What is a list?\n",
    "\n",
    "    Lists are sequences of elements with each element being a variable. An example of a list can be the names of the students in this classroom. \n",
    "\n",
    "* What is an element\n",
    "\n",
    "    A fragment of computer code (can be any piece of computer readable text)\n",
    "\n",
    "* What is an easy way to reference the elements in a list or string?"
   ]
  },
  {
   "cell_type": "code",
   "execution_count": 3,
   "metadata": {},
   "outputs": [
    {
     "name": "stdout",
     "output_type": "stream",
     "text": [
      "['argentina', 'portugal', 'france', 'spain']\n"
     ]
    }
   ],
   "source": [
    "WorldCup = [\"argentina\", \"portugal\", \"france\", \"spain\"]\n",
    "print(WorldCup)"
   ]
  },
  {
   "cell_type": "markdown",
   "metadata": {},
   "source": [
    "* What is an example of a string?"
   ]
  },
  {
   "cell_type": "code",
   "execution_count": 4,
   "metadata": {},
   "outputs": [
    {
     "name": "stdout",
     "output_type": "stream",
     "text": [
      "Hello Universe\n"
     ]
    }
   ],
   "source": [
    "print(\"Hello Universe\")"
   ]
  },
  {
   "cell_type": "markdown",
   "metadata": {},
   "source": [
    "## Hacks\n",
    "* Create a list with indices \n",
    "* Index a part of the list that you created.\n",
    "* Try to index from the end"
   ]
  },
  {
   "cell_type": "markdown",
   "metadata": {},
   "source": [
    "## 3.2.1\n",
    "\n",
    "Hacks\n",
    "\n",
    "- The following code is incomplete. Its intended purpose is to increase three numbers, all of which ask for user input, by an amount specified the user. The input code is abstracted, but the actual logic isn't connected to the abstraction."
   ]
  },
  {
   "cell_type": "code",
   "execution_count": 19,
   "metadata": {},
   "outputs": [
    {
     "name": "stdout",
     "output_type": "stream",
     "text": [
      "[30, 32, 34]\n"
     ]
    }
   ],
   "source": [
    "num1=input(\"Input a number. \")\n",
    "num2=input(\"Input a number. \")\n",
    "num3=input(\"Input a number. \")\n",
    "add=input(\"How much would you like to add? \")\n",
    "\n",
    "# Add code in the space below\n",
    "\n",
    "numlist = [int(num1), int(num2), int(num3)]\n",
    "\n",
    "# The following is the code that adds the inputted addend to the other numbers. It is hidden from the user.\n",
    "\n",
    "for i in range(len(numlist)):\n",
    "    numlist[i -1] += int(add)\n",
    "\n",
    "print(numlist)"
   ]
  },
  {
   "cell_type": "markdown",
   "metadata": {},
   "source": [
    "## 3.2.2\n",
    "\n",
    "Hacks\n",
    "- On a single markdown file:\n",
    "    - Insert a screenshot of your score on the python quiz\n",
    "\n",
    "    ![](https://lh3.googleusercontent.com/pw/AL9nZEU486nOVprlk5biVMeYT0vdNstL-OpRDiFEyIO3P4q5vMbIgFOYS258UEUvnPL4t0NAlvDiXQVr3uF6V0Uw4fmmi5pKJ6W5nkvfmebsZ_NnWQoumG_aiPu4Xv8zST_HhKaAqXeYCEO5TcwkZmJYlrceGrh-sfQpoQ3JbRzmxxkOeZxAegnpJHynOi5mbfYgPsHnF92p0nHlrt0QqAv4J7haPCisRAx5XMbjYqB18MczjE09znHhMSUl9sXBEUXDli9Nn7ykmLNueW-zwM-F0fzsiPxz8PkxmExjDLSxJkYm2PHYUPDaPe8cpSxUMlMUsyIqrsrvhEssJGJ2ih_1BOtvwN9otKhOidnR0SdEhY4SqoAQDjNlKPttIpvmwWnQdNQk2_jJl0xwFgCHn8NC-Oe1r31kyzhdzmwh5p66BLBH35HIQ61N0EIv7XPW0ioA9_m91wlAGPefIydgJJW29C6dT8fJ_lz6ZtHVv5RE5KpkzqvGsNwtgOvcmj6X1_Vyp3RDdGs1J4hYzfQpW9idoCshGKLXk0RCMHEQICPlacwTLfQp3qDMQ-MfwM-MUvGPyRz-g8xttLf24kRQrlC6e9XdlmeIoXrX8YSemGDkTh-f4PtKn2mTcj6GXYyZsHb0PsuoimglO4CSCu0gIb4oQ3IlqaNM4_h435iEUGc8eLlMNBHQJkIJ339w4Ak2nf3aVsRT_oqKLD9SmQb1sN5wNhGl2p4nqXUg0REAPFRUoQZV58RSuBD3n2oEnWVS7iRnQvZSpT5BC1LfrYwV9dxlsLPcn5t6MHmTwWis1LdQ9dt55OjFhy6z48vMqW_hd0Tsgn093VWbIPkLwly8wMg5zIQZH8i6mf7kdm5MJ4cUgWc1nvY3dnYjrn_lr-CnSmo5WvQPosxLq9nzlBbVz7l_ArUWBQ=w270-h220-no?authuser=0)\n",
    "\n",
    "    - Insert a screenshot of your simplifying of the food list\n"
   ]
  },
  {
   "cell_type": "code",
   "execution_count": 9,
   "metadata": {},
   "outputs": [
    {
     "data": {
      "text/plain": [
       "['pizza', 'hot dog', 'sushi', 'strawberry', 'sandwich']"
      ]
     },
     "metadata": {},
     "output_type": "display_data"
    }
   ],
   "source": [
    "Food = [\"pizza\", \"hot dog\", \"sushi\", \"strawberry\", \"sandwich\"]\n",
    "\n",
    "display(Food)"
   ]
  },
  {
   "cell_type": "markdown",
   "metadata": {},
   "source": [
    "- Why are using lists better for a program, rather than writing out each line of code?\n",
    "    \n",
    "    It's more efficent because rather than imputing data one by one you can do it way faster using lists.\n",
    "\n",
    "- Make your own list the \"long and slow way\" then manage the complexity of the list"
   ]
  },
  {
   "cell_type": "code",
   "execution_count": 8,
   "metadata": {},
   "outputs": [
    {
     "name": "stdout",
     "output_type": "stream",
     "text": [
      "Iran Switzerland Japan Ghana\n"
     ]
    }
   ],
   "source": [
    "country1 = \"Iran\"\n",
    "country2 = \"Switzerland\"\n",
    "country3 = \"Japan\"\n",
    "country4 = \"Ghana\"\n",
    "\n",
    "# Inputing values one by one\n",
    "\n",
    "print(country1, country2, country3, country4)"
   ]
  },
  {
   "cell_type": "code",
   "execution_count": 7,
   "metadata": {},
   "outputs": [
    {
     "data": {
      "text/plain": [
       "['Iran', 'Switzerland', 'Japan', 'Ghana']"
      ]
     },
     "metadata": {},
     "output_type": "display_data"
    }
   ],
   "source": [
    "countries = [\"Iran\", \"Switzerland\", \"Japan\", \"Ghana\", ]\n",
    "# Using a list to put values into the countries variable.\n",
    "display(countries)"
   ]
  }
 ],
 "metadata": {
  "kernelspec": {
   "display_name": "Python 3.10.6 64-bit",
   "language": "python",
   "name": "python3"
  },
  "language_info": {
   "codemirror_mode": {
    "name": "ipython",
    "version": 3
   },
   "file_extension": ".py",
   "mimetype": "text/x-python",
   "name": "python",
   "nbconvert_exporter": "python",
   "pygments_lexer": "ipython3",
   "version": "3.10.6"
  },
  "orig_nbformat": 4,
  "vscode": {
   "interpreter": {
    "hash": "aee8b7b246df8f9039afb4144a1f6fd8d2ca17a180786b69acc140d282b71a49"
   }
  }
 },
 "nbformat": 4,
 "nbformat_minor": 2
}
