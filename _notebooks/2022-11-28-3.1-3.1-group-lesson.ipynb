{
 "cells": [
  {
   "cell_type": "markdown",
   "metadata": {},
   "source": [
    "# Lesson Notes - 3.1 - 3.2\n",
    "> Hacks and notes on 3.1 and 3.2\n",
    "\n",
    "- toc: true \n",
    "- badges: true\n",
    "- comments: true\n",
    "- categories: [collegeboard, ]"
   ]
  },
  {
   "cell_type": "markdown",
   "metadata": {},
   "source": [
    "## 3.1.1\n",
    " - Questions:\n",
    "    1. What exactly IS a variable?\n",
    "\n",
    "        A variable is an abstraction inside a program that holds a value, where each variable has associated data storage that represents a single value at a time\n",
    "\n",
    "    2. What is the best data type to represent someone's dog's name?\n",
    "\n",
    "        String\n",
    "\n",
    "    3. Why is it important to give variables specific names before containing values?\n",
    "\n",
    "        So you don't get them mixed up\n",
    "\n",
    "    4. What is the best way to represent someone's phone number?\n",
    "\n",
    "        String\n",
    "\n",
    "    Bonus (Not required but important to know): \n",
    "    1. How can we update a variable's value\n",
    "\n",
    "        (blank) = updated version\n",
    "\n",
    "    2. What function is used to recieve a user's input?\n",
    "\n",
    "        Input\n",
    "\n",
    "\n",
    "Notes:\n",
    "\n",
    "    Strings is a series of characters (numbers, letters, etc), one example of a string is your name or your id because strings can contain both numbers and letters.\n",
    "\n",
    "    Lists are sequences of elements with each element being a variable. An example of a list can be the names of the students in this classroom. \n",
    "\n",
    "    Assign variable that coorelates to the function so less errors are made\n",
    "\n",
    "    3 different data types that support different data\n",
    "\n",
    "        * integer (numbers)\n",
    "        * string (or text/letters)\n",
    "        * Boolean (True/False statements)\n",
    "\n",
    "Hacks: \n",
    "    Assignment Operater: The operator used to assign a new value to a variable, property, event or indexer element.\n",
    "        Example: X = 5\n",
    "    Collegeboard uses arrow symbols to assign a value to a variable.\n",
    "    A variable, x, is initially given a value of 15. Later on, the value for x is changed to 22. If you print x, would the command display 15 or 22? The variable would display 22.\n"
   ]
  },
  {
   "cell_type": "code",
   "execution_count": 2,
   "metadata": {},
   "outputs": [
    {
     "data": {
      "text/plain": [
       "15"
      ]
     },
     "metadata": {},
     "output_type": "display_data"
    }
   ],
   "source": [
    "# Changing a varaible's value that was initialy 22.\n",
    "x = 22\n",
    "x = 15\n",
    "display(x)"
   ]
  },
  {
   "cell_type": "markdown",
   "metadata": {},
   "source": [
    "## 3.1.2\n",
    "\n",
    "Questions:\n",
    "* What is a list?\n",
    "\n",
    "    Lists are sequences of elements with each element being a variable. An example of a list can be the names of the students in this classroom. \n",
    "\n",
    "* What is an element\n",
    "\n",
    "    A fragment of computer code (can be any piece of computer readable text)\n",
    "\n",
    "* What is an easy way to reference the elements in a list or string?"
   ]
  },
  {
   "cell_type": "code",
   "execution_count": 3,
   "metadata": {},
   "outputs": [
    {
     "name": "stdout",
     "output_type": "stream",
     "text": [
      "['argentina', 'portugal', 'france', 'spain']\n"
     ]
    }
   ],
   "source": [
    "WorldCup = [\"argentina\", \"portugal\", \"france\", \"spain\"]\n",
    "print(WorldCup)"
   ]
  },
  {
   "cell_type": "markdown",
   "metadata": {},
   "source": [
    "* What is an example of a string?"
   ]
  },
  {
   "cell_type": "code",
   "execution_count": 4,
   "metadata": {},
   "outputs": [
    {
     "name": "stdout",
     "output_type": "stream",
     "text": [
      "Hello Universe\n"
     ]
    }
   ],
   "source": [
    "print(\"Hello Universe\")"
   ]
  },
  {
   "cell_type": "markdown",
   "metadata": {},
   "source": [
    "## Hacks\n",
    "* Create a list with indices \n",
    "* Index a part of the list that you created.\n",
    "* Try to index from the end \n",
    "\n",
    "### Create an index of your favorite foods\n",
    "Tips: Index starts at 1, Strings are ordered sequences of characters\n",
    "\n",
    "Extra work: Try to create an index that lists your favorite food and print the element at index 3.\n",
    "More work: Create a list of your favorite foods and create an index to access them.\n",
    "\n",
    "marks = [\"food1\"]"
   ]
  },
  {
   "cell_type": "markdown",
   "metadata": {},
   "source": [
    "## 3.2.1\n",
    "\n",
    "Hacks\n",
    "\n",
    "- The following code is incomplete. Its intended purpose is to increase three numbers, all of which ask for user input, by an amount specified the user. The input code is abstracted, but the actual logic isn't connected to the abstraction."
   ]
  },
  {
   "cell_type": "code",
   "execution_count": 19,
   "metadata": {},
   "outputs": [
    {
     "name": "stdout",
     "output_type": "stream",
     "text": [
      "[30, 32, 34]\n"
     ]
    }
   ],
   "source": [
    "num1=input(\"Input a number. \")\n",
    "num2=input(\"Input a number. \")\n",
    "num3=input(\"Input a number. \")\n",
    "add=input(\"How much would you like to add? \")\n",
    "\n",
    "# Add code in the space below\n",
    "\n",
    "numlist = [int(num1), int(num2), int(num3)]\n",
    "\n",
    "# The following is the code that adds the inputted addend to the other numbers. It is hidden from the user.\n",
    "\n",
    "for i in range(len(numlist)):\n",
    "    numlist[i -1] += int(add)\n",
    "\n",
    "print(numlist)"
   ]
  },
  {
   "cell_type": "markdown",
   "metadata": {},
   "source": [
    "## 3.2.2\n",
    "\n",
    "Hacks\n",
    "- On a single markdown file:\n",
    "    - Insert a screenshot of your score on the python quiz\n",
    "\n",
    "    <img src=”(https://lh3.googleusercontent.com/pw/AL9nZEVaUAytqUPYHYe7jvSB_sRpgsH33V8gMQALaw5hQB9L5m3X_PAbOgRbDXha6WPm0SwLXa0__dElRu27D_K8vG622B4BZ0rPLq38V2hEt8owgwJUYsdf9KfBi59UBG3FmSi8xu1tP4pyHnglpaZWynfx4nVx1Ma7DR49S2R-aMk8JCyQqyTj1OfYC9qSTQWYODhw2pAMo1FKUl5HywmHzMMIxdKNWSOSV50nhXxzOfoHPgJvw1iCDuDcAhUYaUa0dgTr4J1FbZpihaI3ouCcYlcD1gwezWMw4MnsFW7PFL0I_Be5LSWMhptwsL1tLVrp1kBhPyAW7AtWlXvBCH6niq007pYWo1w7my7A0Yb6MecUAWjxxn5jtXlM1hLtThiaZZ2aHBPYXxQCn4Slftr75U_1QeKOqQA_XLSv49CFOajojxJ8cltWfw7HA-kuG7LN-m9zX4bNpAyGwW8pAEuF5xs_Lcv7CN7Fmk6xqcn1YBu027dBm4OmHIg4QXj-KWjccLYpyTpdQs7bE8gaEX_2Wv-GFhHP71qWjhd_NgZGC68EiaHEvHNgQcQ391bQ_K5IRowgpW8rqgH6k69oYbDuXFqVxrwyHW3qJUvmqZ2QRoEe6ZiXH_qKWyZgvU0QEbeZr_D1HXwqomWBqqyJ-bnuPJxCcLPEpDLptT2bhcMhwyndWmmwjdcNJ3fHdw9DQRYtG9yLc69TmpoI9MlfpKP1wRsG1WlprdIDhuL7tAlmd4BFiKCzbYgdQBQzyYVac9znbqZPM_xxcETMc7V-G4wsdE0LTapF1F-GwPrabv_WcwKvEqwQiusbiUYpNLWQJS-5Wjw3tn9P1oipjSnWwD2bN1c_ZV-9qzfCy6hp4QBkZc-SwXAYz8wXBZ4paQp1z72UMXMTzgivXe-uZlmuNK4WNMiR4w=w1662-h1356-no?authuser=0)”>\n",
    "\n",
    "    - Insert a screenshot of your simplifying of the food list\n"
   ]
  },
  {
   "cell_type": "code",
   "execution_count": 9,
   "metadata": {},
   "outputs": [
    {
     "data": {
      "text/plain": [
       "['pizza', 'hot dog', 'sushi', 'strawberry', 'sandwich']"
      ]
     },
     "metadata": {},
     "output_type": "display_data"
    }
   ],
   "source": [
    "Food = [\"pizza\", \"hot dog\", \"sushi\", \"strawberry\", \"sandwich\"]\n",
    "\n",
    "display(Food)"
   ]
  },
  {
   "cell_type": "markdown",
   "metadata": {},
   "source": [
    "- Why are using lists better for a program, rather than writing out each line of code?\n",
    "    \n",
    "    It's more efficent because rather than imputing data one by one you can do it way faster using lists.\n",
    "\n",
    "- Make your own list the \"long and slow way\" then manage the complexity of the list"
   ]
  },
  {
   "cell_type": "code",
   "execution_count": 8,
   "metadata": {},
   "outputs": [
    {
     "name": "stdout",
     "output_type": "stream",
     "text": [
      "Iran Switzerland Japan Ghana\n"
     ]
    }
   ],
   "source": [
    "country1 = \"Iran\"\n",
    "country2 = \"Switzerland\"\n",
    "country3 = \"Japan\"\n",
    "country4 = \"Ghana\"\n",
    "\n",
    "# Inputing values one by one\n",
    "\n",
    "print(country1, country2, country3, country4)"
   ]
  },
  {
   "cell_type": "code",
   "execution_count": 7,
   "metadata": {},
   "outputs": [
    {
     "data": {
      "text/plain": [
       "['Iran', 'Switzerland', 'Japan', 'Ghana']"
      ]
     },
     "metadata": {},
     "output_type": "display_data"
    }
   ],
   "source": [
    "countries = [\"Iran\", \"Switzerland\", \"Japan\", \"Ghana\", ]\n",
    "# Using a list to put values into the countries variable.\n",
    "display(countries)"
   ]
  }
 ],
 "metadata": {
  "kernelspec": {
   "display_name": "Python 3.9.12 ('base')",
   "language": "python",
   "name": "python3"
  },
  "language_info": {
   "codemirror_mode": {
    "name": "ipython",
    "version": 3
   },
   "file_extension": ".py",
   "mimetype": "text/x-python",
   "name": "python",
   "nbconvert_exporter": "python",
   "pygments_lexer": "ipython3",
   "version": "3.9.12"
  },
  "orig_nbformat": 4,
  "vscode": {
   "interpreter": {
    "hash": "f4522448fa03726c480e11d9815ce2c412646a9816150097c8daa961a4b73c1a"
   }
  }
 },
 "nbformat": 4,
 "nbformat_minor": 2
}
