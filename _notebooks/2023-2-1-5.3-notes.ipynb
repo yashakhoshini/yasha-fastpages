{
 "cells": [
  {
   "attachments": {},
   "cell_type": "markdown",
   "metadata": {},
   "source": [
    "# 5.3 - 5.6 blog\n",
    "> Blogging on the topics crowdsourcing, computing bias, safe computing, and legal and ethical concerns\n",
    "\n",
    "- toc: true \n",
    "- badges: true\n",
    "- comments: true\n",
    "- categories: [markdown, notes]"
   ]
  },
  {
   "attachments": {},
   "cell_type": "markdown",
   "metadata": {},
   "source": [
    "## 5.3 Blog\n",
    "\n",
    "#### Intentional or Purposeful bias\n",
    "\n",
    "Google “What age groups use Facebook” vs “… TikTok”? What does the data say? Is there purposeful exclusion in these platforms? Is it harmful? Should it be corrected? Is it good business?\n",
    "\n",
    "- 60% of tiktok users are 16-24\n",
    "- 23.7% of facebook users in the us aged between 25-34\n",
    "- Tiktok is much faster pased than Facebook therefore teenagers and young adults are more addicted to it / enjoy it more.\n",
    "- Facebook mainly targets their audience towards the older portion\n",
    "- Tiktok content creators are mostly teenagers to very young adults.\n",
    "- Tiktok could potentially be harmful because it stimulates your brain to a unhealthy extent. People become addicted and therefore can't stop because it is their source of dopamine.\n",
    "- It is good business because tiktok is one of the most popular social media apps in the world right now.\n",
    "\n",
    "Why do virtual assistants have female voices? Amazon, Alexa Google, Apple Siri. Was this purposeful? Is it harmful? Should it be corrected? Is it good business?\n",
    "\n",
    "- Virtual assistants may have female voices because it's soothing to many.\n",
    "- This is purpoesful because people prefer a women's voice over a mans.\n",
    "- It could be harmful to masculinity\n",
    "\n",
    "Talk about an algorithm that influences your decisions, think about these companies (ie FAANG - Facebook, Amazon, Apple,Netflix, Google)\n",
    "\n",
    "- One algorithm that influences my decisions is ESPN because I do sportsbetting and ESPN stats convince me to make my decisions."
   ]
  },
  {
   "attachments": {},
   "cell_type": "markdown",
   "metadata": {},
   "source": [
    "## 5.4 Blog\n",
    "\n",
    "#### Crowdsourcing\n",
    "\n",
    "CompSci has 150 ish principles students. Describe a crowdsource idea and how you might initiate it in our environment?\n",
    "\n",
    "- To implement a crowdsource idea in our environment, I could organize activities that involve selecting one member from each group and forming a new group with participants from different groups. The new group members would then discuss ways to improve each other's projects and share at least one idea with everyone else.\n",
    "\n",
    "What about Del Norte crowdsourcing? Could your project be better with crowdsourcing?\n",
    "\n",
    "- Yes our project could potentially be way better with crowdsourcing because I am sure many other people I know or my group members know have similar projects that inlude the overall subject of stocks. Sharing ideas / implementation techniques could help us both benefit."
   ]
  },
  {
   "attachments": {},
   "cell_type": "markdown",
   "metadata": {},
   "source": [
    "## 5.5 Blog\n",
    "\n",
    "#### Legal and ethical concerns\n",
    "\n",
    "- If you create a GitHub repository, you will be prompted to choose a license type for your software. The MIT License and GPL License are two popular options. The MIT License permits the use, modification, and distribution of the software with minimal restrictions on commercial and non-commercial use, as long as the original copyright and license notices are included. On the other hand, the GPL License allows for similar freedoms, but requires the source code to be made available to anyone who receives a copy and derivative works to be licensed under the same terms as the original software.\n",
    "\n",
    "- In the context of software development, it is important to consider software licenses, digital rights, and legal and ethical considerations to protect intellectual property and ensure ethical practices. For instance, licensing can prevent software from being pirated and protect creators' rights. These complex and interrelated topics impact the development, distribution, and use of software.\n",
    "\n",
    "- If you were to create a license for personal use, the MIT License might be a good option as it allows for greater flexibility in the use and distribution of the software."
   ]
  },
  {
   "attachments": {},
   "cell_type": "markdown",
   "metadata": {},
   "source": [
    "## 5.6 Blog\n",
    "\n",
    "#### Safe Computing\n",
    "\n",
    "Describe PII you have seen on project in CompSci Principles.\n",
    "\n",
    "- I have seen many instances where peoples usernames, DOB's, and emails are used as part of a project. My project could potentially use dates to track when people bought and sold different types of stocks.\n",
    "\n",
    "What are your feelings about PII and your personal exposure?\n",
    "\n",
    "- Sharing PII is risky because you never know if the website you are sharing it to will use that information fraudulantly. Always make sure to confirm / check that your PII will not be used without your permission.\n",
    "\n",
    "Describe good and bad passwords? What is another step that is used to assist in authentication.\n",
    "\n",
    "- The difference between a good and bad factor is the guessing portion of it. Making it your birthday or your initial followed by your birthday simply just isn't smart because its easily guessable which is why face ID in my opinion is a better authentication route.\n",
    "\n",
    "Try to describe Symmetric and Asymmetric encryption.\n",
    "\n",
    "- Symmetric encryption is like using the same key to lock and unlock a door. The key is kept secret between the sender and receiver, and both use it to encrypt and decrypt the message.\n",
    "\n",
    "- symmetric encryption is like having two keys, one to lock and one to unlock a door. One key is kept secret by the owner, while the other key is publicly available. The owner uses their secret key to encrypt the message, and anyone with the public key can decrypt it. This means that the message can be sent securely without the need for the sender and receiver to share a secret key beforehand.\n",
    "\n",
    "Provide an example of encryption we used in AWS deployment.\n",
    "\n",
    "- In AWS, they use secret codes to lock up important stuff so that nobody can peek at it. For example, they put secret codes on their storage service called S3, and only people who have the right codes can see what's inside. AWS has a special tool called Key Management Service that helps them make these secret codes. It's like putting a lock on your diary so nobody else can read it!\n",
    "\n",
    "Describe a phishing scheme you have learned about the hard way. Describe some other phishing techniques.\n",
    "\n",
    "- One example of a phishing scheme I have learned about is the scam ads that pop up on popular websites like crunchyroll. Other techniques may include fake security notices or fake scenarios that make it seem like your in trouble or got hacked and you need to click the link to resolve it."
   ]
  },
  {
   "attachments": {},
   "cell_type": "markdown",
   "metadata": {},
   "source": [
    "#### Mort's Lesson\n",
    "\n",
    "- DHCP - Dynamic Host Configuration Protocol: A client/server protocol that automatically provides an Internet Protocol (IP) host with its IP address and other related configuration information such as the subnet mask and default gateway.\n",
    "\n",
    "- When you type domain in browser an IP address will be returned\n",
    "- When you go to github.io you get returned HTML\n",
    "- You also get HTTP\n",
    "- TCP - Trransmission Control Protocol, one of the main protocols in TCP/IP networks."
   ]
  }
 ],
 "metadata": {
  "kernelspec": {
   "display_name": "base",
   "language": "python",
   "name": "python3"
  },
  "language_info": {
   "name": "python",
   "version": "3.9.12"
  },
  "orig_nbformat": 4,
  "vscode": {
   "interpreter": {
    "hash": "f4522448fa03726c480e11d9815ce2c412646a9816150097c8daa961a4b73c1a"
   }
  }
 },
 "nbformat": 4,
 "nbformat_minor": 2
}
