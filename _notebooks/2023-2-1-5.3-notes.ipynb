{
 "cells": [
  {
   "attachments": {},
   "cell_type": "markdown",
   "metadata": {},
   "source": [
    "# 5.3 Notes\n",
    "> 5.3 conversation with new group and notes / blog\n",
    "\n",
    "- toc: true \n",
    "- badges: true\n",
    "- comments: true\n",
    "- categories: [markdown, notes]"
   ]
  },
  {
   "attachments": {},
   "cell_type": "markdown",
   "metadata": {},
   "source": [
    "#### Intentional or Purposeful bias\n",
    "\n",
    "Google “What age groups use Facebook” vs “… TikTok”? What does the data say? Is there purposeful exclusion in these platforms? Is it harmful? Should it be corrected? Is it good business?\n",
    "\n",
    "- 60% of tiktok users are 16-24\n",
    "- 23.7% of facebook users in the us aged between 25-34\n",
    "- Tiktok is much faster pased than Facebook therefore teenagers and young adults are more addicted to it / enjoy it more.\n",
    "- Facebook mainly targets their audience towards the older portion\n",
    "- Tiktok content creators are mostly teenagers to very young adults.\n",
    "- Tiktok could potentially be harmful because it stimulates your brain to a unhealthy extent. People become addicted and therefore can't stop because it is their source of dopamine.\n",
    "- It is good business because tiktok is one of the most popular social media apps in the world right now.\n",
    "\n",
    "Why do virtual assistants have female voices? Amazon, Alexa Google, Apple Siri. Was this purposeful? Is it harmful? Should it be corrected? Is it good business?\n",
    "\n",
    "- Virtual assistants may have female voices because it's soothing to many.\n",
    "- This is purpoesful because people prefer a women's voice over a mans.\n",
    "- It could be harmful to masculinity\n",
    "\n",
    "Talk about an algorithm that influences your decisions, think about these companies (ie FAANG - Facebook, Amazon, Apple,Netflix, Google)\n",
    "\n",
    "- One algorithm that influences my decisions is ESPN because I do sportsbetting and ESPN stats convince me to make my decisions."
   ]
  }
 ],
 "metadata": {
  "kernelspec": {
   "display_name": "base",
   "language": "python",
   "name": "python3"
  },
  "language_info": {
   "name": "python",
   "version": "3.9.12"
  },
  "orig_nbformat": 4,
  "vscode": {
   "interpreter": {
    "hash": "f4522448fa03726c480e11d9815ce2c412646a9816150097c8daa961a4b73c1a"
   }
  }
 },
 "nbformat": 4,
 "nbformat_minor": 2
}
