{
 "cells": [
  {
   "cell_type": "code",
   "execution_count": 3,
   "metadata": {},
   "outputs": [
    {
     "name": "stdout",
     "output_type": "stream",
     "text": [
      "you got 3 out of 4\n"
     ]
    }
   ],
   "source": [
    "class Question:\n",
    "     def __init__(self, prompt, answer):\n",
    "          self.prompt = prompt\n",
    "          self.answer = answer\n",
    " \n",
    "question_prompts = [\n",
    "     \"Chose the correct definision for a Vector (c++)\\n(a) A sequential container to store elements and NOT index based\\n(b) A fixed-size sequential collection of elements of the same type and it is index based\",\n",
    "     \"Can you reverse a string in Java?\\nyes/\\nno\",\n",
    "     \"Is Mr Mortenson the best APCSP teacher? \\nyes/\\nno\",\n",
    "     \"What is this letter? (y) \\n(y)\\n(p)\",\n",
    "]\n",
    " \n",
    "questions = [\n",
    "     Question(question_prompts[0], \"a\"),\n",
    "     Question(question_prompts[1], \"no\"),\n",
    "     Question(question_prompts[2], \"yes\"),\n",
    "     Question(question_prompts[3], \"y\"),\n",
    "]\n",
    " \n",
    "def run_quiz(questions):\n",
    "     score = 0\n",
    "     for question in questions:\n",
    "          answer = input(question.prompt)\n",
    "          if answer == question.answer:\n",
    "               score += 1\n",
    "     print(\"you got\", score, \"out of\", len(questions))\n",
    " \n",
    "run_quiz(questions)\n",
    " \n",
    "#_____/\\\\\\\\\\\\\\\\\\_____/\\\\\\\\\\\\\\\\\\\\\\\\\\__________/\\\\\\\\\\\\\\\\\\_____/\\\\\\\\\\\\\\\\\\\\\\____/\\\\\\\\\\\\\\\\\\\\\\\\\\___        \n",
    "# ___/\\\\\\\\\\\\\\\\\\\\\\\\\\__\\/\\\\\\/////////\\\\\\_____/\\\\\\////////____/\\\\\\/////////\\\\\\_\\/\\\\\\/////////\\\\\\_      \n",
    "#  __/\\\\\\/////////\\\\\\_\\/\\\\\\_______\\/\\\\\\___/\\\\\\/____________\\//\\\\\\______\\///__\\/\\\\\\_______\\/\\\\\\_      \n",
    "#   _\\/\\\\\\_______\\/\\\\\\_\\/\\\\\\\\\\\\\\\\\\\\\\\\\\/___/\\\\\\_______________\\////\\\\\\_________\\/\\\\\\\\\\\\\\\\\\\\\\\\\\/__    \n",
    "#    _\\/\\\\\\\\\\\\\\\\\\\\\\\\\\\\\\_\\/\\\\\\/////////____\\/\\\\\\__________________\\////\\\\\\______\\/\\\\\\/////////____    \n",
    "#     _\\/\\\\\\/////////\\\\\\_\\/\\\\\\_____________\\//\\\\\\____________________\\////\\\\\\___\\/\\\\\\_____________  \n",
    "#      _\\/\\\\\\_______\\/\\\\\\_\\/\\\\\\______________\\///\\\\\\___________/\\\\\\______\\//\\\\\\__\\/\\\\\\_____________  \n",
    "#       _\\/\\\\\\_______\\/\\\\\\_\\/\\\\\\________________\\////\\\\\\\\\\\\\\\\\\_\\///\\\\\\\\\\\\\\\\\\\\\\/___\\/\\\\\\_____________\n",
    "#        _\\///________\\///__\\///____________________\\/////////____\\///////////_____\\///______________\n"
   ]
  }
 ],
 "metadata": {
  "kernelspec": {
   "display_name": "Python 3.10.6 64-bit",
   "language": "python",
   "name": "python3"
  },
  "language_info": {
   "codemirror_mode": {
    "name": "ipython",
    "version": 3
   },
   "file_extension": ".py",
   "mimetype": "text/x-python",
   "name": "python",
   "nbconvert_exporter": "python",
   "pygments_lexer": "ipython3",
   "version": "3.10.6"
  },
  "orig_nbformat": 4,
  "vscode": {
   "interpreter": {
    "hash": "aee8b7b246df8f9039afb4144a1f6fd8d2ca17a180786b69acc140d282b71a49"
   }
  }
 },
 "nbformat": 4,
 "nbformat_minor": 2
}
