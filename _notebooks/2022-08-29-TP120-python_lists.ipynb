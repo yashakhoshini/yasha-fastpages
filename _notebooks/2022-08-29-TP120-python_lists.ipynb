{
 "cells": [
  {
   "cell_type": "markdown",
   "metadata": {},
   "source": [
    "# Lists, Dictionaries, Iteration\n",
    "> An introduction to Data Abstraction using Python Lists [] and Python Dictionaries {}.\n",
    "\n",
    "- title: Lists, Dictionaries, Iteration\n",
    "- toc: true\n",
    "- categories: [units]\n",
    "- permalink: /collegeboard/python_lists\n",
    "- image: /images/python_lists.png\n",
    "- categories: [collegeboard, python, techtalk, jupyter]"
   ]
  },
  {
   "cell_type": "markdown",
   "metadata": {},
   "source": [
    "## Python Variables and Types"
   ]
  },
  {
   "cell_type": "code",
   "execution_count": 28,
   "metadata": {},
   "outputs": [
    {
     "name": "stdout",
     "output_type": "stream",
     "text": [
      "name Yasha Khoshini <class 'str'>\n",
      "age 14 <class 'int'>\n",
      "score 100.0 <class 'float'>\n",
      "\n",
      "langs ['Python', 'JavaScript', 'Java', 'Bash', 'HTML'] <class 'list'>\n",
      "- langs[0] Python <class 'str'>\n",
      "langs[2]\n",
      "\n",
      "person {'name': 'Yasha Khoshini', 'age': 14, 'score': 100.0, 'langs': ['Python', 'JavaScript', 'Java', 'Bash', 'HTML']} <class 'dict'>\n",
      "- person[\"name\"] Yasha Khoshini <class 'str'>\n"
     ]
    }
   ],
   "source": [
    "# Sample of Python Variables\n",
    "\n",
    "# variable of type string\n",
    "name = \"Yasha Khoshini\"\n",
    "print(\"name\", name, type(name))\n",
    "\n",
    "# variable of type integer\n",
    "age = 14\n",
    "print(\"age\", age, type(age))\n",
    "\n",
    "# variable of type float\n",
    "score = 100.0\n",
    "print(\"score\", score, type(score))\n",
    "\n",
    "print()\n",
    "\n",
    "# variable of type list (many values in one variable)\n",
    "langs = [\"Python\", \"JavaScript\", \"Java\", \"Bash\", \"HTML\"]\n",
    "print(\"langs\", langs, type(langs))\n",
    "print(\"- langs[0]\", langs[0], type(langs[0]))\n",
    "print(\"langs[2]\")\n",
    "\n",
    "print()\n",
    "\n",
    "# variable of type dictionary (a group of keys and values)\n",
    "person = {\n",
    "    \"name\": name,\n",
    "    \"age\": age,\n",
    "    \"score\": score,\n",
    "    \"langs\": langs\n",
    "}\n",
    "print(\"person\", person, type(person))\n",
    "print('- person[\"name\"]', person[\"name\"], type(person[\"name\"]))\n"
   ]
  },
  {
   "cell_type": "markdown",
   "metadata": {},
   "source": [
    "## Defining InfoDB"
   ]
  },
  {
   "cell_type": "code",
   "execution_count": 2,
   "metadata": {},
   "outputs": [
    {
     "name": "stdout",
     "output_type": "stream",
     "text": [
      "\n",
      "\n",
      "[{'FirstName': 'yasha', 'LastName': 'khoshini', 'DOB': 'October 5', 'Residence': 'San Diego', 'Email': 'yashakhoshini@icloud.com', 'Worst EPL Team': 'Arsenal', 'Family Members': ['Kian', 'Iyla', 'Hedieh', 'Reza']}, {'FirstName': 'kian', 'LastName': 'khoshini', 'DOB': 'April 14', 'Residence': 'San Diego', 'Email': 'kiankhoshini@icloud.com', 'Worst EPL Team': 'Crystal Palace', 'Family Members': ['Yasha', 'Iyla', 'Hedieh', 'Reza']}]\n"
     ]
    }
   ],
   "source": [
    "# Define an empty List called InfoDb\n",
    "InfoDb = []\n",
    "\n",
    "# Append to List a Dictionary as a storage area that can be called in future code.\n",
    "InfoDb.append({\n",
    "    \"FirstName\": \"yasha\",\n",
    "    \"LastName\": \"khoshini\",\n",
    "    \"DOB\": \"October 5\",\n",
    "    \"Residence\": \"San Diego\",\n",
    "    \"Email\": \"yashakhoshini@icloud.com\",\n",
    "    \"Worst EPL Team\": \"Arsenal\",\n",
    "    \"Family Members\": [\"Kian\", \"Iyla\", \"Hedieh\", \"Reza\"]\n",
    "}) # InfoDb[0]\n",
    "\n",
    "InfoDb.append({\n",
    "    \"FirstName\": \"kian\",\n",
    "    \"LastName\": \"khoshini\",\n",
    "    \"DOB\": \"April 14\",\n",
    "    \"Residence\": \"San Diego\",\n",
    "    \"Email\": \"kiankhoshini@icloud.com\",\n",
    "    \"Worst EPL Team\": \"Crystal Palace\",\n",
    "    \"Family Members\": [\"Yasha\", \"Iyla\", \"Hedieh\", \"Reza\"]\n",
    "}) # InfoDb[1]\n",
    "\n",
    "\n",
    "print()\n",
    "print()\n",
    "\n",
    "# Print the data structure\n",
    "print(InfoDb)"
   ]
  },
  {
   "cell_type": "markdown",
   "metadata": {},
   "source": [
    "## For loop & Printing Data"
   ]
  },
  {
   "cell_type": "code",
   "execution_count": 30,
   "metadata": {},
   "outputs": [
    {
     "name": "stdout",
     "output_type": "stream",
     "text": [
      "For loop output\n",
      "\n",
      "yasha khoshini\n",
      "\t Residence: San Diego\n",
      "\t Birth Day: October 5\n",
      "\t Family Members: Kian, Iyla, Hedieh, Reza\n",
      "\t Worst EPL Team: Arsenal\n",
      "kian khoshini\n",
      "\t Residence: San Diego\n",
      "\t Birth Day: April 14\n",
      "\t Family Members: Yasha, Iyla, Hedieh, Reza\n",
      "\t Worst EPL Team: Crystal Palace\n"
     ]
    }
   ],
   "source": [
    "# Allowing  the InfoDb content to print\n",
    "def print_data(d_rec):\n",
    "    print(d_rec[\"FirstName\"], d_rec[\"LastName\"])  # using comma puts space between values\n",
    "    print(\"\\t\", \"Residence:\", d_rec[\"Residence\"]) # \\t is a tab indent\n",
    "    print(\"\\t\", \"Birth Day:\", d_rec[\"DOB\"])\n",
    "    print(\"\\t\", \"Family Members:\", \", \".join(d_rec[\"Family Members\"]))\n",
    "    print(\"\\t\", \"Worst EPL Team:\", d_rec[\"Worst EPL Team\"])\n",
    "\n",
    "\n",
    "\n",
    "# for loop iterates on length of InfoDb\n",
    "def for_loop():\n",
    "    print(\"For loop output\\n\")\n",
    "    for record in InfoDb:\n",
    "        print_data(record)\n",
    "\n",
    "for_loop()"
   ]
  },
  {
   "cell_type": "markdown",
   "metadata": {},
   "source": [
    "## While Loop"
   ]
  },
  {
   "cell_type": "code",
   "execution_count": 31,
   "metadata": {},
   "outputs": [
    {
     "name": "stdout",
     "output_type": "stream",
     "text": [
      "While loop output\n",
      "\n",
      "yasha khoshini\n",
      "\t Residence: San Diego\n",
      "\t Birth Day: October 5\n",
      "\t Family Members: Kian, Iyla, Hedieh, Reza\n",
      "\t Worst EPL Team: Arsenal\n",
      "kian khoshini\n",
      "\t Residence: San Diego\n",
      "\t Birth Day: April 14\n",
      "\t Family Members: Yasha, Iyla, Hedieh, Reza\n",
      "\t Worst EPL Team: Crystal Palace\n"
     ]
    }
   ],
   "source": [
    "# while loop contains an initial n and an index incrementing statement (n += 1)\n",
    "# InfoDB is always greater than variable \"i\" because it proves the statement true or else there will be no output.\n",
    "def while_loop():\n",
    "    print(\"While loop output\\n\")\n",
    "    i = 0\n",
    "    while i < len(InfoDb):\n",
    "        record = InfoDb[i]\n",
    "        print_data(record)\n",
    "        i += 1\n",
    "    return\n",
    "\n",
    "while_loop()"
   ]
  },
  {
   "cell_type": "markdown",
   "metadata": {},
   "source": [
    "## Recursive Loop"
   ]
  },
  {
   "cell_type": "code",
   "execution_count": 32,
   "metadata": {},
   "outputs": [
    {
     "name": "stdout",
     "output_type": "stream",
     "text": [
      "Recursive loop output\n",
      "\n",
      "yasha khoshini\n",
      "\t Residence: San Diego\n",
      "\t Birth Day: October 5\n",
      "\t Family Members: Kian, Iyla, Hedieh, Reza\n",
      "\t Worst EPL Team: Arsenal\n",
      "kian khoshini\n",
      "\t Residence: San Diego\n",
      "\t Birth Day: April 14\n",
      "\t Family Members: Yasha, Iyla, Hedieh, Reza\n",
      "\t Worst EPL Team: Crystal Palace\n"
     ]
    }
   ],
   "source": [
    "# recursion simulates loop incrementing on each call (n + 1) until exit condition is met\n",
    "def recursive_loop(i):\n",
    "    if i < len(InfoDb):\n",
    "        record = InfoDb[i]\n",
    "        print_data(record)\n",
    "        recursive_loop(i + 1)\n",
    "    return\n",
    "    \n",
    "print(\"Recursive loop output\\n\")\n",
    "recursive_loop(0)"
   ]
  },
  {
   "cell_type": "markdown",
   "metadata": {},
   "source": [
    "## For Loop with Index"
   ]
  },
  {
   "cell_type": "code",
   "execution_count": 33,
   "metadata": {},
   "outputs": [
    {
     "name": "stdout",
     "output_type": "stream",
     "text": [
      "yasha khoshini\n",
      "\t Residence: San Diego\n",
      "\t Birth Day: October 5\n",
      "\t Family Members: Kian, Iyla, Hedieh, Reza\n",
      "\t Worst EPL Team: Arsenal\n",
      "kian khoshini\n",
      "\t Residence: San Diego\n",
      "\t Birth Day: April 14\n",
      "\t Family Members: Yasha, Iyla, Hedieh, Reza\n",
      "\t Worst EPL Team: Crystal Palace\n"
     ]
    }
   ],
   "source": [
    "for index in range(len(InfoDb)):\n",
    "        print_data(InfoDb[index])"
   ]
  },
  {
   "cell_type": "markdown",
   "metadata": {},
   "source": [
    "## Reversing A List"
   ]
  },
  {
   "cell_type": "code",
   "execution_count": 34,
   "metadata": {},
   "outputs": [
    {
     "name": "stdout",
     "output_type": "stream",
     "text": [
      "before [5, 6, 7, 8, 9, 10]\n",
      "after [10, 9, 8, 7, 6, 5]\n"
     ]
    }
   ],
   "source": [
    "# Defining what mylist is\n",
    "mylist = [5, 6, 7, 8, 9, 10]\n",
    "print(\"before\", mylist)\n",
    "\n",
    "#Telling mylist to reverse\n",
    "mylist.reverse()\n",
    "\n",
    "# This is the reversed version\n",
    "print(\"after\", mylist)\n"
   ]
  }
 ],
 "metadata": {
  "kernelspec": {
   "display_name": "Python 3.10.6 64-bit",
   "language": "python",
   "name": "python3"
  },
  "language_info": {
   "codemirror_mode": {
    "name": "ipython",
    "version": 3
   },
   "file_extension": ".py",
   "mimetype": "text/x-python",
   "name": "python",
   "nbconvert_exporter": "python",
   "pygments_lexer": "ipython3",
   "version": "3.10.6"
  },
  "orig_nbformat": 4,
  "vscode": {
   "interpreter": {
    "hash": "aee8b7b246df8f9039afb4144a1f6fd8d2ca17a180786b69acc140d282b71a49"
   }
  }
 },
 "nbformat": 4,
 "nbformat_minor": 2
}
