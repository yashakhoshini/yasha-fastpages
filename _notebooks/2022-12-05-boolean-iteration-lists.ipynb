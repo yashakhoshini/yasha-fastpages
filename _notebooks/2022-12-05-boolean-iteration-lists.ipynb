{
 "cells": [
  {
   "attachments": {},
   "cell_type": "markdown",
   "metadata": {},
   "source": [
    "# Boolean Iteration and Lists\n",
    "> During this lesson sections 8 and 10 hacks will be completed\n",
    "\n",
    "- title: Unit 3 Sections 8 and 10\n",
    "- toc: true\n",
    "- comments: true\n",
    "- categories: [lesson plans]"
   ]
  },
  {
   "cell_type": "markdown",
   "metadata": {},
   "source": [
    "Iteration\n",
    "- repeating portion of an algorithm, repeats a specified number of times or until a given condition is met\n"
   ]
  },
  {
   "cell_type": "code",
   "execution_count": 16,
   "metadata": {},
   "outputs": [
    {
     "name": "stdout",
     "output_type": "stream",
     "text": [
      "you are less than 100 years old\n",
      "you are less than 100 years old\n",
      "you are less than 100 years old\n"
     ]
    }
   ],
   "source": [
    "# You can play around with this code!\n",
    "import random\n",
    "\n",
    "i = 10\n",
    "\n",
    "while (i < 100):\n",
    "     print('you are less than 100 years old')\n",
    "     i = i + 30\n",
    "     if (i > 100):\n",
    "        break"
   ]
  },
  {
   "cell_type": "code",
   "execution_count": 1,
   "metadata": {},
   "outputs": [
    {
     "name": "stdout",
     "output_type": "stream",
     "text": [
      "This did not affect you at all\n",
      "This did not affect you at all\n",
      "This did not affect you at all\n",
      "This did not affect you at all\n"
     ]
    }
   ],
   "source": [
    "nums = [44, 55, 33, 66, 77, 88, 99, 100]\n",
    "\n",
    "for n in nums:\n",
    "    if n % 2 == 0:\n",
    "        print('This did not affect you at all')"
   ]
  },
  {
   "cell_type": "markdown",
   "metadata": {},
   "source": [
    "Iteration Statement\n",
    "- Iteration statements cause statements to be executed zero or more times, subject to some loop-termination criteria"
   ]
  },
  {
   "cell_type": "code",
   "execution_count": 32,
   "metadata": {},
   "outputs": [
    {
     "name": "stdout",
     "output_type": "stream",
     "text": [
      "198\n",
      "199\n",
      "200\n",
      "201\n",
      "202\n",
      "this is how you count from 198 to 202\n"
     ]
    }
   ],
   "source": [
    "for i in range(100,105):\n",
    "    i = i + 98\n",
    "    print(i)\n",
    "else:\n",
    "    print('this is how you count from 198 to 202')"
   ]
  },
  {
   "cell_type": "code",
   "execution_count": 50,
   "metadata": {},
   "outputs": [
    {
     "name": "stdout",
     "output_type": "stream",
     "text": [
      "[3, 16, 29, 42, 55, 68, 81]\n"
     ]
    }
   ],
   "source": [
    "a = [3,16,29,42,55,68,81]\n",
    "c = 2\n",
    "while (c) > 1:\n",
    "    c +=1\n",
    "    print(a);\n",
    "    c == 3\n",
    "    break \n",
    "    \n",
    "    \n",
    "    \n",
    "    \n"
   ]
  },
  {
   "cell_type": "code",
   "execution_count": 11,
   "metadata": {},
   "outputs": [
    {
     "name": "stdout",
     "output_type": "stream",
     "text": [
      "15 This is the lowest number\n",
      "the lowest number in nums is: 15\n"
     ]
    }
   ],
   "source": [
    "# Part 1\n",
    "\n",
    "nums = [\"30\", \"40\", \"50\", \"15\", \"20\", \"433\"]\n",
    "minimum = min(nums)\n",
    "print(minimum, \"This is the lowest number\")\n",
    "\n",
    "# Part 2\n",
    "\n",
    "low = (nums[0])\n",
    "for i in range(len(nums)):\n",
    "    if (nums[i]) < low:\n",
    "        low = nums[i]\n",
    "print(\"the lowest number in nums is:\", low)"
   ]
  }
 ],
 "metadata": {
  "kernelspec": {
   "display_name": "Python 3.9.12 ('base')",
   "language": "python",
   "name": "python3"
  },
  "language_info": {
   "codemirror_mode": {
    "name": "ipython",
    "version": 3
   },
   "file_extension": ".py",
   "mimetype": "text/x-python",
   "name": "python",
   "nbconvert_exporter": "python",
   "pygments_lexer": "ipython3",
   "version": "3.9.12"
  },
  "orig_nbformat": 4,
  "vscode": {
   "interpreter": {
    "hash": "f4522448fa03726c480e11d9815ce2c412646a9816150097c8daa961a4b73c1a"
   }
  }
 },
 "nbformat": 4,
 "nbformat_minor": 2
}
