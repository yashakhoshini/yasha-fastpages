{
 "cells": [
  {
   "attachments": {},
   "cell_type": "markdown",
   "metadata": {},
   "source": [
    "# Developing Algorithms and Binary Search\n",
    "> During this lesson sections 9 and 11 hacks will be completed\n",
    "\n",
    "- title: Unit 3 Sections 9 and 11\n",
    "- toc: true\n",
    "- comments: true\n",
    "- categories: [lesson plans]"
   ]
  },
  {
   "cell_type": "markdown",
   "metadata": {},
   "source": [
    "#### 3.9.1 Hacks\n",
    "\n",
    "1) why is it important to know that algorithms that look different can do the same thing and that algorithms that look the same might have different results? It is important to know that algorithms that look different can do the same thing because you can have multiple sets of instructions that have the same output. On the other hand, algorithms can have different output but similar code which is also another reason why analyzation of code and little detials is important when trouble shooting. "
   ]
  },
  {
   "cell_type": "code",
   "execution_count": 4,
   "metadata": {},
   "outputs": [
    {
     "name": "stdout",
     "output_type": "stream",
     "text": [
      "Spend it and make more\n"
     ]
    }
   ],
   "source": [
    "NoMoney = False\n",
    "HasMoney = True\n",
    "\n",
    "if NoMoney == True:\n",
    "   print(\"You need to work more.\")\n",
    "else: \n",
    "   if HasMoney == True:\n",
    "      print(\"Spend it and make more\")\n",
    "   else: \n",
    "      print(\"Have a good day\")"
   ]
  },
  {
   "cell_type": "code",
   "execution_count": 5,
   "metadata": {},
   "outputs": [
    {
     "name": "stdout",
     "output_type": "stream",
     "text": [
      "It's nightime\n"
     ]
    }
   ],
   "source": [
    "isDay = False\n",
    "isNight = True\n",
    "\n",
    "# setting variables here (same as above to make comparison easier)\n",
    "Nighttime = not(isDay) and isNight\n",
    "if Nighttime == False:\n",
    "    print(\"It's daytime\")\n",
    "if Nighttime == True:\n",
    "    print(\"It's nightime\")"
   ]
  },
  {
   "cell_type": "markdown",
   "metadata": {},
   "source": [
    "#### 3.9.2 Hacks\n",
    "\n",
    "![](https://lh3.googleusercontent.com/IZROn75CTcl2990qjyiEsAzwAHOyJqPxx8SJcw63r3ZrPn-bHGqdtQRwECejob2M18sLS2JgksooohJjqIDP9-eUy6Ld4P7s1mRzcPEUmPo9ByqArk5rXYFypfW4NZZHwAhb21laqgMkwdMuGHkrrMwb_bEXEi4BqFaqGpPFQvDo9J_MFJepPdqH0HW-eYevBEtI0LElPlbPkZzVOXbZ0miluwrdo8ZegkDmFxrLTPBvDkZHjDTFqTRUvBsH_nE6TNJQg92_sEIlnar-Wbnsj8P7D0-WEf0CXF0MdEafVIA7h3AjSlPqT5xlXK4OBWqpFNXwHWabg5MVaCvn1HAragwfbfSmObW_9JsgMVpH4k-bPvYkbEkm-SY3ZCrDfpkw8Q7Xlytd3twKlyK-S_iAUgTAdch6Scpuo6lTBANfl6nTujKVn_kCH27656KDQAgtWsTdC1KcDYFZ53lKpyLXZWI0y8vuRxWeKZ0N3mz00JtdODWHs4jLLvmkuhb7THl91bYAjAGx4FCYZF4_qKzfdZJ6-r43ztlnQXLhyXO5j__2aiUz_Vy5fjppzlPobkdTVdF9OSh3o5k10xIydARulPhjMaVwlTuHYVUtorEVBX63-4M15ANm3JfY5KJdL2_xyw0rdA_0OdUFZCLKOvI7oSFyfJGZqCmXVTiLGbpkI5ioG9dLjhOfGTQmJEbSqqDuEP6wXKhJ0v-d_yI-Ovg9NUpTlUbKJalnAZq_e3-Yge1yOtMdBTK2GLevW_v9KeQWsKkWrRpY7NuXlGqcgykIzLiQEwdrOqnPvqF8lrzqHs03F_oPKnP0yoEclGtmevlAzApMFDJgWW5HXHFPSBssawB3BWDuPmmUVtnLWtI1DRVUTDGWPn1EPgVrt2uHPpL_q_dwfcO8Osgyx3JqZX7ny-llOAz8Gfc0bKMZxL8DA4rfxIJG=w1024-h768-no?authuser=0)\n",
    "\n",
    "Steps:\n",
    "1. Check to see if Chores or Assignments is > 0\n",
    "    - If chores & assignemnts == 0 then it's done!\n",
    "2. If chores and assignments > 0 then repeat following steps until they are both 0.\n",
    "    - Chores = 5 then do 5 chores until it's 0\n",
    "    - Assignmentss = 19 then do 19 assignments."
   ]
  },
  {
   "cell_type": "code",
   "execution_count": 25,
   "metadata": {},
   "outputs": [
    {
     "name": "stdout",
     "output_type": "stream",
     "text": [
      "Chores left: 0 Assignments left: 0\n"
     ]
    }
   ],
   "source": [
    "Chores = 5\n",
    "Assignments = 19\n",
    "\n",
    "while (Chores or Assignments) > 0:\n",
    "    if Chores > 0:\n",
    "        Chores -= 1\n",
    "    if Assignments > 0: \n",
    "        Assignments -= 1\n",
    "print(\"Chores left:\",Chores,\"Assignments left:\",Assignments)"
   ]
  },
  {
   "cell_type": "markdown",
   "metadata": {},
   "source": [
    "#### 3.9.3 Hacks\n",
    "\n",
    "#### Number Guessing Flowchart\n",
    "![](https://lh3.googleusercontent.com/EU-qy-rOktSvK_95tYWLck3WjdCAjjhlCUqeSy-wPC-pmGBgG4R4BwrDoGlTnz1LKA8RIJ6NWu-WHkFrZ9KHnFY1G2g9JIju8mumDkI4pWdj0qheqMerq021kD03JDg6Yh0XLZ6lIOJfMS_xW-x7sPOj2_hjNS8HEmzOuTo6GI0WfBo8OgOFcOeFsQXt9jwdtCdQAkqOvWHFH_qGm-BVda4rDeRiRLkjNrXeWjx4wvszwEMR1oLD5BE5iIqFE_7cVfFymWis25GRvPqzF9Onau6TX_ntb5SOD5q4bsyCOTh3OCoqjeGKdpSDft2DaOKe2XAgK5ui7ehgVVUC64GxJcj2smwH-EfSY75VPscU2dkerN4Yh5eovFt8nCgjLTxbaDBQSBLAvXlMEMuz6JAIJ8ncfk5fLz8hCt_Z8lRlrL6XSpsoSJYrFt3QF_bOJd-LwwMyhc7cMBebz9FXHnNORWbvWGFiFTVn7p6EVu7IWub1hdn3QKB9ZneqFQ9UGbvrWjX_yiy2RN399cY-3lHAw6OnkTr9CsLwCKOX7NMfUhiuziytwbUXGiOI4sbCGiC63W3KYZjVNs3c3dDWcSi9Xsx1Y7dQAwGjhPr1ikE6_dzPEN-5flY7RG9Z5GwSNZXFwTRnnH4TJg3VygwD1Y6vzFfvzM5VQT_e48SQPTECbAIGqgPRuQig0A3nZXauDHpPw09sAvEhUnx7N0_IImAOQSk5gYe69zFf5Fo-2CbituaJAPu39WQuiFP4u4OhBQILnz29qf_85cu02xjGw8t3AxwstqEFScU_N8oV3kGRE5kmbSXzA9NngYMAcdzs-9aUNB8R7Y6jWZ_HZsoqN1pi-PxDxZSunrMrF-39Xc9MkpvfWP4KYAYG23qqZ3D60wWqZuJyz-e4hkcMKVupF9-uoWDhGcUr_angOn-1NHf-MkoXqrfK=w1104-h860-no?authuser=0)"
   ]
  },
  {
   "cell_type": "code",
   "execution_count": 40,
   "metadata": {},
   "outputs": [
    {
     "name": "stdout",
     "output_type": "stream",
     "text": [
      "I'm thinking of a number between 1 and 100.\n",
      "You guessed 5.\n",
      "Nice Try!\n",
      "Guess a number between 5 and 100.\n",
      "You guessed 6.\n",
      "Nice Try!\n",
      "Guess a number between 6 and 100.\n",
      "You guessed 8.\n",
      "Good luck next time! :(\n",
      "Guess a number between 6 and 8.\n",
      "You guessed 45.\n",
      "Good luck next time! :(\n",
      "Guess a number between 6 and 45.\n",
      "You guessed 23.\n",
      "Good luck next time! :(\n",
      "Guess a number between 6 and 23.\n",
      "You guessed 43.\n",
      "Good luck next time! :(\n",
      "Guess a number between 6 and 43.\n",
      "You guessed 32.\n",
      "Good luck next time! :(\n",
      "Guess a number between 6 and 32.\n",
      "You guessed 27.\n",
      "Good luck next time! :(\n",
      "Guess a number between 6 and 27.\n",
      "You guessed 24.\n",
      "Good luck next time! :(\n",
      "Guess a number between 6 and 24.\n",
      "You guessed 21.\n",
      "Good luck next time! :(\n",
      "Guess a number between 6 and 21.\n",
      "You guessed 12.\n",
      "Good luck next time! :(\n",
      "Guess a number between 6 and 12.\n",
      "You guessed 10.\n",
      "Good luck next time! :(\n",
      "Guess a number between 6 and 10.\n",
      "You guessed 13.\n",
      "Good luck next time! :(\n",
      "Guess a number between 6 and 13.\n",
      "You guessed 7.\n",
      "Guess a number between 6 and 13.\n",
      "You guessed the number in 14 guesses!\n"
     ]
    }
   ],
   "source": [
    "import random\n",
    "\n",
    "num_guesses = 0\n",
    "user_guess = 0\n",
    "upper_bound = 100\n",
    "lower_bound = 0\n",
    "\n",
    "number = random.randint(1,100)\n",
    "\n",
    "print(f\"I'm thinking of a number between 1 and 100.\")\n",
    "\n",
    "#Write a function that gets a guess from the user using input()\n",
    "def guess():\n",
    "    num = input(\"What number?\")\n",
    "    return int(num)\n",
    "\n",
    "def search(number, guess):\n",
    "    global lower_bound, upper_bound\n",
    "    if guess < number:\n",
    "        print(\"Nice Try!\")\n",
    "        lower_bound = guess\n",
    "    elif guess > number:\n",
    "        print(\"Good luck next time! :(\")\n",
    "        upper_bound = guess\n",
    "    return lower_bound, upper_bound\n",
    "\n",
    "while user_guess != number:\n",
    "    user_guess = guess()\n",
    "    num_guesses += 1\n",
    "    print(f\"You guessed {user_guess}.\")\n",
    "    lower_bound, upper_bound = search(number, user_guess)\n",
    "    print(f\"Guess a number between {lower_bound} and {upper_bound}.\")\n",
    "\n",
    "print(f\"You guessed the number in {num_guesses} guesses!\")"
   ]
  },
  {
   "cell_type": "markdown",
   "metadata": {},
   "source": [
    "#### 3.11 Hacks"
   ]
  },
  {
   "cell_type": "markdown",
   "metadata": {},
   "source": [
    "1. Indexing Code: (pasted below)"
   ]
  },
  {
   "cell_type": "code",
   "execution_count": 37,
   "metadata": {},
   "outputs": [
    {
     "name": "stdout",
     "output_type": "stream",
     "text": [
      "Index 1\n",
      "middle == 57\n"
     ]
    }
   ],
   "source": [
    "index = [12, 14, 43, 57, 79, 80, 99]\n",
    "\n",
    "mid = int(len(index) / 2) \n",
    "print(\"Index 1\")\n",
    "print(f\"middle == {index[mid]}\")"
   ]
  },
  {
   "cell_type": "code",
   "execution_count": 38,
   "metadata": {},
   "outputs": [
    {
     "name": "stdout",
     "output_type": "stream",
     "text": [
      "Index 2\n",
      "middle == 66\n"
     ]
    }
   ],
   "source": [
    "index = [92, 43, 74, 66, 30, 12, 1]\n",
    "\n",
    "mid = int(len(index) / 2) \n",
    "print(\"Index 2\")\n",
    "print(f\"middle == {index[mid]}\")"
   ]
  },
  {
   "cell_type": "code",
   "execution_count": 39,
   "metadata": {},
   "outputs": [
    {
     "name": "stdout",
     "output_type": "stream",
     "text": [
      "Index 3\n",
      "middle == 111\n"
     ]
    }
   ],
   "source": [
    "index = [7, 13, 96, 111, 33, 84, 60]\n",
    "\n",
    "mid = int(len(index) / 2) \n",
    "print(\"Index 3\")\n",
    "print(f\"middle == {index[mid]}\")"
   ]
  },
  {
   "cell_type": "markdown",
   "metadata": {},
   "source": [
    "2. Using one of the sets of numbers from the question above, what would be the second number looked at in a binary search if the number is more than the middle number?\n",
    "    - Set one = 80\n",
    "    - Set two = 74\n",
    "    - Set three = 96"
   ]
  },
  {
   "cell_type": "markdown",
   "metadata": {},
   "source": [
    "3. Which of the following lists can NOT a binary search be used in order to find a targeted value?\n",
    "\n",
    "a. [\"amy\", \"beverly\", \"christian\", \"devin\"]\n",
    "\n",
    "b. [-1, 2, 6, 9, 19]\n",
    "\n",
    "c. [3, 2, 8, 12, 99]\n",
    "\n",
    "d. [\"xylophone\", \"snowman\", \"snake\", \"doorbell\", \"author\"]\n",
    "\n",
    "Answer is C because it's not sorted."
   ]
  }
 ],
 "metadata": {
  "kernelspec": {
   "display_name": "Python 3.9.12 ('base')",
   "language": "python",
   "name": "python3"
  },
  "language_info": {
   "codemirror_mode": {
    "name": "ipython",
    "version": 3
   },
   "file_extension": ".py",
   "mimetype": "text/x-python",
   "name": "python",
   "nbconvert_exporter": "python",
   "pygments_lexer": "ipython3",
   "version": "3.9.12"
  },
  "orig_nbformat": 4,
  "vscode": {
   "interpreter": {
    "hash": "f4522448fa03726c480e11d9815ce2c412646a9816150097c8daa961a4b73c1a"
   }
  }
 },
 "nbformat": 4,
 "nbformat_minor": 2
}
