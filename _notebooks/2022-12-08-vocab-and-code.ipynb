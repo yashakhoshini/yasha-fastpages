{
 "cells": [
  {
   "cell_type": "markdown",
   "metadata": {},
   "source": [
    "# Vocab and examples\n",
    "> Taking notes on vocab from the lessons that were taught and also implementing code examples.\n",
    "\n",
    "- toc: true \n",
    "- badges: true\n",
    "- comments: true\n",
    "- categories: [jupyter, python]"
   ]
  },
  {
   "cell_type": "markdown",
   "metadata": {},
   "source": [
    "#### Logical Operator\n",
    "- A logical operator is a symbol or word used to connect two or more expressions"
   ]
  },
  {
   "cell_type": "code",
   "execution_count": 4,
   "metadata": {},
   "outputs": [
    {
     "name": "stdout",
     "output_type": "stream",
     "text": [
      "please start to work\n"
     ]
    }
   ],
   "source": [
    "isSaturday = True\n",
    "isHoliday = False\n",
    "\n",
    "if not isHoliday:\n",
    "    print('please start to work')\n",
    "else:\n",
    "    print('take time off, it is a holiday!')\n"
   ]
  },
  {
   "attachments": {},
   "cell_type": "markdown",
   "metadata": {},
   "source": [
    "#### Selection?\n",
    "- A seletion is a programming construct where a section of code is run only if a condition is met, it determines which path a program takes when it is running"
   ]
  },
  {
   "cell_type": "code",
   "execution_count": 5,
   "metadata": {},
   "outputs": [
    {
     "name": "stdout",
     "output_type": "stream",
     "text": [
      "you have gas already\n"
     ]
    }
   ],
   "source": [
    "hasGas = True\n",
    "noGas = False\n",
    "\n",
    "if not noGas:\n",
    "    print('you have gas already')\n",
    "else:\n",
    "    print('you need to fill your car up with gas')"
   ]
  },
  {
   "cell_type": "markdown",
   "metadata": {},
   "source": [
    "#### Iteration?\n",
    "- An iteration is a loop and doing something again until a condition is met, like you put away your computer when you are finished with your work."
   ]
  },
  {
   "cell_type": "code",
   "execution_count": 6,
   "metadata": {},
   "outputs": [
    {
     "name": "stdout",
     "output_type": "stream",
     "text": [
      "[1]\n",
      "[1, 4]\n",
      "[1, 4, 9]\n",
      "[1, 4, 9, 16]\n",
      "[1, 4, 9, 16, 25]\n"
     ]
    }
   ],
   "source": [
    "nums = [1,2,3,4,5]\n",
    "b = []\n",
    "for i in nums:\n",
    "    b.append(i**2)\n",
    "    print(b)"
   ]
  },
  {
   "cell_type": "markdown",
   "metadata": {},
   "source": [
    "#### Substring?\n",
    "- A substring is part of an existing string"
   ]
  },
  {
   "cell_type": "code",
   "execution_count": 10,
   "metadata": {},
   "outputs": [
    {
     "name": "stdout",
     "output_type": "stream",
     "text": [
      "what up everyone\n",
      "what \n"
     ]
    }
   ],
   "source": [
    "greeting = ('what up everyone')\n",
    "print(greeting[:])\n",
    "print(greeting[:5])"
   ]
  },
  {
   "cell_type": "markdown",
   "metadata": {},
   "source": [
    "#### If statement\n",
    "- if proved true, performs a function"
   ]
  },
  {
   "cell_type": "code",
   "execution_count": 11,
   "metadata": {},
   "outputs": [
    {
     "name": "stdout",
     "output_type": "stream",
     "text": [
      "x is greater than 0\n"
     ]
    }
   ],
   "source": [
    "x = 5\n",
    "y = 10\n",
    "\n",
    "if (x > 0):\n",
    "    print('x is greater than 0')\n",
    "else:\n",
    "    print('x is less than 0')"
   ]
  },
  {
   "cell_type": "markdown",
   "metadata": {},
   "source": [
    "#### Variable\n",
    "-  a value that can change depending on the conditions"
   ]
  },
  {
   "cell_type": "code",
   "execution_count": 12,
   "metadata": {},
   "outputs": [
    {
     "name": "stdout",
     "output_type": "stream",
     "text": [
      "10\n"
     ]
    }
   ],
   "source": [
    "goalsScored = ('you have scored 10 goals')\n",
    "print(goalsScored)"
   ]
  },
  {
   "cell_type": "markdown",
   "metadata": {},
   "source": [
    "#### Jupyter\n",
    "- lets you write and run code at the same time\n"
   ]
  },
  {
   "cell_type": "markdown",
   "metadata": {},
   "source": [
    "#### Strings\n",
    "- series of characters (numbers, letters, etc), one example of a string is your name or your id because strings can contain both numbers and letters."
   ]
  },
  {
   "cell_type": "code",
   "execution_count": 13,
   "metadata": {},
   "outputs": [
    {
     "name": "stdout",
     "output_type": "stream",
     "text": [
      "your type of food today will be: mexican food\n"
     ]
    }
   ],
   "source": [
    "menu = ('mexican food')\n",
    "print(f\"your type of food today will be: {menu}\")\n"
   ]
  },
  {
   "cell_type": "markdown",
   "metadata": {},
   "source": [
    "#### Lists\n",
    "- sequences of elements with each element being a variable. An example of a list can be the names of the students in this classroom. "
   ]
  },
  {
   "cell_type": "code",
   "execution_count": 14,
   "metadata": {},
   "outputs": [
    {
     "name": "stdout",
     "output_type": "stream",
     "text": [
      "[1, 2, 3, 45, 55]\n"
     ]
    }
   ],
   "source": [
    "nums = [1,2,3,45,55]\n",
    "print(nums)"
   ]
  },
  {
   "cell_type": "markdown",
   "metadata": {},
   "source": [
    "#### What is an algorithm?\n",
    "- An algorithm is a finite set of instruction that accomplish a task, it can be expressed by natural language, diagrams, and various other ways."
   ]
  },
  {
   "cell_type": "code",
   "execution_count": 16,
   "metadata": {},
   "outputs": [
    {
     "name": "stdout",
     "output_type": "stream",
     "text": [
      "its winter\n"
     ]
    }
   ],
   "source": [
    "winter = True\n",
    "summer = False\n",
    "\n",
    "if not winter:\n",
    "    print('its summertime')\n",
    "else:\n",
    "    print('its winter')"
   ]
  },
  {
   "attachments": {},
   "cell_type": "markdown",
   "metadata": {},
   "source": [
    "## Adding more vocab:\n",
    "\n",
    "#### Square brackets\n",
    "- [lists and tuples go inside]:\n",
    "\n",
    "#### For Loop\n",
    "- used for repeating a sequence\n",
    "\n",
    "#### Metadata\n",
    "- a set of data that describes and gives information about other data.\n",
    "\n",
    "#### Binary\n",
    "- a coding system using the binary digits 0 and 1 to represent a letter, digit, or other character in a computer or other electronic device. Calculate numbers by using the tens place method.\n",
    "\n",
    "#### Preprocessing\n",
    "- A step in the data mining and data analysis process that takes raw data and transforms it into a format (HTML) that can be understood and analyzed by computers and machine learning.\n",
    "\n",
    "#### Abstraction Process\n",
    "- Through the process of abstraction, a programmer hides all but the relevant data about an object in order to reduce complexity and increase efficiency.\n",
    "\n",
    "#### Liquid\n",
    "- Code that exits in the programming environment, but gets converted to something else when sent to the browser"
   ]
  }
 ],
 "metadata": {
  "kernelspec": {
   "display_name": "Python 3.9.12 ('base')",
   "language": "python",
   "name": "python3"
  },
  "language_info": {
   "codemirror_mode": {
    "name": "ipython",
    "version": 3
   },
   "file_extension": ".py",
   "mimetype": "text/x-python",
   "name": "python",
   "nbconvert_exporter": "python",
   "pygments_lexer": "ipython3",
   "version": "3.9.12 (main, Apr  5 2022, 01:53:17) \n[Clang 12.0.0 ]"
  },
  "orig_nbformat": 4,
  "vscode": {
   "interpreter": {
    "hash": "f4522448fa03726c480e11d9815ce2c412646a9816150097c8daa961a4b73c1a"
   }
  }
 },
 "nbformat": 4,
 "nbformat_minor": 2
}
