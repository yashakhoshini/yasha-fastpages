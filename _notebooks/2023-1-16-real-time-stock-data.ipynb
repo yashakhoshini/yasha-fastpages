{
 "cells": [
  {
   "attachments": {},
   "cell_type": "markdown",
   "metadata": {},
   "source": [
    "# Live Stock Data\n",
    "> HTML code that I worked on that utilizes third-party API's and formatting to get live stock data.\n",
    "\n",
    "- toc: true \n",
    "- badges: true\n",
    "- comments: true\n",
    "- categories: [markdown, ]"
   ]
  },
  {
   "cell_type": "code",
   "execution_count": null,
   "metadata": {
    "vscode": {
     "languageId": "html"
    }
   },
   "outputs": [],
   "source": [
    "{% set project = \"Home\" %}\n",
    "\n",
    "{% block body %}\n",
    "<div style=\"text-align:center;\">\n",
    "  <h1>Real Time Stocks</h1>\n",
    "  <div id=\"Stocks\" style=\"margin-top: 200px\">\n",
    "    \n",
    "  </div>\n",
    "</div>\n",
    "<script>\n",
    "\n",
    "const ticker = [\"AAPL\", \"NVDA\", \"MSFT\", \"TSLA\", \"AMZN\", \"DDOG\"];\n",
    "const api_key = \"b7fa84afea6e45609dd289c0f21b9f62\";\n",
    "let stocksdiv=document.getElementById(\"Stocks\");\n",
    "\n",
    "function getStockPrice(tickerSymbol, api) {\n",
    "  const url = `https://api.twelvedata.com/price?symbol=${tickerSymbol}&apikey=${api}`;\n",
    "  return fetch(url)\n",
    "    .then(response => response.json())\n",
    "    .then(data => data.price.slice(0, -3))\n",
    "    .catch(error => console.error(error));\n",
    "}\n",
    "\n",
    "function getStockQuote(tickerSymbol, api) {\n",
    "  const url = `https://api.twelvedata.com/quote?symbol=${tickerSymbol}&apikey=${api}`;\n",
    "  return fetch(url)\n",
    "    .then(response => response.json())\n",
    "    .catch(error => console.error(error));\n",
    "}\n",
    "\n",
    "for (let i=0; i<ticker.length; i++){\n",
    "  // i=0 is the first # it starts at, it ends at i<ticker.length.\n",
    "  console.log(ticker[i])\n",
    "  getStockQuote(ticker[i], api_key)\n",
    "      .then(stockData => {\n",
    "        getStockPrice(ticker[i], api_key)\n",
    "          .then(stockPrice => {\n",
    "            const exchange = stockData.exchange;\n",
    "            const name = stockData.name;\n",
    "\n",
    "            const nameElement = document.createElement(\"h2\")\n",
    "            const nameNode = document.createTextNode(name + \" (\" + exchange + \")\")\n",
    "            nameElement.appendChild(nameNode)\n",
    "            const priceElement = document.createElement(\"p\")\n",
    "            const priceNode = document.createTextNode(\"$\" + stockPrice)\n",
    "            priceElement.appendChild(priceNode)\n",
    "\n",
    "            stocksdiv.appendChild(nameElement)\n",
    "            stocksdiv.appendChild(priceElement)\n",
    "            console.log(name, stockPrice);\n",
    "        });\n",
    "    });\n",
    "  }\n",
    "</script>\n",
    "</div>\n",
    "{% endblock %}\n"
   ]
  }
 ],
 "metadata": {
  "kernelspec": {
   "display_name": "base",
   "language": "python",
   "name": "python3"
  },
  "language_info": {
   "name": "python",
   "version": "3.9.12 (main, Apr  5 2022, 01:53:17) \n[Clang 12.0.0 ]"
  },
  "orig_nbformat": 4,
  "vscode": {
   "interpreter": {
    "hash": "f4522448fa03726c480e11d9815ce2c412646a9816150097c8daa961a4b73c1a"
   }
  }
 },
 "nbformat": 4,
 "nbformat_minor": 2
}
