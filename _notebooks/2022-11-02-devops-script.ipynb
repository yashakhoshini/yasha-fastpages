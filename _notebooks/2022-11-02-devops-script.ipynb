{
 "cells": [
  {
   "cell_type": "markdown",
   "metadata": {},
   "source": [
    "# Script for final presentation\n",
    "> Explaining DevOps role and my job\n",
    "\n",
    "- toc: true \n",
    "- badges: true\n",
    "- comments: true\n",
    "- categories: [python, DevOps]"
   ]
  },
  {
   "cell_type": "markdown",
   "metadata": {},
   "source": [
    "My role as the DevOps is to reveal my website to the internet, this process is known as deployment. I work in AWS, a platform used to host the backend. Whenever my group makes changes to our project my job is to make sure it's up to date."
   ]
  }
 ],
 "metadata": {
  "kernelspec": {
   "display_name": "Python 3.9.12 ('base')",
   "language": "python",
   "name": "python3"
  },
  "language_info": {
   "name": "python",
   "version": "3.9.12"
  },
  "orig_nbformat": 4,
  "vscode": {
   "interpreter": {
    "hash": "f4522448fa03726c480e11d9815ce2c412646a9816150097c8daa961a4b73c1a"
   }
  }
 },
 "nbformat": 4,
 "nbformat_minor": 2
}
