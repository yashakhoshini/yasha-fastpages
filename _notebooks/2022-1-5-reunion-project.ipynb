{
 "cells": [
  {
   "attachments": {},
   "cell_type": "markdown",
   "metadata": {},
   "source": [
    "# Reunion Project\n",
    "> Ideation for our reunion project\n",
    "\n",
    "- toc: true \n",
    "- badges: true\n",
    "- comments: true\n",
    "- categories: [markdown, reunion project]"
   ]
  },
  {
   "attachments": {},
   "cell_type": "markdown",
   "metadata": {},
   "source": [
    "## DumbTrade\n",
    "\n",
    "#### Overview\n",
    "\n",
    "For our reunion project we are going to code a website about a tradingview indicator that is used for trading. We are aiming to focus towards wen design and efficency. This website is complemented by code for an indicator that analyzes trends and tells you when to buy and sell a stock.\n",
    "\n",
    "#### How we came across this idea\n",
    "\n",
    "Our team wanted to find a way to apply our personal businesses to APCSP. This business can not only benefit us througout this class but also with money-making. The main aspect we aim to accomplish to exceed APCSP requirements is coding the website as well as the indicator. Along with that, I will utilize that specific code to sell the indicator on whop via tradingview using the apps; discord, tiktok, and instagram.\n",
    "\n",
    "#### Why is this a good idea?\n",
    "\n",
    "This is a good idea because I think the point of school is to prepare us for the real world. To me, it's important to use knowledge that was practiced and studied during school in different aspects of human endeavor. In this case, I am making money while learning in school so it's a win-win situation. If one fails, I'll always have the other."
   ]
  },
  {
   "attachments": {},
   "cell_type": "markdown",
   "metadata": {},
   "source": [
    "## APCSP Aspect\n",
    "\n",
    "[DumbTrade website]()\n",
    "\n",
    "## Business aspect\n",
    "\n",
    "[TradingView Script/Profile](https://www.tradingview.com/script/evyEfz5x-dumbtrade/)\n",
    "[Discord](https://discord.gg/2gaYrHzh)\n",
    "[Tiktok](https://www.tiktok.com/@dumbtrade)\n",
    "[Instagram](https://www.instagram.com/dumbtrade/)"
   ]
  }
 ],
 "metadata": {
  "kernelspec": {
   "display_name": "base",
   "language": "python",
   "name": "python3"
  },
  "language_info": {
   "name": "python",
   "version": "3.9.12 (main, Apr  5 2022, 01:53:17) \n[Clang 12.0.0 ]"
  },
  "orig_nbformat": 4,
  "vscode": {
   "interpreter": {
    "hash": "f4522448fa03726c480e11d9815ce2c412646a9816150097c8daa961a4b73c1a"
   }
  }
 },
 "nbformat": 4,
 "nbformat_minor": 2
}
