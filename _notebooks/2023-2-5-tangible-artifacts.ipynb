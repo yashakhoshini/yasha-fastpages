{
 "cells": [
  {
   "attachments": {},
   "cell_type": "markdown",
   "metadata": {},
   "source": [
    "# Tangible Artifcats\n",
    "> Our development process in the DumbTrade stock project\n",
    "\n",
    "- toc: true \n",
    "- badges: true\n",
    "- comments: true\n",
    "- categories: [markdown, dumbtrade]"
   ]
  },
  {
   "attachments": {},
   "cell_type": "markdown",
   "metadata": {},
   "source": [
    "## *Development Process*\n",
    "\n",
    "As of now our main focus is backend as we have our entire project plan and design laid out. We are slowly starting to break in roles and cover different jobs, mine being DevOps and backend. Another important job that I have taken on is the scripter. Seeing I have a good amount of knowledge as to how the stock market operates I was gived the scripters job where I write and script the game in the best way possible with the best vocab, scenarios, and questions.\n",
    "\n",
    "## *Checklist*\n",
    "\n",
    "- ~~backend initiation & begin coding~~\n",
    "- ~~new group repository up and running with updated DumbTrade code~~\n",
    "- ~~templates / bp projects organized~~\n",
    "    - ~~game.html~~\n",
    "    - ~~portfolio.html~~\n",
    "    - ~~stockinformation.html~~\n",
    "    - ~~rec.html~~\n",
    "- Set roles & jobs for everyone\n",
    "    - ~~Yasha: DevOps, scripter, and backend worker~~\n",
    "    - ~~Quinn: HTML & frontend worker~~\n",
    "    - Kush: TBD\n",
    "    - ~~Luka: Backend & Frontend worker~~\n",
    "    - Anthony: TBD\n",
    "- ~~Design~~\n",
    "- ~~Most of Frontend work completed (quinn)~~\n",
    "- ~~Recognizing DevOps necessities and requirements native to this project~~"
   ]
  }
 ],
 "metadata": {
  "kernelspec": {
   "display_name": "base",
   "language": "python",
   "name": "python3"
  },
  "language_info": {
   "name": "python",
   "version": "3.9.12"
  },
  "orig_nbformat": 4,
  "vscode": {
   "interpreter": {
    "hash": "f4522448fa03726c480e11d9815ce2c412646a9816150097c8daa961a4b73c1a"
   }
  }
 },
 "nbformat": 4,
 "nbformat_minor": 2
}
