{
 "cells": [
  {
   "attachments": {},
   "cell_type": "markdown",
   "metadata": {},
   "source": [
    "# 2015 Collegeboard MCQ Test #5\n",
    "> Collegeboard score & corrections\n",
    "\n",
    "- toc: true \n",
    "- badges: true\n",
    "- comments: true\n",
    "- categories: [markdown, dumbtrade]"
   ]
  },
  {
   "attachments": {},
   "cell_type": "markdown",
   "metadata": {},
   "source": [
    "#### Study Topics:\n",
    "\n",
    "- Real-world simulation questions in relation to coding\n",
    "\n",
    "- Questions about generalizations in procedures in a library\n",
    "\n",
    "- Steps to making an efficient algorithm / ordering them in the correct pairing to enable the algorithms to work as intended.\n",
    "\n",
    "    - I & II Only\n",
    "    - I, II, III Only\n",
    "    - I Only"
   ]
  },
  {
   "attachments": {},
   "cell_type": "markdown",
   "metadata": {},
   "source": [
    "![](https://lh3.googleusercontent.com/pw/AJFCJaWU6EpVB7M7jECV_APEf-JazmwD5LaWsFxJQzzOXqYkGrFPpEPJLMqKSgg4nPD0n5REZudV0bYGxQVCkS1d_R-uMtPUspCjZGQyzwWKUtfN2vMdrFIp2cM06457Mn8Jb7gZl5yDB78JT9h7hrH6uQ7YGhJGkX4QkBxQcyaq8e0P1SCP3WZbYl_n_hriTaV1INOABU35hEHSF4LkTnNnuml7viwEgPYP65K9IhCg8QNoSM7j6UAynyZaVoctSvvFecX5HjoaPdUnoYHWXlk8qS52qFhMEeFMb1lY4l4EYc0EAhakulFb3ujQSbYF2dfSKun7qNVq9k6E17sMogYZDp68RKiZGoIuOijdY1i4gpvGMzd7tJVnfT4dI4qPJltNTe8YIvqlp8HW6lbvHxVT46p-c1Rba812zR4UdZT1vGU_kG4upS0yHR5py4na0hk4hsRPWnpM2qCmuFZXvBbCbl0oGk-u3ghQLvy8EGOVe3_8-swGEq5S9cCtIYEE3LwJhSZGfeBTab4F5CIU0ImeFmaBCEUfEXnSlRbSkfaicd7OGEc1OO1CstC-s-AL6l__9yj3MbElFbi8gp2BPxOCk7P4zuCzrcKvIYzhXto6pNZMfn1vweL7EP4L-HlGAF9BRi9Mq_mhcSZCZsZsOwUWtToA9wmH1CNG2rTToDKRk1Ag2FaGgEQEQRoXwvGo4chJQI1G1UqYYUFBGvh3qhyPpgSiHi3bveihFpiEFeHKW3-QUmLzo_CRZC1O1j01Vc20d3TJu5ai7Wm_1OuWlbywYEOIf09OkKllLYjgwSr_-G7t1DQ2TuGjm08n9-YwnZFTZs1k8BGNL-tY3DRaqAxfgWYyUi9MXgJp3jmRPPCBG3C0fNsYy3WXTvCNcdOfS1TJTiM8R6bTQt6hiyewR-x5C-Qtx8KSNy8RWvuW8eEP-Z0RNjN2X5aRLNFrJTBcBVs=w2622-h452-s-no?authuser=0)\n",
    "\n",
    "#### Corrections:\n",
    "\n",
    "![](https://lh3.googleusercontent.com/pw/AJFCJaWPHjA-uAkcJr9lcpeNDEPjZssPFQ2ol7PZazckI1Ujp5rG1HFZpji-ocjFjU5ljMV2KH1BIPr2JW1PLkhkoVb48UaHx3BaUkITpAB0xv1T82lqVE3y9sq8dKvEPnf8WzP5RxBB38h0Wzys5zJiz0muLcf2hNAtXbrfYA041x0M_HPP_JKlE9pK9DACsB3fMT3zcj4-d7-BDMV3pfWkF73Qv7Z6fh4yydOOxiYYNX6EBfKVmwq-LSrF7-3gUYj_fzGaGLYi-t5FDFFx93FdhZ4tiJE59MLis88BfImPTyW0Im69uwRyYptcy5ku7X7yAGuZihHPSwOsQrT-RJBcqBaVJRz9PuN4mBC0dv-SySkrBGxtMT2DqsuZXhW-r2_KPu7O_yr6ALNL_RiZbQ1-FRnIrXAIAbBorfCZYQjtIUsJoEFBfxzSLq-IRPwdBX3m04Uuod0tTEzMsYrRD2UzHS2w_TgZyyB2PysDnd0skBJ8lV_lPTibrzzyK8RndFPhRPX7_lawRnZ0FrtaVzgN_12DCBcA6OPQnAw_xnhgG4J66tH7j_JpuFkbhpCvxSDOMgH-3o7wSuaBrj3hVIU5BaPlctxaoF4Q-EGY38r4PIKl7GyYM2aSQKARA3w0Tld5sC0HCMgO2qJQ36PMzYs3J4yLBNL5VdnCj6RA3Y9_zc9SiGY1iTcRJ1ReK3H093hjCKDXnEKd4yX10CDlFlMw49rcKHC3_zFxHS_04lP6pKYGCuDve6RJA1nq2Ldj1hloXHpnPntq_a6nbZTN9n052Ax_2foyt-lcvJOQd9Gur6B4ymbmbhS29zLkwg6hK4DjKsJcVbo-tN8k4-sPRjDJOyHlEGk5O8id5F5N58n34BQlkzRGmulog0BhU_riY1nU9QpNOQ1QvpOkrchaJn5POPyvPOf2NZUa-I3OmBsX1b0swx0jGHIBLjFbac6JG9U=w1732-h830-s-no?authuser=0)\n",
    "\n",
    "Correction:\n",
    "\n",
    "- This option is incorrect. There are six possible results of rolling a die, which is more than can be stored in a Boolean variable.\n",
    "\n",
    "![](https://lh3.googleusercontent.com/pw/AJFCJaW3Fh5MTmWjZn4-ZN8UHuEUBVyR-jwgX80FJ5YttuDDc2C__nxUiH6KbjGmbqWSIKYGltK9WYVZ7wPMAB45A-OzCWVRCk1Hv7kCtHDF6K_dBjSQeDtV4yFAeEseICbFpsLHFX3N2fuEi8xVTPTGBmU8xgVqdoca3oR7_eRJXO95w8aRWW1aG1vwT8h4qLPVt5v6Ne-kbFFI7VNjD4rAN9Kzdr4EzGYHy3LbkjymEEE4GO-PLon21vxlt5-O9Y-Zfa7DYfb2-usEfxoJPljGnS4Hw3QgJbPJ-M8EtcGkXtv4GxQ5FjtZqShFgaoMEHTrTSCapgGQ6FGCQgMjWA6_9B4PuAOCSyMk0wTaHFaPiJ4Fmg329sO5jYFD3cbvVFArTsqMeP5gCg0MQtPzvCeV6yxodE55DCZyfquMhK7h3Ia7Mxvd3xh2cmBOb1dqTaSO_O8bfSxdj_fm8WZL0aMGSRoBlBD2qpRAhebmnp0Hgla5iBkspKiBWqnRqRFOtz_iNsTnAi-ttSEJFc7jb9-53VaPUZYroYNyE1PYSP9P-OM9AR8UFNX-w9wWACtsJTXKs9uv7aKioEvy5nR_scTEWknn7y006LQCAeLXitwp5nBExpgqizZfXuYmdv3_AOVBEFy-jGuwSbqjNdGFaJMO7C028lNf0wp2A-lA7gLqPnpDSZ2ID18BAdVyhhPcnKT1PeMmEYQF11e1sib4hgiyB7JN7fSRpuBW8AN6EhVchL_6Zpl0R-A4Oz5EPn1SpXsPS6V3MEDkg24Tfg97fhU8FpJKPcfny_rxAEffJaHVFh6amdBlDxwmorzgm_2nFoMi2DucfDv3OZ7-xyAZxiSCRn8TvPLNdgju4wvcEXxLA1jMSVyo4R6rhIJxuTKMBuCtPWF6DmeWq89t1P_h0utBGcXHO5yMxRRltxgW_LedevRbxM0nJot4zaOZ8RKDGus=w1732-h1234-s-no?authuser=0)\n",
    "\n",
    "Correction:\n",
    "\n",
    "- This option is incorrect. The approximation 30.6 million would be a better estimate for year 11.\n",
    "\n",
    "![](https://lh3.googleusercontent.com/pw/AJFCJaXKNSgftMuC7MJ1yMZICdDlJXaTZdldFV_iO-K_bcXh_ISllAJTE6b9u2fyTdn8h3uAbW6XZrsOZ7pYILy7pMpiGqGh9R3mS5jFAMkT9PXQCyLaMm4lTxgO4nliNMtmaxOjFcHcBMIXoa-q53Feu-feU4_dVvoNCD6CPq6HcB38KdAahx0f8l0HENobdpBVmM043Kd8PSSAJomEmGonBwoyKstrY2P4nOh-FCJ5KOAeigjUQNIVceCXAzqdLaqCgYwVhOWd0tvaHsloBFE1dHIC94boh2ck8px5CYL7BylSgaaSaY9Fchtcjbr-AoLa5xK2ooalkOn_Uwd5pP5EizzQs3yLcdCbZXlkE_p3_b0H0Aib5OMu4y2wVKkH3UQcXEdCmNtMBuVXQl5xt7wF2oSLSiEMNbZ0_UWDOqAXQ4CWpOhiyJM3e_JtI7wv1LFXgMjYL9XlUi2TUkydNRN5rM_q_eshmK-ly-QimdWqKer_UQR2BzPa4Tq4pn58UB-nN1iHk7yGuuWjSL3FIvuHZhQO-i4RH5n3e2cXInGn06n-V9S2_nIO6bKdQSy4ctx1RF02G8Pk5pAtMK_WPJsYaaq0iSy87Eu6S_gwhwy8LcoEWexBJNAjnYKeQphjz4PtwbsZpBpH41oYL-C7nUfqDGejlGsIqCHAzTpLDc79XaT-85UuhEIzheKZ0g7RkZEuFNZdLbwgk5LwAe0UdQAHg9_MP9CwESP8eofAEz3lKT5Nx2tOCQmG0j-LJNOinLY8C83YpkKv02NRFW1zyppK2DWTf-It6kHtRogENHuKb8O6xv0vwnWR4OfDlzh3IIrjv_WS5ibTrCIqCQmW4h1EgsAqMyyxkDEeJHCgSrgG8L-wwXcZB4ecJavtP4zItdqiJgDPCXj-kCRoHQxq0OAI1TV51AAEViXZ5_KjmI03ciubf_cAtijdjJPP2uZPAVA=w738-h393-no?authuser=0)\n",
    "\n",
    "Correction:\n",
    "\n",
    "- This option is incorrect. The Polynomial procedure calculates the sum of the Square and Cube procedures, but does not generalize their functionality to calculate any power of n.\n",
    "\n",
    "![](https://lh3.googleusercontent.com/pw/AJFCJaWdcNagK-qJK7lRt0RoK_RE2wDmmFfVDY2EXCiLPN1kUDTVfSmd063X_zHKFIUa5619AjKd9vXYijv0Vncl1vBYrRt7EOU8KPTBuI7YngGdbtz2LzLNcaDk8lDajmtSBuaWGXC-BzXXueJf82G4Q7ElmUJ4QME5AWg_IWT1lW3IZDHjwyCtxrT1Hafe6YAAxrl_0n_22zwlGXx_X11JVoXzLrid3XYPb0eikqdqtW48jMUNFp2RxuK59Rvgj5YioexJwDBPQAF_Gm8iPrVUuw9lFQ_J87HV5er-678464ZiLcX_5orb70c605qSnV7Svb2Ct-uqI6F2o2cu2sMZYVJYJPf_J79GSWqc2if6tr1UkYbgB_t7bcnucIRkEl3vPLMWrm7-ykEsgT4TGK6aDxp11227NUjL2D-lR_ZdHZisQUk6Bsihl64N8CqHF5CZ9ZBLtDz0_A8sP_f1MviiZBkokN1HlqBEoBZ11SwZRM4JfWBoHBtIlCpRSfCSGAenXuaHtFyjHGdtyeARx8bvM9UJBPc6T3nmKUjvl7Qh5pERqW0lRCHkMostR6X9HYB9KHTjWJf9sN975akL5i_KmZ8nEwUETix_7z6MjPCy1pxmR6r-aD63GCyTb0B3O7lb4z1iVLTotqgVi79AUcZoj-dTz_ulX1gaTOzBU6KSYoMF_gVqk-wXSSXe4PKqbtW2aZq52WMeAeDEE7gifzKY5B447-qqxwL-xshVBz4cjXeMxjj1bA3qLWoBzF0DXPr3d7pkmIIrQj5YX9_1tCSFxuzJfOS2_QfDZqvK6AD4UcVy_Q9ja6QH0OL7dvy9OdBSsFf4d5c2FtRKAwQFYDPCHk1nia_qHT_vpX2CjFN_XgFlFABP_0mrdV8xE4EOWWWBfOtokJNybvW7-rs-XIDOfK2g_RGXmuj6i8Qgt84aQ-f9ggMfdWlUfbVgiMGv8AU=w327-h241-no?authuser=0)\n",
    "\n",
    "Correction:\n",
    "\n",
    "- This option is incorrect. Option III works correctly, but option I does not. Option I does not work because it performs the \"shorten\" step before the \"keep palindromes\" step.\n",
    "\n"
   ]
  }
 ],
 "metadata": {
  "language_info": {
   "name": "python"
  },
  "orig_nbformat": 4
 },
 "nbformat": 4,
 "nbformat_minor": 2
}
