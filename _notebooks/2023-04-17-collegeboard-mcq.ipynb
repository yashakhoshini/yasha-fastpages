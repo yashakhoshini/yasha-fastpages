{
 "cells": [
  {
   "attachments": {},
   "cell_type": "markdown",
   "metadata": {},
   "source": [
    "# 2015 Collegeboard MCQ Test #5\n",
    "> Collegeboard score & corrections\n",
    "\n",
    "- toc: true \n",
    "- badges: true\n",
    "- comments: true\n",
    "- categories: [markdown, dumbtrade]"
   ]
  },
  {
   "attachments": {},
   "cell_type": "markdown",
   "metadata": {},
   "source": [
    "#### Study Topics:\n",
    "\n",
    "- Real-world simulation questions in relation to coding\n",
    "\n",
    "- Questions about generalizations in procedures in a library\n",
    "\n",
    "- Steps to making an efficient algorithm / ordering them in the correct pairing to enable the algorithms to work as intended.\n",
    "\n",
    "    - I & II Only\n",
    "    - I, II, III Only\n",
    "    - I Only"
   ]
  },
  {
   "attachments": {},
   "cell_type": "markdown",
   "metadata": {},
   "source": [
    "![](https://lh3.googleusercontent.com/pw/AJFCJaWQbz7ibUxDeXmOrHndt-Gy4IpkY36q29IXM43FBHtt8QMzRVtaMWJOviN7g5lMjAMdoq0_aPSfh5on96egj8c6-jBqRBnl3taDUUFP9vX9XctWterpfAZbb3em1H66YaNntTOv_vqMUebWeFk-N65jTcRQLMbMJzxXb-sq6XSz3WYUYJwXz52G6mJrVmPhXLiBVs03RPmBXI4Y7FRvhTuUryVdkZoY8Xar8-9uMcJ9f941tzxwO2nEPs-ufVHMa-EEfUirEUvdGS6SrEm-2mRN07TyxmcJVqYjO8Ie5onuPEOVsQbW7Muj739YhyyWBSor7jVr8ds2dtuhsog_e4pU7vdPcXbz85fERFqD_wrJ1w0c9AnkEV6JhyNz-weodQoBY9idqyLKtfzcv4iv0lYrNZNMnH2cNtg-6255PVjFriw6fhI8pTukh39l9OghYkdtW5xMV3X-osOxFZhHRUEBMnMVFyNtoDJvlwPLfD6Umxw3x3rlro7o8K3JMMtKH-jdLuPYPD0dc7vb5wMiJWvwMSkDYvo1PZzVKGHGUMbhydA0dkMNvboBRqPWUjtCxBptm4MzJey7J4lySmKM-OkbFeAK4sgJr8sYmrYQ873LNgSroltmIlA2Ep_q7UgtSRO2zs4L9s850yctdgHKIgPt4eCqxQLMOMV4nTdIPMtzMORk-xVOI0ROJpLkeIAj2aW8oCkCczQURGO098EVwmjpjSVuviNsTPFjPJ14xiPwJ2ZwcgT9wzr_4I_D6aBJefLH2KW0xVOH_VeeEWO2KcCeMtVxK9CHa1l9cKjPMW2_UOFrU1aaSBYV5_GOkh2gYKZF7YJbtVruXUDtBx8eDePQHPYoDNEmoHFqjt0697Gxac7pxxsO22QsfZ6jgqfilxQMzh4TG3tjw0MHt9LMDagOaJX9is-XMjIvOdnPr_8FHuODZD6HZQqadcfvMyw=w1878-h324-s-no?authuser=0)\n",
    "\n",
    "#### Corrections:\n",
    "\n",
    "![](https://lh3.googleusercontent.com/pw/AJFCJaXTPgFqF0DDISNKeid6x7YnxcnH7iamqmQjwEd-6MGBbbvmASr9KdP7GFCOKkMMNY_c-RXAFqLuD_bK7meFbKeqfI5B8OxiBwk83yiEJFsGmqlS81a93VQ58rc6EOTavFGColaXXkiE07jkg_iZ-aI_lkAZi_PUBxcGE3o0UpcthsdYlwZVMo7JqMaDD59gBSoYaakAqLmhJApayFq01BB6NjoH3Z1seYKCIjzfS6FAKVeqYLexs9Mlx2wbM0MPkWhCr-GSTQIbp1GzextK9SIywsDgkcwEguX_R_4i-di5NOiJyDobHkb_0qvptkjfKhgSWHK-Bo_bD0PUuCuKKUGGRZ6SGgzavx-Gcn5PawTU6m8bfV0qUw_IG1kbE2bVbL6cHlKLzJu1W-w_D2kZDqwWAe3vjTt4bsD2DguvGTPgM3NGKRimw9kp4VEtWlOjbixu1-v-j5Fs0h7DPita4qw-09AaK_c4VACFuxnuV12mlzk6VZp5k1ksiR5n_LO4fEEjt3rn4lfL5-NTq1AVzCnViYb3uzn1Q5mVcklAXdcoSQukbNzsnJWRuofnmXqI4bQqcDA0cnThtzGCFWbObiQLXEb-WAV5jPVahIsf8y_RmltaoKcIbHHprwBIWneDuDa8J2uTYqyj_PeuamMZouMAjIqSDANv-_2qFiE7GuisUcQN4GylW_4_BhnG5iUzCkgOl_wIvn85TyXsjuhWJdjptEi2fVaphb-6Gkaepx9UaZ1slLUHV_NsMi4zrcsYv9WuomJLnuwsKK5oUGHmjjJ0IqBZZ3Z8sl0NbwLu1Zfv-SgZJURpCKHONgPRExNEUy650h8fWgk4idbXI9xPaj6yC2c_B-EvYT5SqIuPgL3P9dvAiKODRHfa0TobQqKa6L0v0M0uzqVEOLbKyggljwzKhCoXEqkh4tumKHbL4LUsfeNcHjnC3VibUcHLnzs=w1732-h830-s-no?authuser=0)\n",
    "\n",
    "Correction:\n",
    "\n",
    "- This option is incorrect. There are six possible results of rolling a die, which is more than can be stored in a Boolean variable.\n",
    "\n",
    "![](https://lh3.googleusercontent.com/pw/AJFCJaV8aptrI0Bp_lT1wBjwYC1HVNo2-kOHpNBvh7MAL31AtkfBlL6T-peYKN4eIIIHFFzv_4tPEhr4HSnX_G0bgdFWF6fh8uN1WVYiezx0gY2c9c0_SGrqh5TKAbsvKv-H8-pxl7II822czuQAu9Ze5Dm3lTDCNjQ4hbpkBtadoHV0dS13fhbC6Q6A4-kA-PHz0R4Ko42Ll3pf6Phh50tijMmfwlMmdIQkfE46oh0qs0VRpnmUgYc22tnoXQIAMDxeE6SKwFKACCQyNpQzQbP2lv4PA9f-nv1AS_txCjEyl1PD47XzvTa3y2r7heN80IqBkkry49fmffWilhn0jW46nMiMJ_R_y02zBmx4RDoZ40GrKRof6B8LWD8CPwa3GGorFUmVv9l3UBNXCcafrahUVZHPSqqrpy2T7LA67ONmg3pTSv3FtzOREBjjk8Xj-f0lluU8pcr_2N6f3V7Sg5kuhsfWS8odHybTwXvG50NNtPV6_SPzh9e164DCGsrkogd8X4xD_7sgu9dCZk5RteffeSh-t2QxDv7IVQ3EEVENUJl-dCR0peRrCmzjOZzq1bQFCIOi5eeL9QOlhw60WuymPwb4mDDjKxDLwDaI_er6d-ju4E6mg7GOnFDLVLoJSsKFBGyApaouWn2PY_IP_fENaW6eKL2w7ANib8MzZAIDWcYAb4FjRmgZvb1XzWBmkBPZ3s1jYbM-dUo_KUd7CZItS7VwkQMVZRzgutcBz3ZRHwnZ7HD2sV5-J-ZXc9UMc4ApAkqEIdCQ0OnRzfkKGoDafur2XzT_Ir8jIlmM3oBD5i2M8V4824RJGnFryhg-iWa7YjtMJELE9nREg-MfD7NKBV_VCyDbs29KAhsFTwJX9wP_BfJBnk-u55d0RXcx6I-KakT2GfYepDEMRnDB2fvfyUlLOutU5DANQQ-DXgCGiLXMBJhiJaKxm5yCo5AcEx4=w1732-h1234-s-no?authuser=0)\n",
    "\n",
    "Correction:\n",
    "\n",
    "- This option is incorrect. The approximation 30.6 million would be a better estimate for year 11.\n",
    "\n",
    "![](https://lh3.googleusercontent.com/pw/AJFCJaWW1GZae7CbDqFrRlF5mdRU6YymDvSt7oCGND2qzZki0szJpqcue2myE4Y7vgJhSP8o67ZjpknvEVRV-ji4VBKgbt-CLcwSfmruD4Po8vvquDZlzBDSxB-yO_8Agfqxp_QrgeKpK5tR1DtSxsFiggT5bhzKenKG7aCAmat0Ge2nWh8U0qYVe1K38ofvHQXxzMZW6zKcyeNnhJuagJxqagjLhf9gxnNT0KxZDbP8fY-h-bNfieqWnhN5WYJ1MYdm6EkE-5PyQ9IaOevaetFq962ZfGO84y756TJCvHZ0a-EKyJpDvLJGN4rVdrQUeeZ2y7AYzMENYnc_dKYNWf3f1hKInnVvJ2mYKw818Qy-DWsGtRElXCofHU5V96DL9nKp4rlD6vyq7l9FGfkJAUz89tsMOt49IDakF5TuWVqmDokjquIvb2A7GgcQ5JIRN5MrIr4r0AFPNGOAizM6wfLN02tkZxsvWYb4t-RNIcze5mHZXgkgNPysp1uzVNhR5rijhcWhparZryO9c0GiYWDpZaOnMQLdN1YFu8X713bFypgdA0Cg4m7VOZESa95lBJJPJzMZVfSV-E5I32z1TOJWVrvgO-ZQb1x0qw2ZUUS9fhxcFA7cipx7VdgCU4yRsEC6rE2vDf8hhjGnL5bvrWrqgRbm049_0ZXnRm941kw3swLRHRVbxz10Cy607ftuh9lX8-s6CnSyAwtaCMNDz2vhqiEviVsXsfdJ9mvwxy8DZvLLIO_s1ab4LvNm3kBQJZnQP5fFFEURPuLThWWYTC6sviLDTjviEnZTgqnMV_dJ9dBOGhmCZU7pdIbKPS-L4K5Vv3atHLowYq746DBzQH2vHmqucnPAbacQjGKopw1FG_oEUb1CQCq6-lSLETvZH-YDD7SB3c4X8I8xGJ_geBLcjF-JD1eCIbhc0QooBny6kUNoE-SYYSrzcboXhmoKSbo=w1714-h912-s-no?authuser=0)\n",
    "\n",
    "Correction:\n",
    "\n",
    "- This option is incorrect. The Polynomial procedure calculates the sum of the Square and Cube procedures, but does not generalize their functionality to calculate any power of n.\n",
    "\n",
    "![](https://lh3.googleusercontent.com/pw/AJFCJaUGrbynzI6XPLr6GnS7tBvHzZFbkWS7oQ0hmsvZbuySbQixlkZwdTc494oiKMI4Pd4y3tAmra2X210imj3uM4qVMsM76xGHWKpLebuX9wy_TVv4UJKCfxROzT9Rlx7KQ4djapA_-e1iv9V2YQVIBc7EVfcXtBdxdGtHtEBJtKZc516V19iyB-wcl6RC3dtByt_TEeDFU44ijZd-BX6I_jm18-El98Kk_ozrWygI8IcyghQrg1SMPA-rLl0K0eIGdFBGRMttmnmPodeR9p6Kqdu9k4xUYHnotzFOowVdAJ9Qj4zX-yEJD_M8NIqFixOqRBfk_hd4VJUqr6fqf6_-3RZX_LP53LwaB6HHnhlXknyDLSW9xQlF6zFHLTksn5q8Lixj4CeUTFRoJKgLh0DLSo6KoIkBldRNugUq44nLJ2YYF7InGdAyOHV8AwNj8nY9iA-spEMnwCA84m24FMRXS4eNGEeY9u1ML5sV3Tz8x8CvCBHhb5WOlmgu3FZTjjzsRc6fIfHBNFkGZpJKsb2fKWK8WPc67tzrC_kAUMPKwWYhuvujqZj02cnCHSb-evLOzFY_8cuaBtt1RqR8I3HeRFMas0fV_acTGmY4bDpNv1EbqALrXK54DsP_Y02Qt-7JhUqKKlZvW6cx_9jVX2pcdiIHpsIKZNh7rxM3Yn0fq4cxDbHS1b5PSoiaYs8x38okyoKL6vp0dWi0-a5UaG3RC-wcumUGtWzEyrFNBSCo3iGqQc2mTzxcCMPkjrJb99UDA_ZhwpdjMUdmP9CcStWHvjmhiJDN3ObY3D18iOWeiC4vcdIfNWB-G99GEswpAiYHCf3Kbss6b-7uwXRme8oXo7zVFquBOVEvdipCdhLhYkIZ07ohzsMRDaH7OitdEWu4o_PeGfG3e0GSR4gsrSDQDAatZL8059ij7oZvBOsW1PhkicGtBokgDhrnCJFx6NI=w1702-h1256-s-no?authuser=0)\n",
    "\n",
    "Correction:\n",
    "\n",
    "- This option is incorrect. Option III works correctly, but option I does not. Option I does not work because it performs the \"shorten\" step before the \"keep palindromes\" step.\n",
    "\n"
   ]
  }
 ],
 "metadata": {
  "language_info": {
   "name": "python"
  },
  "orig_nbformat": 4
 },
 "nbformat": 4,
 "nbformat_minor": 2
}
