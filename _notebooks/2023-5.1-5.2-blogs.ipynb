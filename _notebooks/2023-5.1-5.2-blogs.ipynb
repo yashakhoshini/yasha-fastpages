{
 "cells": [
  {
   "attachments": {},
   "cell_type": "markdown",
   "metadata": {},
   "source": [
    "# 5.1 - 5.2 Project Blog\n",
    "> Three beneficial effects of your projects based on 5.1 Unit and a potential harmful effect of your project.\n",
    "\n",
    "- toc: true \n",
    "- badges: true\n",
    "- comments: true\n",
    "- categories: [markdown, notes]"
   ]
  },
  {
   "attachments": {},
   "cell_type": "markdown",
   "metadata": {},
   "source": [
    "#### Beneficial effects\n",
    "\n",
    "1. Allows people to view stock data and charting data easliy\n",
    "2. Teaches people about stocks and how they work\n",
    "3. Runs a stock simulation for beginners to get used to the market and market conditions.\n",
    "\n",
    "#### Harmful Effect\n",
    "\n",
    "1. Participants in our stock simulation game may develop a false sense of understanding how the stock market works and the level of risk involved. This can lead to unrealistic expecatations of returns, which may result in poor investment decisions in real life.\n",
    "\n",
    "#### Digital Divide\n",
    "\n",
    "- Some concerns I may have for the Digital Divide include massive gap in learning, access to technology can impact a students education forever. Places in which technology is scarce can potentially cause a massive learning gap to occur. Here at Del Norte, we have a variety of options for technology however in Encinitas for example, there won't be advanced tech like at Del Norte."
   ]
  }
 ],
 "metadata": {
  "kernelspec": {
   "display_name": "base",
   "language": "python",
   "name": "python3"
  },
  "language_info": {
   "name": "python",
   "version": "3.9.12"
  },
  "orig_nbformat": 4,
  "vscode": {
   "interpreter": {
    "hash": "f4522448fa03726c480e11d9815ce2c412646a9816150097c8daa961a4b73c1a"
   }
  }
 },
 "nbformat": 4,
 "nbformat_minor": 2
}
