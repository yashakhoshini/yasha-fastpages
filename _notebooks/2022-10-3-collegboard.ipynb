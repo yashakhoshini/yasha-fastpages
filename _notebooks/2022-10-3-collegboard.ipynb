{
 "cells": [
  {
   "cell_type": "markdown",
   "metadata": {},
   "source": [
    "# Collegeboard Completion\n",
    "> Completing the APCSP collegeboard quizzes\n",
    "\n",
    "- toc: true \n",
    "- badges: true\n",
    "- comments: true\n",
    "- categories: [jupyter, python, collegboard]"
   ]
  },
  {
   "cell_type": "markdown",
   "metadata": {},
   "source": [
    "![](https://lh3.googleusercontent.com/3WDz9KoqKncR54C3V9oqenqLLLlx9qWxtLPZH3ngUBvuc5DmL4z_zzyj_0zhCSN0dp0wIlT339JPFshwy4pTg_YqEtEevM6UCfBvJohXrVVUx7k9p-4c4R3dHuy-Twhw8RTXSDEN4ZabTaOtXw9ezkSmZETg9QUk6UgYcn9TX5i7GATOloEl6FiJtahYH7_SdSf4DRWbWEMqHueRaOp6U0um9lyGzToWEZote6ny9mpTUgq67uhPmBGOnFC87xpLnzVzS132h8c11W2KJk2ONxRrqdF5RTN6r1ZuEk-ei-W5vBPnkRKNUz6HOPOVMDiZOYHvlinTor5RpRmwegHY_8IkFSbSXTfO_EzSxAdH0RQYCyA44ZBGmlajT8JtgMKn5Jk2qaQutydWmueghzuXlQrRB6NbtSkMWyVGZsZQeM6WYTvYAzmT06gSudXDUx_8xiPtQK0xKvM2cj8Oc6lHIoSY9hQT_rE83Em_JwKpmNrXdx7IOLBk-_yKcLr0Ukp0--xLnE_XuJTuOyA2WWfjYG2uLpnUfwWnPeWjg97w3O79CJ_YJGfd1HpizbKuM_uPNdMr96-htLg4QI4Q4LTvphdiBDjUlHyYv4T1m92lL5_FY-KNJYhV7SAj7c8dh8mP4pCTmLGmYmDl0iIgtoI_niyzDOq4jeHh1VC5s12M3rfkyCNuwKNrNc_ukStdv2cieSYB2SNjn1HpU1ah1ImVYGyd0nT0NIUPnHRXfRuGonJVYTfeCgXCXvXvsthhO1m22RtXfvn1cn9faL_hNn8-jVEx9TkORh1Gvo79m8rY6LWLydO2LGNCAvcoA31epD-vjciGTlAiXcT9x7kdoP3AMIAcOwgs5jNyeRwt2TYDHaoGEZMvjbukgKg42Au74O_2-iPa0N9BxdTFD5Gxdfv8ER0FCQqQ0yzFPJJ8Tt3gzZt1prPnvlY-J4Glv1Ui-fD8h9sVIeNeXQRJCQ=w328-h189-no?authuser=0)\n",
    "\n",
    "# Overview:\n",
    "Overall I thought the quizzes were difficult, I need to study more of the vocab terms mentioned in the questions."
   ]
  }
 ],
 "metadata": {
  "kernelspec": {
   "display_name": "Python 3.9.12 ('base')",
   "language": "python",
   "name": "python3"
  },
  "language_info": {
   "name": "python",
   "version": "3.9.12"
  },
  "orig_nbformat": 4,
  "vscode": {
   "interpreter": {
    "hash": "f4522448fa03726c480e11d9815ce2c412646a9816150097c8daa961a4b73c1a"
   }
  }
 },
 "nbformat": 4,
 "nbformat_minor": 2
}
