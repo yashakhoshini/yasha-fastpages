{
 "cells": [
  {
   "attachments": {},
   "cell_type": "markdown",
   "metadata": {},
   "source": [
    "# Links to lesson notes\n",
    "> Making a notebook that contains all my previous lesson notes (1-18)\n",
    "\n",
    "- toc: true \n",
    "- badges: true\n",
    "- comments: true\n",
    "- categories: [python, lesson, collegeboard, ]"
   ]
  },
  {
   "attachments": {},
   "cell_type": "markdown",
   "metadata": {},
   "source": [
    "[Key Vocabulary](https://yashakhoshini.github.io/yasha-fastpages/jupyter/python/2022/12/08/vocab-and-code.html)\n",
    "\n",
    "\n",
    "[Mathematical Expressions and Strings](https://yashakhoshini.github.io/yasha-fastpages/collegeboard/2022/11/28/3.1-3.1-group-lesson.html)\n",
    "\n",
    "\n",
    "[Boolean Expression, Conditionals, Nested Conditionals](https://yashakhoshini.github.io/yasha-fastpages/lesson%20plans/2022/11/30/3.3-3.4-lesson-notes.html)\n",
    "\n",
    "\n",
    "[Boolean Iteration and Lists](https://yashakhoshini.github.io/yasha-fastpages/collegeboard/2022/12/17/22-group-lesson-5-7.html)\n",
    "\n",
    "\n",
    "[Developing Algorithms and Binary Search](https://yashakhoshini.github.io/yasha-fastpages/lesson%20plans/2022/12/07/developing-algoithms-and-binary-search.html)\n",
    "\n",
    "\n",
    "[Calling and Developing Procedures](https://yashakhoshini.github.io/yasha-fastpages/collegeboard/python/2022/12/09/calling-developing-procedures.html)\n",
    "\n",
    "\n",
    "[Libraries and Random Values](https://yashakhoshini.github.io/yasha-fastpages/ap%20csp/unit%203/section%2014/section%2015/lesson/2022/12/15/lesson-14-and-15-hacks.html)\n",
    "\n",
    "\n",
    "[Simulations](https://yashakhoshini.github.io/yasha-fastpages/python/hacks/2022/12/14/simulations.html)"
   ]
  }
 ],
 "metadata": {
  "kernelspec": {
   "display_name": "Python 3.9.12 ('base')",
   "language": "python",
   "name": "python3"
  },
  "language_info": {
   "name": "python",
   "version": "3.9.12 (main, Apr  5 2022, 01:53:17) \n[Clang 12.0.0 ]"
  },
  "orig_nbformat": 4,
  "vscode": {
   "interpreter": {
    "hash": "f4522448fa03726c480e11d9815ce2c412646a9816150097c8daa961a4b73c1a"
   }
  }
 },
 "nbformat": 4,
 "nbformat_minor": 2
}
