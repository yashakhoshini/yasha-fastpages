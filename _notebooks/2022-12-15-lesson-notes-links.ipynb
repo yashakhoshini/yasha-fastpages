{
 "cells": [
  {
   "attachments": {},
   "cell_type": "markdown",
   "metadata": {},
   "source": [
    "# Links to lesson notes\n",
    "> Making a notebook that contains all my previous lesson notes (1-18)\n",
    "\n",
    "- toc: true \n",
    "- badges: true\n",
    "- comments: true\n",
    "- categories: [python, lesson, collegeboard, ]"
   ]
  },
  {
   "attachments": {},
   "cell_type": "markdown",
   "metadata": {},
   "source": [
    "[]()\n",
    "[]()\n",
    "[]()\n",
    "[]()\n",
    "[]()\n",
    "[]()\n",
    "[]()\n",
    "[]()"
   ]
  }
 ],
 "metadata": {
  "kernelspec": {
   "display_name": "Python 3.9.12 ('base')",
   "language": "python",
   "name": "python3"
  },
  "language_info": {
   "name": "python",
   "version": "3.9.12"
  },
  "orig_nbformat": 4,
  "vscode": {
   "interpreter": {
    "hash": "f4522448fa03726c480e11d9815ce2c412646a9816150097c8daa961a4b73c1a"
   }
  }
 },
 "nbformat": 4,
 "nbformat_minor": 2
}
