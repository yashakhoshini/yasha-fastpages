{
 "cells": [
  {
   "attachments": {},
   "cell_type": "markdown",
   "metadata": {},
   "source": [
    "#  Data Structures- Hashmaps, Sets, Hash Tables, Hashing and Collisions\n",
    "> Observing hashmaps with python dictionaries\n",
    "- toc: true\n",
    "- image: /images/python.png\n",
    "- categories: []\n",
    "- type: pbl\n",
    "- week: 28"
   ]
  },
  {
   "attachments": {},
   "cell_type": "markdown",
   "metadata": {},
   "source": [
    "## What is a Hashtable/Hashmap?\n",
    "\n",
    "> A hashtable is a data structure that with a collection of key-value pairs, where each key maps to a value, and the keys must be unique and hashable.\n",
    "\n",
    "- In Python there is a built in hashtable known as a dictionary.\n",
    "\n",
    "> The primary purpose of a hashtable is to provide efficient lookup, insertion, and deletion operations. When an element is to be inserted into the hashtable, a hash function is used to map the key to a specific index in the underlying array that is used to store the key-value pairs. The value is then stored at that index. When searching for a value, the hash function is used again to find the index where the value is stored.\n",
    "\n",
    "> The key advantage of a hashtable over other data structures like arrays and linked lists is its average-case time complexity for lookup, insertion, and deletion operations.\n",
    "\n",
    "- The typical time complexity of a hashtable is O(1) for insertions, deletions, and lookups. \n"
   ]
  },
  {
   "attachments": {},
   "cell_type": "markdown",
   "metadata": {},
   "source": [
    "## What is Hashing and Collision?\n",
    "\n",
    "> Hashing is the process of mapping a given key to a value in a hash table or hashmap, using a hash function. The hash function takes the key as input and produces a hash value or hash code, which is then used to determine the index in the underlying array where the value is stored. The purpose of hashing is to provide a quick and efficient way to access data, by eliminating the need to search through an entire data structure to find a value.\n",
    "\n",
    "> However, it is possible for two different keys to map to the same hash value, resulting in a collision. When a collision occurs, there are different ways to resolve it, depending on the collision resolution strategy used.\n",
    "\n",
    "> Python's dictionary implementation is optimized to handle collisions efficiently, and the performance of the dictionary is generally very good, even in the presence of collisions. However, if the number of collisions is very high, the performance of the dictionary can degrade, so it is important to choose a good hash function that minimizes collisions when designing a Python dictionary.\n",
    "\n",
    "## What is a Set?"
   ]
  },
  {
   "cell_type": "code",
   "execution_count": 2,
   "metadata": {},
   "outputs": [
    {
     "name": "stdout",
     "output_type": "stream",
     "text": [
      "{1, 2, 3}\n"
     ]
    }
   ],
   "source": [
    "# Creating a set using set() function\n",
    "my_set = set([1, 2, 3, 2, 1])\n",
    "print(my_set)  \n",
    "\n",
    "# What do you notice in the output?\n",
    "\n",
    "# You will notice that the duplicates are removed, and only unique values are present in the set. So, the output will be {1, 2, 3}.\n",
    "\n",
    "# Why do you think Sets are in the same tech talk as Hashmaps/Hashtables?\n",
    "\n",
    "# Sets and Hashmaps/Hashtables both use hashing to store and retrieve elements. Sets use hash tables to store unique values, and Hashmaps/Hashtables use hash tables to store key-value pairs. Both of these data structures provide fast lookup times by using hashing to index and retrieve elements. Hence, Sets and Hashmaps/Hashtables are in the same tech talk because they share similar concepts and implementation techniques."
   ]
  },
  {
   "attachments": {},
   "cell_type": "markdown",
   "metadata": {},
   "source": [
    "## Dictionary Example\n",
    "\n",
    "Below are just some basic features of a dictionary. As always, documentation is always the main source for all the full capablilties. "
   ]
  },
  {
   "cell_type": "code",
   "execution_count": 3,
   "metadata": {},
   "outputs": [
    {
     "name": "stdout",
     "output_type": "stream",
     "text": [
      "{'league': 'Prem', 'top_team': 'Arsenal', 'year': 2023, 'title-contenders': ['Man City', 'Newcastle United', 'Arsenal'], 'standings': {1: 'Arsenal', 2: 'Man City', 3: 'Man United', 4: 'Tottenham', 5: 'Newcastle', 6: 'Liverpool', 7: 'Brighton', 8: 'Brentford', 9: 'Fullham', 10: 'Chelsea', 11: 'London Boy', 12: 'Aston Villa', 13: 'Crystal Palace', 14: 'Wolves', 15: 'leeds', 16: 'Everton', 17: 'Nottm Forest', 18: 'Leicester City', 19: 'West Ham', 20: 'Bouremouth', 21: 'Southhampton'}}\n"
     ]
    }
   ],
   "source": [
    "# Creating a dictionary with information about the album \"Lover\"\n",
    "prem_teams = {\n",
    "    \"league\": \"Prem\",\n",
    "    \"top_team\": \"Arsenal\",\n",
    "    \"year\": 2023,\n",
    "    \"title-contenders\": [\"Man City\", \"Newcastle United\", \"Arsenal\"],\n",
    "    \"standings\": {\n",
    "        1: \"Arsenal\",\n",
    "        2: \"Man City\",\n",
    "        3: \"Man United\",\n",
    "        4: \"Tottenham\",\n",
    "        5: \"Newcastle\",\n",
    "        6: \"Liverpool\",\n",
    "        7: \"Brighton\",\n",
    "        8: \"Brentford\",\n",
    "        9: \"Fullham\",\n",
    "        10: \"Chelsea\",\n",
    "        11: \"London Boy\",\n",
    "        12: \"Aston Villa\",\n",
    "        13: \"Crystal Palace\",\n",
    "        14: \"Wolves\",\n",
    "        15: \"leeds\",\n",
    "        16: \"Everton\",\n",
    "        17: \"Nottm Forest\",\n",
    "        18: \"Leicester City\",\n",
    "        19: \"West Ham\",\n",
    "        20: \"Bouremouth\",\n",
    "        21: \"Southhampton\",\n",
    "    }\n",
    "}\n",
    "\n",
    "# What data structures do you see?\n",
    "\n",
    "# List & Dictionary\n",
    "\n",
    "# Printing the dictionary\n",
    "print(prem_teams)"
   ]
  },
  {
   "cell_type": "code",
   "execution_count": 4,
   "metadata": {},
   "outputs": [
    {
     "name": "stdout",
     "output_type": "stream",
     "text": [
      "{1: 'Arsenal', 2: 'Man City', 3: 'Man United', 4: 'Tottenham', 5: 'Newcastle', 6: 'Liverpool', 7: 'Brighton', 8: 'Brentford', 9: 'Fullham', 10: 'Chelsea', 11: 'London Boy', 12: 'Aston Villa', 13: 'Crystal Palace', 14: 'Wolves', 15: 'leeds', 16: 'Everton', 17: 'Nottm Forest', 18: 'Leicester City', 19: 'West Ham', 20: 'Bouremouth', 21: 'Southhampton'}\n",
      "title-contenders:\n",
      "['Man City', 'Newcastle United', 'Arsenal']\n"
     ]
    }
   ],
   "source": [
    "# Retrieve value from dictionary with key\n",
    "print(prem_teams.get('standings'))\n",
    "# or\n",
    "print(\"title-contenders:\")\n",
    "print(prem_teams['title-contenders'])"
   ]
  },
  {
   "cell_type": "code",
   "execution_count": 5,
   "metadata": {},
   "outputs": [
    {
     "name": "stdout",
     "output_type": "stream",
     "text": [
      "Your a dumbass Arsenal will never win the premiere league.\n"
     ]
    }
   ],
   "source": [
    "# Retrieve value from a dictionary inside a dictionary\n",
    "\n",
    "# Using conditionals to retrieve a random song\n",
    "\n",
    "answer = input(\"Will Arsenal win the Premier League? \")\n",
    "if answer.lower() == \"never\":\n",
    "    print(\"Finally a non-deluded futbol fan.\")\n",
    "else:\n",
    "    print(\"Your a dumbass Arsenal will never win the premiere league.\")\n"
   ]
  },
  {
   "cell_type": "code",
   "execution_count": 6,
   "metadata": {},
   "outputs": [
    {
     "name": "stdout",
     "output_type": "stream",
     "text": [
      "owners of the premiere league are:\n",
      "['Lionel Messi', 'Henry', 'Cristiano Ronaldo']\n"
     ]
    }
   ],
   "source": [
    "# adding a value with a new key\n",
    "prem_teams[\"owner\"] = list(set(['Lionel Messi', 'Cristiano Ronaldo', 'Henry', 'Henry' ]))\n",
    "\n",
    "# What can you change to make sure there are no duplicate producers?\n",
    "#\n",
    "# Use a set to remove duplicates\n",
    "\n",
    "# Printing the dictionary\n",
    "print(\"owners of the premiere league are:\")\n",
    "print(prem_teams[\"owner\"])"
   ]
  },
  {
   "cell_type": "code",
   "execution_count": 7,
   "metadata": {},
   "outputs": [
    {
     "name": "stdout",
     "output_type": "stream",
     "text": [
      "{'league': 'Prem', 'top_team': 'Arsenal', 'year': 2023, 'title-contenders': ['Man City', 'Newcastle United', 'Arsenal'], 'standings': {1: 'Arsenal', 2: 'Man City', 3: 'Man United', 4: 'Tottenham', 5: 'Newcastle', 6: 'Liverpool', 7: 'Brighton', 8: 'Brentford', 9: 'Fullham', 10: 'Chelsea', 11: 'London Boy', 12: 'Aston Villa', 13: 'Crystal Palace', 14: 'Wolves', 15: 'leeds', 16: 'Everton', 17: 'Nottm Forest', 18: 'Leicester City', 19: 'West Ham', 20: 'Bouremouth', 21: 'SDSC FC'}, 'owner': ['Lionel Messi', 'Henry', 'Cristiano Ronaldo'], 'red-genre-kit': 'arsenal, liverpool, nottm forest'}\n"
     ]
    }
   ],
   "source": [
    "# Adding a an key-value pair to an existing key \n",
    "prem_teams[\"standings\"].update({21: \"SDSC FC\"})\n",
    "prem_teams[\"red-genre-kit\"] = \"arsenal, liverpool, nottm forest\"\n",
    "\n",
    "# How would add an additional genre to the dictionary, like electropop? \n",
    "# \n",
    "\n",
    "# Printing the dictionary\n",
    "print(prem_teams)"
   ]
  },
  {
   "cell_type": "markdown",
   "metadata": {},
   "source": []
  },
  {
   "cell_type": "code",
   "execution_count": 18,
   "metadata": {},
   "outputs": [
    {
     "name": "stdout",
     "output_type": "stream",
     "text": [
      "league: Prem\n",
      "top_team: Arsenal\n",
      "year: 2023\n",
      "title-contenders: ['Man City', 'Newcastle United', 'Arsenal']\n",
      "standings: {1: 'Arsenal', 2: 'Man City', 3: 'Man United', 4: 'Tottenham', 5: 'Newcastle', 6: 'Liverpool', 7: 'Brighton', 8: 'Brentford', 9: 'Fullham', 10: 'Chelsea', 11: 'London Boy', 12: 'Aston Villa', 13: 'Crystal Palace', 14: 'Wolves', 15: 'leeds', 16: 'Everton', 17: 'Nottm Forest', 18: 'Leicester City', 19: 'West Ham', 20: 'Bouremouth', 21: 'SDSC FC'}\n",
      "owner: ['Lionel Messi', 'Henry', 'Cristiano Ronaldo']\n",
      "red-genre-kit: arsenal, liverpool, nottm forest\n"
     ]
    }
   ],
   "source": [
    "for k,v in prem_teams.items(): # iterate using a for loop for key and value\n",
    "    print(str(k) + \": \" + str(v))\n",
    "\n",
    "# Write your own code to print tracks in readable format\n",
    "#"
   ]
  },
  {
   "cell_type": "code",
   "execution_count": 23,
   "metadata": {},
   "outputs": [
    {
     "name": "stdout",
     "output_type": "stream",
     "text": [
      "Liverpool FC is indeed a Premier League team.\n",
      "Here's a chant for Liverpool FC: We're the Arsenal\n"
     ]
    }
   ],
   "source": [
    "# Using conditionals to retrieve a random song\n",
    "import random\n",
    "\n",
    "prem_teams = {\"arsenal\": \"Arsenal FC\", \"chelsea\": \"Chelsea FC\", \"liverpool\": \"Liverpool FC\", \"manchester city\": \"Manchester City FC\", \"manchester united\": \"Manchester United FC\", \"tottenham hotspur\": \"Tottenham Hotspur FC\"}\n",
    "\n",
    "def search():\n",
    "    options = list(prem_teams.keys())\n",
    "    search = input(f\"What prem team do you want to know about? Options: {options}\\n\")\n",
    "    search = search.lower()\n",
    "    if search not in prem_teams:\n",
    "        print(\"They ain't in the prem.\")\n",
    "    else:\n",
    "        team = prem_teams[search]\n",
    "        print(f\"{team} is indeed a Premier League team.\")\n",
    "        random_song = random.choice([\"We're the Arsenal\", \"Blue is the Colour\", \"You'll Never Walk Alone\", \"Blue Moon\", \"Glory Glory Man United\", \"When the Spurs Go Marching In\"])\n",
    "        print(f\"Here's a chant for {team}: {random_song}\")\n",
    "\n",
    "search()\n",
    "\n",
    "# This is a very basic code segment, how can you improve upon this code?\n",
    "\n",
    "# My improved code is in the segment below."
   ]
  },
  {
   "cell_type": "code",
   "execution_count": 32,
   "metadata": {},
   "outputs": [
    {
     "name": "stdout",
     "output_type": "stream",
     "text": [
      "Goals scored this upcoming game arsenal: 5\n"
     ]
    }
   ],
   "source": [
    "import random\n",
    "\n",
    "def search_prem():\n",
    "    search_query = input(\"What team do you think will score __ amount of goals this weekend? \")\n",
    "    if search_query.lower() not in prem_teams:\n",
    "        print(\"Invalid search query.\")\n",
    "    else:\n",
    "        goals = prem_teams[search_query.lower()]\n",
    "        random_goals = [1, 2, 3, 4, 5]\n",
    "        goals_scored = random.choice(random_goals)\n",
    "        print(f\"Goals scored this upcoming game {search_query}: {goals_scored}\")\n",
    "        \n",
    "search_prem()\n"
   ]
  },
  {
   "attachments": {},
   "cell_type": "markdown",
   "metadata": {},
   "source": [
    "## Hacks\n",
    "\n",
    "- Answer *ALL* questions in the code segments\n",
    "\n",
    "- Create a diagram or comparison illustration (Canva).\n",
    "    - What are the pro and cons of using this data structure?\n",
    "\n",
    "    - Dictionary vs List    \n",
    "\n",
    "- Expand upon the code given to you, possible improvements in comments\n",
    "\n",
    "- Build your own album showing features of a python dictionary\n",
    "\n",
    "Done.\n",
    "\n",
    "- For Mr. Yeung's class: Justify your favorite Taylor Swift song, answer may effect seed\n",
    "\n",
    "I don't have a favorite Taylor Swift, in fact I hate Taylor swift."
   ]
  },
  {
   "attachments": {},
   "cell_type": "markdown",
   "metadata": {},
   "source": [
    "![](https://lh3.googleusercontent.com/pw/AMWts8AYrwIkDx50vjVUW-GjyY0Dp4u-FxqVQ-QOX7FWkX_IXu3xcicqnYs79q7-Ltpf4YFs0u72vHF1SMBMm3U-iBFVd5DdV0A6-Q2G_ZGoItpAfHhzl2lb95Neo4pYqlcyB5CfhYExTrLtCzQI_OxhJVMkwY7Z8lV0dVD1CuQ_gq7_bWZZp0pHhOIoLOG9FN6hyn4hyaYkBVOYJ22Tzbgxxo5gD2B6a53nS-u10aRsul5LWXGQmTrGZ7oJaJhB8a-e8BV0sfrn3Q5GWtdGltE6j8UGFm_4CG5SQQP3friw5UFdP0Tvq8CAkEF7GEtcp1MQIUVuZiT_07VsCFR3Fv93Zx8x7oKYLy8HP7DNzWvJoArslQSumNXAdlPTR2Xqz_-8RFvTGxkiznSL232RoYUkBx1FWPZm9PrVwQkXBlTgPpgcXhxcZR2qwxLusEsQBuKKqKz8PQGWo9iNoCB_OxqFhl9XlsNbnQOqrna3AAlbyNKbCj6EYGnb0gzjDeDYeh_8841J3y6nTDNGm1EYKmQ0DOnw63Tp-Pbljq4TEfu3CAdpc6dXX2xlBiLBqash4cYGDRqNNKRWMwSjBefJ7XG2zJAbWGL9IZnqnIBuRqxKrGg1dhpNwAIx0__qH1_3hUdOjern_DA7MUZUnbibe1N8dYcVI8RrWWw-YTKj4dK7hIjlTvFPAlmkpbU4rxfudTnUT8CSsRO5WXOHU5kh0-tScw0cqOQj5VYNnIuJw-pwxNJABI9NbPBitV62F0QwasF-q2f0nXsNVBVswXGi64ZJ_RpQezyjMBM_CkbO4vv146QVmsLjuHfWHTqpnLozhaeQBfDNkMwQOZrTgShyF_aCUatI_jfIiZKjZ0cjCE5MpmFHC25UghZaNrCC6TU7HSnFBLKAPwbUEHlHJhdAexuR3zGtgA=w1386-h1386-s-no?authuser=0)"
   ]
  }
 ],
 "metadata": {
  "kernelspec": {
   "display_name": "base",
   "language": "python",
   "name": "python3"
  },
  "language_info": {
   "codemirror_mode": {
    "name": "ipython",
    "version": 3
   },
   "file_extension": ".py",
   "mimetype": "text/x-python",
   "name": "python",
   "nbconvert_exporter": "python",
   "pygments_lexer": "ipython3",
   "version": "3.9.12"
  },
  "orig_nbformat": 4
 },
 "nbformat": 4,
 "nbformat_minor": 2
}
