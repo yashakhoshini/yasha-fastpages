{
 "cells": [
  {
   "cell_type": "markdown",
   "metadata": {},
   "source": [
    "# Technical Business Extra Credit\n",
    " \n",
    "- title: Notes on technical business extra credit\n",
    "- toc: true\n",
    "- categories: [python, markdown, ]"
   ]
  },
  {
   "cell_type": "markdown",
   "metadata": {},
   "source": [
    "#### Notes\n",
    "\n",
    "- Career Journey\n",
    "    - Wells Fargo, Nikko Securities (1995-1996)\n",
    "    - HP inc (1996-2004)\n",
    "    - Qualcomm (2005-2018)\n",
    "    - Finance major, first job at college was an investment major at Wells Fargo\n",
    "    - She was also a stock broker\n",
    "\n",
    "\n",
    "- HP Inc: Create technology that makes life better for everyone, every whre\n",
    "\n",
    "- Qualcomm: Inventing the tech the world loves\n",
    "\n",
    "- Thermo Fisher Scientific: Enable customers to make the world healthier, cleaner, and safer.\n",
    "\n",
    "Main similarity = They all benefit the people."
   ]
  }
 ],
 "metadata": {
  "kernelspec": {
   "display_name": "Python 3.9.12 ('base')",
   "language": "python",
   "name": "python3"
  },
  "language_info": {
   "name": "python",
   "version": "3.9.12"
  },
  "orig_nbformat": 4,
  "vscode": {
   "interpreter": {
    "hash": "f4522448fa03726c480e11d9815ce2c412646a9816150097c8daa961a4b73c1a"
   }
  }
 },
 "nbformat": 4,
 "nbformat_minor": 2
}
