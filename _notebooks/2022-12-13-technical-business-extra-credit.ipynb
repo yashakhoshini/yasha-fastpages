{
 "cells": [
  {
   "cell_type": "markdown",
   "metadata": {},
   "source": [
    "# Technical Business Extra Credit\n",
    " \n",
    "- title: Notes on technical business extra credit\n",
    "- toc: true\n",
    "- categories: [python, markdown, ]"
   ]
  },
  {
   "cell_type": "markdown",
   "metadata": {},
   "source": [
    "#### Notes on Kathleen\n",
    "\n",
    "- Career Journey\n",
    "    - Wells Fargo, Nikko Securities (1995-1996)\n",
    "    - HP inc (1996-2004)\n",
    "    - Qualcomm (2005-2018)\n",
    "    - Finance major, first job at college was an investment major at Wells Fargo\n",
    "    - She was also a stock broker\n",
    "\n",
    "\n",
    "- HP Inc: Create technology that makes life better for everyone, every whre\n",
    "\n",
    "- Qualcomm: Inventing the tech the world loves\n",
    "\n",
    "- Thermo Fisher Scientific: Enable customers to make the world healthier, cleaner, and safer.\n",
    "\n",
    "Main similarity = They all benefit the people."
   ]
  },
  {
   "cell_type": "markdown",
   "metadata": {},
   "source": [
    "#### Notes on Kris Porter\n",
    "\n",
    "- Software Engineer: SRE, DevOps, Infrastructure\n",
    "- Livermore hish school alum\n",
    "    - Enjoyed STEM classes\n",
    "- Enrolled at UCLA for Electrical Engineering\n",
    "    - Focus on cummonucation systems and computer networks\n",
    "- Master's degree in Electrical Engineering from Cal State LA\n",
    "- Center for Embeded Netwroked Sensors\n",
    "    - Networked Infomechanical Systems (NIMS)\n",
    "    - Introduced to the Linux Operating Sytstem, Software Development\n",
    "\n",
    "#### Timeline\n",
    "\n",
    "- Finished graduate school, stock market had crashed meant there were no job opportunities (2008)\n",
    "- Systems Engineer at GPM (2010)\n",
    "- NB Universal, Streaming media infrastructure (2012)\n",
    "- Intro to DevOps, transition to Qualcomm (2014)\n",
    "- Working at Twitter... (2021)"
   ]
  }
 ],
 "metadata": {
  "kernelspec": {
   "display_name": "Python 3.9.12 ('base')",
   "language": "python",
   "name": "python3"
  },
  "language_info": {
   "name": "python",
   "version": "3.9.12"
  },
  "orig_nbformat": 4,
  "vscode": {
   "interpreter": {
    "hash": "f4522448fa03726c480e11d9815ce2c412646a9816150097c8daa961a4b73c1a"
   }
  }
 },
 "nbformat": 4,
 "nbformat_minor": 2
}
