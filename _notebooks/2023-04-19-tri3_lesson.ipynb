{
 "cells": [
  {
   "attachments": {},
   "cell_type": "markdown",
   "metadata": {},
   "source": [
    "# Tri-3-Lesson\n",
    "> Reviewing Data Analysis.\n",
    "- toc: true\n",
    "- categories: [Notebooks]\n",
    "- week: 31"
   ]
  },
  {
   "attachments": {},
   "cell_type": "markdown",
   "metadata": {},
   "source": [
    "## What you should Have to Start\n",
    "\n",
    "- Should have wget this file (tri3-lesson.ipynb)\n",
    "- wget this file: https://raw.githubusercontent.com/JoshuaW03628/Repository-1/master/nba_player_statistics.csv\n",
    "- Copy Path from nba_player_statistics.csv and replace prior path for it."
   ]
  },
  {
   "attachments": {},
   "cell_type": "markdown",
   "metadata": {},
   "source": [
    "# Lesson Portion 1: ReIntroduction to Data Analysis, NunPy, and Pandas, Why is it important?"
   ]
  },
  {
   "attachments": {},
   "cell_type": "markdown",
   "metadata": {},
   "source": [
    "### Data Analysis."
   ]
  },
  {
   "attachments": {},
   "cell_type": "markdown",
   "metadata": {},
   "source": [
    "Data Analysis is the process of examining data sets in order to find trends and draw conclusions about the given information. Data analysis is important because it helps businesses optimize their performances."
   ]
  },
  {
   "attachments": {},
   "cell_type": "markdown",
   "metadata": {},
   "source": [
    "### What is NunPy and Pandas"
   ]
  },
  {
   "attachments": {},
   "cell_type": "markdown",
   "metadata": {},
   "source": [
    "Pandas library involves a lot of data analysis in Python. NumPy Library is mostly used for working with numerical values and it makes it easy to apply with mathematical functions."
   ]
  },
  {
   "attachments": {},
   "cell_type": "markdown",
   "metadata": {},
   "source": [
    "# Lesson Portion 2 More into NunPy\n",
    "\n",
    "### What we are covering;\n",
    "\n",
    "- Explanation of NumPy and its uses in data analysis\n",
    "- Importing NumPy library\n",
    "- Examining NumPy arrays\n",
    "- Creating NumPy arrays and performing intermediate array operations\n",
    "- Popcorn Hacks, Make your own percentile NunPy array"
   ]
  },
  {
   "attachments": {},
   "cell_type": "markdown",
   "metadata": {},
   "source": [
    "#### What is NunPy's use in data analysis/ how to import NunPy."
   ]
  },
  {
   "attachments": {},
   "cell_type": "markdown",
   "metadata": {},
   "source": [
    "NumPy is a tool in Python that helps with doing math and data analysis. It's great for working with large amounts of data, like numbers in a spreadsheet. NumPy is really good at doing calculations quickly and accurately, like finding averages, doing algebra, and making graphs. It's used a lot by scientists and people who work with data because it makes their work easier and faster."
   ]
  },
  {
   "cell_type": "code",
   "execution_count": null,
   "metadata": {},
   "outputs": [],
   "source": [
    "import numpy as np"
   ]
  },
  {
   "attachments": {},
   "cell_type": "markdown",
   "metadata": {},
   "source": [
    "### List of NunPy Functions, what they do, and examples.\n",
    "\n",
    "- Link; https://www.educba.com/numpy-functions/\n",
    "\n"
   ]
  },
  {
   "attachments": {},
   "cell_type": "markdown",
   "metadata": {},
   "source": [
    "### Example of Using NunPy in Our Project"
   ]
  },
  {
   "attachments": {},
   "cell_type": "markdown",
   "metadata": {},
   "source": [
    "This code calculates the total plate appearances for a baseball player using NumPy's sum() function, similar to the original example. It then uses NumPy to calculate the total number of bases (hits plus walks) for the player, and divides that by the total number of plate appearances to get the on-base percentage. The results are then printed to the console."
   ]
  },
  {
   "cell_type": "code",
   "execution_count": null,
   "metadata": {},
   "outputs": [],
   "source": [
    "import numpy as np\n",
    "\n",
    "# Example data\n",
    "player_hits = np.array([3, 1, 2, 0, 1, 2, 1, 2])  # Player's hits in each game\n",
    "player_walks = np.array([1, 0, 0, 1, 2, 1, 1, 0])  # Player's walks in each game\n",
    "player_strikeouts = np.array([2, 1, 0, 2, 1, 1, 0, 1])  # Player's strikeouts in each game\n",
    "\n",
    "# array to store plate appearances (PA) for the player\n",
    "total_pa = np.sum(player_hits != 0) + np.sum(player_walks) + np.sum(player_strikeouts)\n",
    "\n",
    "# array to store on-base percentage (OBP) for the player\n",
    "total_bases = np.sum(player_hits) + np.sum(player_walks)\n",
    "obp = total_bases / total_pa\n",
    "\n",
    "# Print the total plate appearances and on-base percentage for the player\n",
    "print(f\"Total plate appearances: {total_pa}\")\n",
    "print(f\"On-base percentage: {obp:.3f}\")\n"
   ]
  },
  {
   "attachments": {},
   "cell_type": "markdown",
   "metadata": {},
   "source": [
    "## Activity 1; PopCorn Hacks; Creating a NunPy Array and Analyzing the Data using Array Operations"
   ]
  },
  {
   "cell_type": "code",
   "execution_count": null,
   "metadata": {},
   "outputs": [],
   "source": [
    "import numpy as np\n",
    "\n",
    "#Create a NumPy array of the heights of players in a basketball team\n",
    "heights = np.array([192, 195, 193, 200, 211, 199, 201, 198, 184, 190, 196, 203, 208, 182, 207])\n",
    "\n",
    "# Calculate the percentile rank of each player's height\n",
    "percentiles = np.percentile(heights, [25, 50, 75])\n",
    "\n",
    "# Print the results\n",
    "print(\"The 25th percentile height is\", percentiles[0], \"cm.\")\n",
    "print(\"The 50th percentile height is\", percentiles[1], \"cm.\")\n",
    "print(\"The 75th percentile height is\", percentiles[2], \"cm.\")\n",
    "\n",
    "# Determine the number of players who are in the top 10% tallest\n",
    "top_10_percent = np.percentile(heights, 90)\n",
    "tallest_players = heights[heights >= top_10_percent]\n",
    "\n",
    "print(\"There are\", len(tallest_players), \"players in the top 10% tallest.\")\n"
   ]
  },
  {
   "cell_type": "code",
   "execution_count": null,
   "metadata": {},
   "outputs": [],
   "source": [
    "# Starter Code\n",
    "\n",
    "import numpy as np\n",
    "\n",
    "#Create a NumPy array of the x\n",
    "x = np.array([])\n",
    "\n",
    "# Calculate the percentile rank of x\n",
    "y = np.percentile(x, [1,2,3])\n",
    "\n",
    "# Print the results\n",
    "print(\"\", percentiles[0], \"\")\n",
    "print(\"\", percentiles[1], \"\")\n",
    "print(\"\", percentiles[2], \"\")\n",
    "\n",
    "# Determine the number of players who are in the top 10% x\n",
    "t = np.percentile(x, 90)\n",
    "z = x[x >= t]\n",
    "\n",
    "print(\"There are\", len(z), \"players in the top 10% (x).\")\n"
   ]
  },
  {
   "attachments": {},
   "cell_type": "markdown",
   "metadata": {},
   "source": [
    "# Lesson Portion 3 More into Pandas\n",
    "\n",
    "### What we are Covering\n",
    "- Explanation of Pandas and its uses in data analysis\n",
    "- Importing Pandas library\n",
    "- Loading data into Pandas DataFrames from CSV files\n",
    "- Manipulating and exploring data in Pandas DataFrames\n",
    "- Example of using Pandas for data analysis tasks such as filtering and sorting\n"
   ]
  },
  {
   "attachments": {},
   "cell_type": "markdown",
   "metadata": {},
   "source": [
    "## What are pandas and what is its purpose?\n",
    "\n",
    "- Pandas is a software library that is used in Python\n",
    "- Pandas are used for data analysis and data manipulation\n",
    "- Pandas offer data structures and operations for manipulating numerical tables and time series.\n",
    "- Pandas is free\n"
   ]
  },
  {
   "attachments": {},
   "cell_type": "markdown",
   "metadata": {},
   "source": [
    "## Things you can do using pandas\n",
    "\n",
    "- Data Cleansing; Identifying and correcting errors, inconsistencies, and inaccuracies in datasets.\n",
    "- Data fill; Filling in missing values in datasets.\n",
    "- Statistical Analysis; Analyzing datasets using statistical techniques to draw conclusions and make predictions.\n",
    "- Data Visualization; Representing datasets visually using graphs, charts, and other visual aids.\n",
    "- Data inspection; Examining datasets to identify potential issues or patterns, such as missing data, outliers, or trends.\n"
   ]
  },
  {
   "attachments": {},
   "cell_type": "markdown",
   "metadata": {},
   "source": [
    "## Pandas and Data analysis\n",
    "The 2 most important data structures in Pandas are:\n",
    "- Series ; A Series is a one-dimensional labeled array that can hold data of any type (integer, float, string, etc.). It is similar to a column in a spreadsheet or a SQL table. Each element in a Series has a label, known as an index. A Series can be created from a list, a NumPy array, a dictionary, or another Pandas Series.\n",
    "- DataFrame ;A DataFrame is a two-dimensional labeled data structure that can hold data of different types (integer, float, string, etc.). It is similar to a spreadsheet or a SQL table. Each column in a DataFrame is a Series, and each row is indexed by a label, known as an index. A DataFrame can be created from a dictionary of Series or NumPy arrays, a list of dictionaries, or other Pandas DataFrame."
   ]
  },
  {
   "attachments": {},
   "cell_type": "markdown",
   "metadata": {},
   "source": [
    "## Dataframes"
   ]
  },
  {
   "cell_type": "code",
   "execution_count": null,
   "metadata": {},
   "outputs": [],
   "source": [
    "# Importing Pandas \n",
    "import pandas as pd\n"
   ]
  },
  {
   "cell_type": "code",
   "execution_count": null,
   "metadata": {},
   "outputs": [],
   "source": [
    "# Check if pandas is working\n",
    "pd.__version__"
   ]
  },
  {
   "attachments": {},
   "cell_type": "markdown",
   "metadata": {},
   "source": [
    "### Importing CSV Data"
   ]
  },
  {
   "cell_type": "code",
   "execution_count": null,
   "metadata": {},
   "outputs": [],
   "source": [
    "import pandas as pd\n",
    "# Load the CSV file into a Pandas DataFrame\n",
    "df = pd.read_csv('/Users/josh/Repository-1/nba_player_statistics.csv')\n",
    "# Filter the DataFrame to only include stats for a specific player (in this case, Jimmy Butler)\n",
    "player_name = 'Jimmy Butler'\n",
    "player_stats = df[df['NAME'] == player_name]\n",
    "# Display the stats for the player\n",
    "print(f\"\\nStats for {player_name}:\")\n",
    "print(player_stats[['PPG', 'RPG', 'APG']])"
   ]
  },
  {
   "attachments": {},
   "cell_type": "markdown",
   "metadata": {},
   "source": [
    "#### In this code segment below we use Pandas to read a CSV file containing NBA player statistics and store it in a DataFrame.\n",
    "#### The reason Pandas is useful in this scenario is because it provides various functionalities to filter, sort, and manipulate the NBA data efficiently. In this code, the DataFrame is filtered to only include the stats for the player you guys choose. "
   ]
  },
  {
   "cell_type": "code",
   "execution_count": null,
   "metadata": {},
   "outputs": [],
   "source": [
    "import pandas as pd\n",
    "df = pd.read_csv('/Users/josh/Repository-1/nba_player_statistics.csv')\n",
    "# Load CSV file into a Pandas DataFrame\n",
    "player_name = input(\"Enter player name: \")\n",
    "# Get player name input from user\n",
    "player_stats = df[df['NAME'] == player_name]\n",
    "# Filter the DataFrame to only include stats for the specified player\n",
    "if player_stats.empty:\n",
    "    print(\"No stats found for that player.\")\n",
    "else:\n",
    "# Check if the player exists in the DataFrame\n",
    "    print(f\"\\nStats for {player_name}:\")\n",
    "print(player_stats[['PPG', 'RPG', 'APG', 'P+R+A']])\n",
    "# Display the stats for the player inputted."
   ]
  },
  {
   "attachments": {},
   "cell_type": "markdown",
   "metadata": {},
   "source": [
    "# Lesson Portion 4\n",
    "### What we will be covering\n",
    "- Example of analyzing data using both NumPy and Pandas libraries\n",
    "- Importing data into NumPy and Pandas Performing basic data analysis tasks such as mean, median, and standard deviation Visualization of data using Matplotlib library\n"
   ]
  },
  {
   "attachments": {},
   "cell_type": "markdown",
   "metadata": {},
   "source": [
    "### Example of analyzing data using both NumPy and Pandas libraries"
   ]
  },
  {
   "cell_type": "code",
   "execution_count": 6,
   "metadata": {},
   "outputs": [
    {
     "name": "stdout",
     "output_type": "stream",
     "text": [
      "\n",
      "Average stats for Austin Reaves:\n",
      "PPG: 23.00\n",
      "RPG: 3.00\n",
      "APG: 4.00\n",
      "P+R+A: 30.00\n"
     ]
    }
   ],
   "source": [
    "import numpy as np\n",
    "import pandas as pd\n",
    "\n",
    "# Load CSV file into a Pandas DataFrame\n",
    "df = pd.read_csv('nba_player_stats.csv')\n",
    "# Filter the DataFrame to only include stats for the specified player\n",
    "player_name = input(\"Enter player name: \")\n",
    "player_stats = df[df['NAME'] == player_name]\n",
    "if player_stats.empty:\n",
    "    print(\"No stats found for that player.\")\n",
    "else:\n",
    "    # Convert the player stats to a NumPy array\n",
    "    player_stats_np = np.array(player_stats[['PPG', 'RPG', 'APG', 'P+R+A']])\n",
    "    # Calculate the average of each statistic for the player\n",
    "    player_stats_avg = np.mean(player_stats_np, axis=0)\n",
    "    # Print out the average statistics for the player\n",
    "    print(f\"\\nAverage stats for {player_name}:\")\n",
    "    print(f\"PPG: {player_stats_avg[0]:.2f}\")\n",
    "    print(f\"RPG: {player_stats_avg[1]:.2f}\")\n",
    "    print(f\"APG: {player_stats_avg[2]:.2f}\")\n",
    "    print(f\"P+R+A: {player_stats_avg[3]:.2f}\")"
   ]
  },
  {
   "attachments": {},
   "cell_type": "markdown",
   "metadata": {},
   "source": [
    "In the code you provided, pandas is used to load a CSV file containing NBA player stats into a DataFrame object.\n",
    "\n",
    "Once the data is loaded into the DataFrame, pandas is used to filter the data to only include the stats for a specific player, based on the input entered by the user. The filtered data is then stored in a new DataFrame object called player_stats.\n",
    "\n",
    "NumPy impacts the given code because it performs operations on arrays efficiently. Specifically, it converts a Pandas DataFrame object to a NumPy array object, and then calculates the average statistics for a the player you guys inputted. Without NumPy, it would be more difficult and less efficient to perform these calculations on large data sets. It does the math for us."
   ]
  },
  {
   "attachments": {},
   "cell_type": "markdown",
   "metadata": {},
   "source": [
    "### Importing data into NumPy and Pandas Performing basic data analysis tasks such as mean, median, and standard deviation Visualization of data using Matplotlib library\n",
    "\n",
    "Matplotlib is used essentially to create visuals of data. charts,diagrams,etc."
   ]
  },
  {
   "cell_type": "code",
   "execution_count": 5,
   "metadata": {},
   "outputs": [
    {
     "name": "stdout",
     "output_type": "stream",
     "text": [
      "   RANK             NAME TEAM POS   AGE  GP   MPG  USG%   TO%  FTA  ...   APG  \\\n",
      "0     1     Jimmy Butler  Mia   F  33.6   1  42.9  34.3   9.9    8  ...  11.0   \n",
      "1     2    Kawhi Leonard  Lac   F  31.8   2  40.2  30.0  11.9   17  ...   6.0   \n",
      "2     3  Khris Middleton  Mil   F  31.7   1  33.1  37.5  19.8   10  ...   4.0   \n",
      "3     4     Devin Booker  Pho   G  26.5   2  44.1  28.8  16.2   14  ...   6.0   \n",
      "4     5     De'Aaron Fox  Sac   G  25.3   2  38.2  31.6   9.0   14  ...   7.0   \n",
      "\n",
      "   SPG  BPG  TPG   P+R   P+A  P+R+A    VI   ORtg   DRtg  \n",
      "0  3.0  0.0  3.0  40.0  46.0   51.0  11.6  117.2  103.8  \n",
      "1  2.0  0.5  3.0  41.0  40.5   47.0  11.0  129.5  110.4  \n",
      "2  0.0  0.0  5.0  42.0  37.0   46.0  12.8  115.5  111.9  \n",
      "3  2.5  1.5  4.0  33.0  38.0   39.0   5.2  121.9  111.0  \n",
      "4  3.5  0.5  2.5  34.0  38.0   41.0   9.1  112.6  108.8  \n",
      "\n",
      "[5 rows x 29 columns]\n",
      "Mean Minutes:  20.985483870967748\n",
      "Median Minutes:  23.0\n",
      "Standard Deviation Minutes:  12.844102823170283\n"
     ]
    },
    {
     "data": {
      "image/png": "[encoded data removed]",
      "text/plain": [
       "<Figure size 432x288 with 1 Axes>"
      ]
     },
     "metadata": {
      "needs_background": "light"
     },
     "output_type": "display_data"
    }
   ],
   "source": [
    "import numpy as np\n",
    "import pandas as pd\n",
    "import matplotlib.pyplot as plt\n",
    "\n",
    "# Load the CSV file into a Pandas DataFrame\n",
    "df = pd.read_csv('nba_player_stats.csv')\n",
    "\n",
    "# Print the first 5 rows of the DataFrame\n",
    "print(df.head())\n",
    "\n",
    "# Calculate the mean, median, and standard deviation of the 'Points' column\n",
    "mean_minutes = df['MPG'].mean()\n",
    "median_minutes = df['MPG'].median()\n",
    "stddev_minutes = df['MPG'].std()\n",
    "\n",
    "# Print the results\n",
    "print('Mean Minutes: ', mean_minutes)\n",
    "print('Median Minutes: ', median_minutes)\n",
    "print('Standard Deviation Minutes: ', stddev_minutes)\n",
    "\n",
    "# Create a histogram of the 'Points' column using Matplotlib\n",
    "plt.hist(df['MPG'], bins=20)\n",
    "plt.title('MPG Histogram')\n",
    "plt.xlabel('MPG')\n",
    "plt.ylabel('Frequency')\n",
    "plt.show()\n"
   ]
  },
  {
   "attachments": {},
   "cell_type": "markdown",
   "metadata": {},
   "source": [
    "This is a computer program that helps us look at information about basketball players. The program uses some special tools called NumPy, Pandas, and Matplotlib to help us understand the information better. The program first reads a file that has all the information about basketball players, then it shows us the first 5 rows of that information.\n",
    "\n",
    "Next, the program helps us find the average (mean), middle (median), and how spread out (standard deviation) the amount of time players spent on the court (MPG) is. The program then shows us those numbers.\n",
    "\n",
    "Finally, the program shows us a picture (graph) that helps us see how often players spent different amounts of time on the court. The picture has a title that tells us what it is about, labels on the bottom and side that tell us what the picture is showing, and some bars that help us see how often players spent different amounts of time on the court.\n",
    "\n",
    "The graph shows the average minutes per game and the amount of games they placed that many minutes."
   ]
  },
  {
   "attachments": {},
   "cell_type": "markdown",
   "metadata": {},
   "source": [
    "# Lesson Portion 5; Summary"
   ]
  },
  {
   "attachments": {},
   "cell_type": "markdown",
   "metadata": {},
   "source": [
    "#### Summary/Goals of Lesson:\n",
    "One of our goals was to make you understand data analysis and how it can be important in optimizing business performance. We also wanted to make sure you understood the use of Pandas and NumPy libraries in data analysis, with a focus on NumPy. As someone who works with data, we find Pandas incredibly useful for manipulating, analyzing, and visualizing data in Python. The way we use pandas is to calculate individual player and team statistics. We are a group that works with numerical data, so NumPy is one of our favorite tools for working with arrays and applying mathematical functions to them. It is very fast at computing and manipulating arrays making it a very valuable tool for tracking statistics which is important to our group. For example, if you have an array of the points scored by each player in a game, you can use NumPy to calculate the total points scored, average points per player, or the highest and lowest scoring players.\n",
    "\n",
    "\n",
    "\n",
    "\n",
    "\n",
    "\n",
    "\n"
   ]
  },
  {
   "attachments": {},
   "cell_type": "markdown",
   "metadata": {},
   "source": [
    "# Lesson Portion 6 Hacks\n",
    "#### Printing a CSV File (0.5)\n",
    "- Use this link https://github.com/ali-ce/datasets to select a topic you are interested in, or you may find one online.\n",
    "- Once you select your topic make sure it is a csv file and then you want to press on the button that says raw.\n",
    "- After that copy that information and create a file with a name and .csv at the end and paste your information.\n",
    "- Below is a start that you can use for your hacks.\n",
    "- Your goal is to print 2 specific parts from data (example could be like population and country).\n",
    "\n",
    "#### Popcorn Hacks (0.2)\n",
    "- Lesson Portion 1.\n",
    "#### Answering Questions (0.2)\n",
    "- Found Below.\n",
    "\n",
    "## Submit By Thursday 8:35 A.M.\n",
    "- How to Submit: Slack a Blog Post that includes all of your hacks to \"Joshua Williams\" on Slack."
   ]
  },
  {
   "cell_type": "code",
   "execution_count": null,
   "metadata": {},
   "outputs": [],
   "source": [
    "import pandas as pd\n",
    "# read the CSV file\n",
    "df = pd.read_csv(\"blank.csv\")\n",
    "# display the data in a table\n",
    "print(df)"
   ]
  },
  {
   "attachments": {},
   "cell_type": "markdown",
   "metadata": {},
   "source": [
    "## Question Hacks;\n",
    "\n",
    "\n",
    "What is NumPy and how is it used in data analysis?\n",
    "\n",
    "What is Pandas and how is it used in data analysis?\n",
    "\n",
    "How is NunPy different than Pandas for data analysis?\n",
    "\n",
    "What is a DataFrame?\n",
    "\n",
    "What are some common operations you can perform with NunPy?\n",
    "\n",
    "How Can You Incorporate Either of these Data Analysis Tools (NunPy, Pandas) into your project?\n",
    "\n",
    "\n"
   ]
  }
 ],
 "metadata": {
  "kernelspec": {
   "display_name": "base",
   "language": "python",
   "name": "python3"
  },
  "language_info": {
   "codemirror_mode": {
    "name": "ipython",
    "version": 3
   },
   "file_extension": ".py",
   "mimetype": "text/x-python",
   "name": "python",
   "nbconvert_exporter": "python",
   "pygments_lexer": "ipython3",
   "version": "3.9.12"
  },
  "orig_nbformat": 4
 },
 "nbformat": 4,
 "nbformat_minor": 2
}
