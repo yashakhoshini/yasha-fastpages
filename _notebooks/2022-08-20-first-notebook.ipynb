{
 "cells": [
  {
   "cell_type": "code",
   "execution_count": 43,
   "metadata": {},
   "outputs": [
    {
     "name": "stdout",
     "output_type": "stream",
     "text": [
      "hello\n",
      "A random number from list is : 100002\n",
      "A random number from range is : 44\n"
     ]
    }
   ],
   "source": [
    "print(\"hello\")\n",
    "\n",
    "# Python code to demonstrate the working of\n",
    "# choice() and randrange()\n",
    "\n",
    "# importing \"random\" for random operations\n",
    "import random\n",
    "\n",
    "# using choice() to generate a random number from a\n",
    "# given list of numbers.\n",
    "print(\"A random number from list is : \", end=\"\")\n",
    "print(random.choice([1, 4, 8, 10, 3, 5, 99, 100, 100002, 403]))\n",
    "\n",
    "# using randrange() to generate in range from 20\n",
    "# to 50. The last parameter 3 is step size to skip\n",
    "# three numbers when selecting.\n",
    "print(\"A random number from range is : \", end=\"\")\n",
    "print(random.randrange(20, 50, 3))\n",
    "\n"
   ]
  }
 ],
 "metadata": {
  "language_info": {
   "name": "python"
  },
  "orig_nbformat": 4
 },
 "nbformat": 4,
 "nbformat_minor": 2
}
