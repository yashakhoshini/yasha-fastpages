{
 "cells": [
  {
   "attachments": {},
   "cell_type": "markdown",
   "metadata": {},
   "source": [
    "# Boolean Expression, Conditionals, Nested Conditionals\n",
    "> Hacks and notes on 5 and 7\n",
    "\n",
    "- toc: true \n",
    "- badges: true\n",
    "- comments: true\n",
    "- categories: [collegeboard, ]"
   ]
  },
  {
   "cell_type": "code",
   "execution_count": 1,
   "metadata": {},
   "outputs": [
    {
     "name": "stdout",
     "output_type": "stream",
     "text": [
      "True\n"
     ]
    }
   ],
   "source": [
    "isRaining = False\n",
    "result = not(isRaining)\n",
    "print(result)"
   ]
  },
  {
   "cell_type": "code",
   "execution_count": 6,
   "metadata": {},
   "outputs": [
    {
     "name": "stdout",
     "output_type": "stream",
     "text": [
      "You passed the quiz\n"
     ]
    }
   ],
   "source": [
    "grade = 75\n",
    "\n",
    "# Has to be between 70 and 100\n",
    "\n",
    "if grade > 70 and grade <= 100:\n",
    "    print(\"You passed the quiz\")"
   ]
  },
  {
   "cell_type": "markdown",
   "metadata": {},
   "source": [
    "Logical Operator \n",
    "- A logical operator is a symbol or word used to connect two or more expressions\n",
    "Selection\n",
    "- The specific block of code that will execute depending on the algorithm condition returning true or false.\n",
    "Algorithm\n",
    "- A specific task that is completed with the use of instructions\n",
    "Conditional Statement / If-Statement:\n",
    "- A statement that affects the sequence of control by executing certain statements depending on the value of a boolean (true or false).\n"
   ]
  },
  {
   "cell_type": "code",
   "execution_count": 3,
   "metadata": {},
   "outputs": [
    {
     "name": "stdout",
     "output_type": "stream",
     "text": [
      "you played over half the soccer game, congradulations!\n"
     ]
    }
   ],
   "source": [
    "SoccerMinutesPlayed = 48\n",
    "\n",
    "if SoccerMinutesPlayed > 40:\n",
    "    print(\"you played over half the soccer game, congradulations!\")\n",
    "else:\n",
    "    print(\"You need to train more\")\n",
    "\n",
    "# Adding another variation to the hack"
   ]
  },
  {
   "cell_type": "code",
   "execution_count": 5,
   "metadata": {},
   "outputs": [
    {
     "name": "stdout",
     "output_type": "stream",
     "text": [
      "your number is not 27\n"
     ]
    }
   ],
   "source": [
    "import random\n",
    "\n",
    "a_list = [27, 32, 96,]\n",
    "random.shuffle(a_list)\n",
    "\n",
    "a_list[0]\n",
    "\n",
    "if a_list == 27:\n",
    "    print(result)\n",
    "else:\n",
    "    print('your number is not 27')\n",
    "\n",
    "# If statement"
   ]
  },
  {
   "cell_type": "code",
   "execution_count": 6,
   "metadata": {},
   "outputs": [
    {
     "name": "stdout",
     "output_type": "stream",
     "text": [
      "44\n"
     ]
    }
   ],
   "source": [
    "import random\n",
    "a=random.randint(1,100)\n",
    "print(a)"
   ]
  }
 ],
 "metadata": {
  "kernelspec": {
   "display_name": "Python 3.9.12 ('base')",
   "language": "python",
   "name": "python3"
  },
  "language_info": {
   "codemirror_mode": {
    "name": "ipython",
    "version": 3
   },
   "file_extension": ".py",
   "mimetype": "text/x-python",
   "name": "python",
   "nbconvert_exporter": "python",
   "pygments_lexer": "ipython3",
   "version": "3.9.12"
  },
  "orig_nbformat": 4,
  "vscode": {
   "interpreter": {
    "hash": "f4522448fa03726c480e11d9815ce2c412646a9816150097c8daa961a4b73c1a"
   }
  }
 },
 "nbformat": 4,
 "nbformat_minor": 2
}
