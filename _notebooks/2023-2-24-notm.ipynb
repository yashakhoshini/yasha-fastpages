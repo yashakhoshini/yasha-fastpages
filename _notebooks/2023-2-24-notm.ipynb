{
 "cells": [
  {
   "attachments": {},
   "cell_type": "markdown",
   "metadata": {},
   "source": [
    "# Night of the museum\n",
    "> My experience and takeaways from the night of the museum\n",
    "\n",
    "- toc: true \n",
    "- badges: true\n",
    "- comments: true\n",
    "- categories: [markdown, notm]"
   ]
  },
  {
   "attachments": {},
   "cell_type": "markdown",
   "metadata": {},
   "source": [
    "### Introduction\n",
    "_The Night of the Museum was a fascinating event, providing an opportunity for participants to learn, teach and socialize. As a participant myself, I found the experience both enjoyable and enlightening. The event allowed us to showcase our projects, interact with intellectual minds and gain a deeper understanding of backend and frontend interactions. In this essay, I will discuss my experience in detail and highlight the key takeaways from the event._\n",
    "\n",
    "<img src=\"https://lh3.googleusercontent.com/LNDJ2qmNJjHp9uhcO-n4ql-oyR-AZqhzQKd3DDWGw_-pZqqwi4nGGlS9gSkgVAWNRQqFdhTadmhDYBgU0fSiJKbzESF-mpCtp2b0Y4GhXb5ZWMBHWczP2WSlgN8F6UJ4VygeKwgAVIH__yUaib47Is7Eezrc0gjVrL8lQZBmyuM4ewwofibz5pjIk-0Efm3iRsUsErMM1DiQXeNxIzmpKc3E_jpSZcgcea-Z-nc8QYcADg-FzvBrgJ7d_eglZfg1STZBHMvEaf7bSC1l3v1ldlfoo6J1ZeBFH0GP82hczLAjXFVRyLWr2j2st73bFM9BF1e1zaPez796CGKDF4sHEHEEi9RrgRulkT7r0yBDYNoUFsaW6_V3lk-BWIPu9K7IgV9A9I26s3YtWhFaJpgG6bPWEskfmNeB6mBGpF5cxR51YRD_Dn0NHdq_bWYZ4bwoyMJCRkyMxZVSfRK7OOqb5UPv6gLr_n05p2iXWQp28Zuh8DOYdy0zGEUepat3eIqocs-9QYupG9jBa3niS1fR9r5xeewBwy59ZNga8rSZ1EpXm8RV8wQQ-2Hc0C2mnToWTk-30A3gGwpxrrYIuXmF5ifsW0WOCJ67vI1KZZDk_eR2VISlpFSshyoqJw6JZIe8tze-yA2nQNQABFcuPdqC83hWF-DRKFHpecNH60fqj1gSH_HiTyxoxqTuOb1FPXnBnxDFNiAon5yQTAPCoh-ccklpCurdT1pCMzYTkImQ3QV9J-T50pwHBUu54wm1pZ8gD141JKc0OLkQt4kVuAihB0Ga0LrO8BeasNGOvHi_xRtCb41dJdTT4Mct31q_zDkbxTcqXQ-hltOtwB3kVufQsv8NwysZ1gf1e7SFWiwC3A84rHQ6A5J-ImcjQTRLTgwZgY_yZmJm8oxI_7zwi1Jou_6sFUbyOMGEmb-mpkzwux44=w1126-h1500-no?authuser=0\" width=\"200\" height=\"200\" />\n",
    "\n",
    "### Showcase of Projects\n",
    "_The Night of the Museum event provided a platform for us to showcase our projects to a wider audience. It was exciting to see the range of projects that other participants had created. As we presented our project, we were pleased to receive compliments and queries from those who came to view it. I noticed that some visitors were very intellectual and understood what we had coded and utilized to make our presentation unique. For example, one father was impressed with our use of API and asked what third party API we used and how we formatted it. This interaction not only validated our efforts but also inspired us to explore and integrate more third-party APIs in our future projects._\n",
    "\n",
    "<img src=\"https://lh3.googleusercontent.com/Z8qXodpxZfAUy55CDDChAYHo1YwxtyDwN2xJz2x0ddkPFGsiDqRdMmTNi_iKa-spIXkUye6-n6OsDsqWfeHynFtOm3su6ueh7rKtHAog5qR8WNR5g6XFXCSzApsFZJlE04JOAMWyKaYcOOuwYb6w7KfUDXiPOg53vL0qX-RRL2zbFNRbNBxNOWr0icQrPliYAvbrv2yczR2TgpelsaApBr8XwnHere9Z3VtFvHSh9vmLh_A3W6lFBibjQLt3D9EAWebp8zcwNJzWMolawzwnzB6LbD064lsTI3HhRZu-24eVTqsEa1fIea-WtkbrZN_vxeep2w3oOCogMuku9fEtXnZ3a8M87M-N04-Ahq4Dy3igeTAbRbGKfXbqCETFevipj4yD5Q6eWgMwyDWmFWsBTNwht_7B4UEYY0YmkXr1vHSAEI0XTcPFhUiqvJaoLHW5Kz0vL5bOw0zkA84zvJOGd9NTjyOqfk3x4Ij_ut7q8jSdbMsV0NNzskghFULNlXwEhdsdbpoFL__zW5rgN0jmrZpvTk4q5zHxauGHrODeqtnM40niouF-iCF7AtzPhySgaq5KFf2ndaFZo_VPLDSI9WojvFJ_CddgkKNamgYlYX55xGKJrhVTKRFKVDSNtoK3BJp3wh5MnsqkDegTga1zIF7By6uxiB2gn2FW0ZRHbED3vElyJKT7OSlFHmcdg_klOPw68_niiHAoUkEsE0bLI9TjiOI7tFBkmY5Pr0F7eG2yyOfPTiWJfrynM-cCKK44qNekjEwTgqoGoD4mW5YPga-TwPp2MshmuuJqGA2OHFsvsL5j-4zA5jl_NZpQ4Z-tF6IHN40DhF1tl2P6mr2d92nQJlnl0bfDvt9KU8iqcxefwH8k0pzCK3EdnwHgUtIzpOD-xp1z3glIJgNNnVpsgBJJjkMq_F74OQLni_yfL5V9=w1126-h1500-no?authuser=0\" width=\"200\" height=\"200\" />\n",
    "\n",
    "### Learning Opportunities\n",
    "_One of the most significant benefits of participating in the Night of the Museum event was the learning opportunities it provided. We had the chance to interact with a diverse range of projects and participants. Through this interaction, I was able to gain a better understanding of backend and frontend interactions. Specifically, I learned about the requirements necessary to allow frontend to interact with backend. This newfound knowledge inspired me to think more deeply about my own project, and I thought that our group could make a button or text box that allows people to type in any stock, and the data for that stock would be the output. The feedback and suggestions from other participants were invaluable in helping me improve my project and become a better programmer._\n",
    "\n",
    "<img src=\"https://lh3.googleusercontent.com/gyP4GLduWimqtj5ssAZgM4WxE8EbH5M3OHxTxbdRatGBeKmLrgIr5HHU1MhSUzH__oemRKdZBRPwjtmqh6ly83Ssr4kFfNgcVI5hGwURoob5eaZQRn_K816jo4e6t5CpSVbsiifidPxiJQEqweyrNsHCYDwZoWTf255ULOSqVmAlax1t8pNO9oweqS4-K-Krv3qCQonLeRB6uJAB7xnIj3OCCgKMqdPsw5RUeq7ocW5pZhzECQoPfoaiSUJ64eYVWUAsWYwCr9Ui6F0JZFhQqBA5lyHYPIVymOYSwhErjT9d2ktsYNsp90sv4Cq5cmzjLn-STl8mFmiO81tsiHkvd_rYftBkVEm5GF7-sJCyjHlYrbfp5pMH1a1sI-wj-0HDVN0EBX5sPCVHDegkLHNPUHyjzh6khc7amT2ayV5oJxxNhgVbJw7RYQ7NwwtCDAX6sF5arz6dP68LsAXae2f6TxOjQlNlg4z4rQoy_I1dr2A45FRk7MCk4wLw9qbVZYFGF8n62DAkKxXG4hzdIEBHkQv4Xpcwios8XUBwGp7W0PJA_94vWiF2kPupqtGvxvyVimz0Ji73OJw05Upzvvj2ZIGmz4ymSZ3dOjqC-oCafiX_250dTvNVZjLXUHli4NEUz4sP_S_s3fKfggkTcTyp1BxSmf6T5UMpAN7GkESrHv4XpMM1e6Xv0BD4dqdc0Rm9x9_y0Tns5Fx-WQMvZI05H-znRrHf7P3jIRh9QL9gVtk_i4g35WUxEjadsOtT0ZC9OWe6-CURPhtQC2OCNyXJ8zE7Gx1cpqUULwiIl2O6HfgX_IfTIdmM72xfPvA0fPtQeewuOt5aXlX1585sZJxCPQzVSrmb7Hzkk-pkhAPGnAdozMxykGlRnuN4hBduJ9zjBGOGZQ5gmTKwqxBa-OSIpS1hr7jk5IIXvnKQ1652ttYM=w1126-h1500-no?authuser=0\" width=\"200\" height=\"200\" />\n",
    "\n",
    "### Conclusion\n",
    "_In conclusion, the Night of the Museum event was a valuable experience that provided a unique opportunity to learn, teach, and socialize. The event showcased a wide range of projects, and I had the chance to interact with intellectual minds and gain a deeper understanding of backend and frontend interactions. The event was a great chance to meet new people, make new friends, and have fun with my existing friends. I look forward to participating in future events and expanding my knowledge further. Overall, the Night of the Museum was a positive and enriching experience, and I would encourage others to participate in similar events._"
   ]
  }
 ],
 "metadata": {
  "kernelspec": {
   "display_name": "base",
   "language": "python",
   "name": "python3"
  },
  "language_info": {
   "name": "python",
   "version": "3.9.12"
  },
  "orig_nbformat": 4,
  "vscode": {
   "interpreter": {
    "hash": "f4522448fa03726c480e11d9815ce2c412646a9816150097c8daa961a4b73c1a"
   }
  }
 },
 "nbformat": 4,
 "nbformat_minor": 2
}
