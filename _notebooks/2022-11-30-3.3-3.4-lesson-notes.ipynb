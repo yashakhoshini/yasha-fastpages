{
 "cells": [
  {
   "cell_type": "markdown",
   "metadata": {},
   "source": [
    "## Blogging\n",
    "\n",
    "#### What is an algorithms?\n",
    "- An algorithm is a finite set of instruction that accomplish a task, it can be expressed by natural language, diagrams, and various other ways.\n",
    "\n",
    "#### What are the three parts of an algorithm?\n",
    "- Sequencing, selection, and iteration.\n",
    "\n",
    "- Every algorithm can be created by a mixture of sequencing, selection, and iteration\n",
    "\n",
    "#### Sequence?\n",
    "- A sequence is the order of how to do something to achieve a result, similarly to how you follow the instructions from a teacher. \n",
    "\n",
    "#### Selection?\n",
    "- A selection allows an algorithm to make a decision based on if a condition is met, an example of this is when your car is out of fuel, you go to the gas station to fill your car, but if your car is full you wouldn't go to the gas station.\n",
    "\n",
    "\n",
    "#### Iteration?\n",
    "- An iteration is a loop and doing something again until a condition is met, like you put away your computer when you are finished with your work.\n",
    "\n",
    "#### What is a Substring?\n",
    "- A substring is part of an existing string\n",
    "\n",
    "Personal Notes & Topics to Study\n",
    "\n",
    "- Conditions within Iterations\n",
    "- Sequencing\n",
    "- Usage of SubStrings\n",
    "    EX: print(string[5:10])\n"
   ]
  },
  {
   "cell_type": "code",
   "execution_count": 1,
   "metadata": {},
   "outputs": [
    {
     "name": "stdout",
     "output_type": "stream",
     "text": [
      "3.0\n"
     ]
    }
   ],
   "source": [
    "num1 = 5\n",
    "num2 = num1 * 3\n",
    "num3 = num2 / num1 * (9 % 2) * 4\n",
    "result = (num3 % num1 + num2) % num3 * 3 / 5\n",
    "print(result)"
   ]
  },
  {
   "cell_type": "markdown",
   "metadata": {},
   "source": [
    "- You will describe the different parts of an algorithm, sequencing, selection, and iteration in the image below. \n",
    "\n",
    "\n",
    "![ImageFour](../images/ScreenShot2022-11-28at6.18.49PM.png)\n",
    "- sequencing: 1, 2\n",
    "- Selection: 3, 5\n",
    "- Iteration: 4"
   ]
  },
  {
   "cell_type": "markdown",
   "metadata": {},
   "source": [
    "![Quiz Score](https://lh3.googleusercontent.com/pw/AL9nZEUgdrODWik9f8ADgQxu-y-_SwK_RDhiaLYnwfje2-uZyjqZczNPYBwKITR4_GyOIxIhuHxhltnGXPYC_970b4VEfY7tBvltpQny6OdhyudikA2AoNyuy2rzun0NrHLO5fTQzP044Dmrh4V2BOomFYURH4d20tvI-nhFoewzJUlk3nqLwummA_6kvjc7KVvWIImEassoAZaPGlkPlyevkNXwozW6-UQnHBf1RJV1xazyEvnNlgDOrpJKFrlAegTe5Jk45o0XOlHJ91fMWmJB5AOxJAXT6xrEUPhlxHyyvhmGBRCYIXxiRaPOzasVYWmKjmOc675PR4H0JWIG5oGGD2d8PMHNqbMIB-PBwrAStZ2CpP4qPMsQJgvPRiz8gQ9ruu_grNBPWqo_VBaYPMc0k8AxSowz_8UgVldSbdieJ8NHs8phYGFQz8ZB5Eg1NaGXmr9cWMtTpTvukJdeH7YzpaXF63DtHQ3vv-Tc0j8crnq8izvEvAqJQuAldJMmZ_TyQOMcr2MUHUWHyjgSLcLFZmbTNpusvKuHHNBRWHQNO27GeH_LE53VW-0oO_yZgByc9WI3035FkznGeW35tPXsP4TXPSOOc1CZnWsScXcs7GPTYyZ-dfnx2_S1b_x5ElPYJBDK63ikScQq2EHkBsKcdbJ1DG8ZIyQ9Srx7U6w8UhIkSoJQcfjbiylzBt6KU7KyN8b5iTalqrDGp5MMCcSoS7VeQ1Q49kbLhwioROlyxPD4kbE784sIRMbGXT2eKX7DCjotOpcX8MRAgx22vG0pPCNghofTAJv0OuI4qviVc28bIgkT8F3Lp7pE-VuwIuhqbe3FDNxceAJlRgqLXoavBZ8FU3H27Brx7EdnG8eaRuWIHgBH6eS54E2ru8Vol9ai7jAJX9_uu6JPwbJ5_uascyLrjg=w1048-h182-no)"
   ]
  },
  {
   "cell_type": "markdown",
   "metadata": {},
   "source": [
    "CrossWord Puzzle Hack\n",
    "\n",
    "1. Recursive\n",
    "2. Selection\n",
    "3. Sequence"
   ]
  }
 ],
 "metadata": {
  "kernelspec": {
   "display_name": "Python 3.9.12 ('base')",
   "language": "python",
   "name": "python3"
  },
  "language_info": {
   "codemirror_mode": {
    "name": "ipython",
    "version": 3
   },
   "file_extension": ".py",
   "mimetype": "text/x-python",
   "name": "python",
   "nbconvert_exporter": "python",
   "pygments_lexer": "ipython3",
   "version": "3.9.12"
  },
  "orig_nbformat": 4,
  "vscode": {
   "interpreter": {
    "hash": "f4522448fa03726c480e11d9815ce2c412646a9816150097c8daa961a4b73c1a"
   }
  }
 },
 "nbformat": 4,
 "nbformat_minor": 2
}
