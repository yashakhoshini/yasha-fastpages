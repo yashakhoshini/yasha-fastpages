{
 "cells": [
  {
   "cell_type": "markdown",
   "metadata": {},
   "source": [
    "# Remote Theme Change\n",
    "\n",
    "- toc: true \n",
    "- badges: true\n",
    "- comments: true\n",
    "- categories: [jupyter, ]"
   ]
  },
  {
   "cell_type": "markdown",
   "metadata": {},
   "source": [
    "## Changing Remote Theme\n",
    "By default, your web page has the theme minima, I changed it to a different theme.\n",
    "\n",
    "\n",
    "![](https://lh3.googleusercontent.com/D-S1cCfJ9JbWjAX1BrcllYWRuB1snGFZXr1jQb03XHtA98vh9Xezg5iHf5_LnGG0i9_cIUWeMpD4Jtv9WpevixpHZRdQxdi5cb7gryCnE1BloMkkBKlAvJU-7UB0HJeHDwFpLTUV_sGbiCQvntFVI7SH3LGSSBTcyc5VNNH8mYhXv7OaMUFo6t7lyGu2s8Ys2wl1y30gMZfJK9Y2ZhQgdkD8mEYhXjOT0MNThsIkcdB_BHz0OWxn-SN4py6ekbQLJhNDcKyVlzwD1M3ujyHrFJqzTI3ciRW9U7PrkSnvHYhPlnG115BxGXvVUe6oTEiHdpW1m4Gg06rq6qQp5XqwJtgmqMyxLMNExnaM9-_x-wQytEN3pe6ZYOgNpdyccBpGqeNmiWTL9-HdvHnpIBSvXzbVpFB7oNZkOG6pzuG1nHO3sF2khljkd1rULTaeJc-SZMRptt6bgxv-BG3ITreXTFiZWa8hT5FD1ZbnEO6wXsLcqQF6bv_N1F3lbUzsSAJApOLjLfl0FuZ2HrPXZRdqxn9vgwevn35-_odrxPEJIOzQ1xHGZ_P7J8KByD3zE5jrO_L5UpBNsS34l83wy9hfgrDyLULjKh3_Z9v4cqSXjmLEtpJ6IkeGGsMTWOBM6-JDKB7H3KnXe3TEEEH67WjHlvqiWDgzGXAPwzWCZyoNMDGSaW6txtdEeUhxUvSqADiFWSOmDebfoIxOOadVt1I2T6x0vSxp2beSKEc8bBSJQofGNKOvTjT0FiyZ3CxNyw=w422-h220-no?authuser=0)"
   ]
  }
 ],
 "metadata": {
  "language_info": {
   "name": "python"
  },
  "orig_nbformat": 4
 },
 "nbformat": 4,
 "nbformat_minor": 2
}
