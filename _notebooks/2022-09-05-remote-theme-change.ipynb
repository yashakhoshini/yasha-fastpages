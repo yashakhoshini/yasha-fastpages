{
 "cells": [
  {
   "cell_type": "markdown",
   "metadata": {},
   "source": [
    "# Remote Theme Change\n",
    "> Changing the default theme to a custom one.\n",
    "\n",
    "- toc: true \n",
    "- badges: true\n",
    "- comments: true\n",
    "- categories: [jupyter, ]"
   ]
  },
  {
   "cell_type": "markdown",
   "metadata": {},
   "source": [
    "## Changing Remote Theme\n",
    "By default, your web page has the theme minima, I changed that theme to a custom one.\n",
    "\n",
    "\n",
    "![](https://lh3.googleusercontent.com/D-S1cCfJ9JbWjAX1BrcllYWRuB1snGFZXr1jQb03XHtA98vh9Xezg5iHf5_LnGG0i9_cIUWeMpD4Jtv9WpevixpHZRdQxdi5cb7gryCnE1BloMkkBKlAvJU-7UB0HJeHDwFpLTUV_sGbiCQvntFVI7SH3LGSSBTcyc5VNNH8mYhXv7OaMUFo6t7lyGu2s8Ys2wl1y30gMZfJK9Y2ZhQgdkD8mEYhXjOT0MNThsIkcdB_BHz0OWxn-SN4py6ekbQLJhNDcKyVlzwD1M3ujyHrFJqzTI3ciRW9U7PrkSnvHYhPlnG115BxGXvVUe6oTEiHdpW1m4Gg06rq6qQp5XqwJtgmqMyxLMNExnaM9-_x-wQytEN3pe6ZYOgNpdyccBpGqeNmiWTL9-HdvHnpIBSvXzbVpFB7oNZkOG6pzuG1nHO3sF2khljkd1rULTaeJc-SZMRptt6bgxv-BG3ITreXTFiZWa8hT5FD1ZbnEO6wXsLcqQF6bv_N1F3lbUzsSAJApOLjLfl0FuZ2HrPXZRdqxn9vgwevn35-_odrxPEJIOzQ1xHGZ_P7J8KByD3zE5jrO_L5UpBNsS34l83wy9hfgrDyLULjKh3_Z9v4cqSXjmLEtpJ6IkeGGsMTWOBM6-JDKB7H3KnXe3TEEEH67WjHlvqiWDgzGXAPwzWCZyoNMDGSaW6txtdEeUhxUvSqADiFWSOmDebfoIxOOadVt1I2T6x0vSxp2beSKEc8bBSJQofGNKOvTjT0FiyZ3CxNyw=w422-h220-no?authuser=0)"
   ]
  }
 ],
 "metadata": {
  "kernelspec": {
   "display_name": "Python 3.10.6 64-bit",
   "language": "python",
   "name": "python3"
  },
  "language_info": {
   "name": "python",
   "version": "3.10.6"
  },
  "orig_nbformat": 4,
  "vscode": {
   "interpreter": {
    "hash": "aee8b7b246df8f9039afb4144a1f6fd8d2ca17a180786b69acc140d282b71a49"
   }
  }
 },
 "nbformat": 4,
 "nbformat_minor": 2
}
