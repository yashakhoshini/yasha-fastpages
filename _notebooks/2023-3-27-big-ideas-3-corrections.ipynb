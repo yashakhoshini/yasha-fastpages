{
 "cells": [
  {
   "attachments": {},
   "cell_type": "markdown",
   "metadata": {},
   "source": [
    "#  Big Ideas 3 Quiz Corrections\n",
    "> Corrections for Big Idea quiz\n",
    "- toc: true\n",
    "- image: /images/python.png\n",
    "- categories: []\n",
    "- type: pbl\n",
    "- week: 27"
   ]
  },
  {
   "attachments": {},
   "cell_type": "markdown",
   "metadata": {},
   "source": [
    "![](https://lh3.googleusercontent.com/pw/AMWts8DRYIPOhqQoV6wcjnZKCQREtZxmeP_QUd6RYLTfo4rBkMMPLttslXGsp4wLebEG8hJQH64x65cFjqvpxbNgMx0X1wqzZULhsPyzTBCI56pXBuJslEbb5eHE_lkNTvwU0ViTi9y59NRRVevaw2r1fmf8z1JbMBFC2f6ebBl4a6-xC_CTtJg9kGZAgv2LLWjqONLcnnj0IJi6MjWsEpAn39uJv90kpDB5lzz3Gq_nFnDACyQIvEJKxFK_K942f09RllyEX80lGofMwUvxxqB0bWZWWLjdRn8lU28F0L6cPzYmVLUWYcFOItnqD3_OSZ6Tvcz1TNiCLOEfR8zs92IpPy_Ox53G2gPHtHnq5SsC3qARjb1w3i549KS-c8oP2e1mZn_nK_K38wZpuuNQLrv0CrnvJuN-jE6r7EYZ9aytDdOkArHFbepzG1zK6oziWPaqltPK8b0yQteqfMsPmOvmJU4OfdNfcOObRU8_3vbLPHvU-wzHV1IIArro8vcIOmwX5osVTKXR0V23mlUw4kxsg_tZJ6CPRAp6Qzupta8uvSLVvow_p4R28I35IXodEt1wXspVPec6ymDhoRv3anV7HQWEXRZGbFhGS9Is3d0pMc2KmVuj_w5jMaqlaW1ojc69ZfX5h1Lzag-mcD-j4tkWId0jWXV-fYZC0G1aGViEs7VC7lopPa_T6oPhc5AMS911DI0S75jo7mraZ3iOLED0HxjFPwFjjgzIEXkiHiR3x6ZnD3BIO6UmqQZjYsasQhGv1-Tte3KvIer1DC52ffsjX9kahowD2nZOdnpjXagt4LLRfZNRcFiKggBczAyuqKuMiKZ920XZGTk1v9KNt6GI6P97oj4J5Gbh3pW9YVDuyCA58yrw_bur3RNF8ZnKXtQBi4XG6kkaOyOkFsILRJnIpYtqtQ=w1940-h1206-s-no?authuser=0)\n",
    "\n",
    "Corrections: Incorrect. Using 5 bits will only allow for up to 32 sequences because 25=32."
   ]
  },
  {
   "attachments": {},
   "cell_type": "markdown",
   "metadata": {},
   "source": [
    "![](https://lh3.googleusercontent.com/pw/AMWts8CgUVwXW1nAzIt8mRZcS-ndiiQ1VTIQX0UpxDjzxSGKiZO9I6teqh60n66UTdeOqAPPEyHQnCudTU7CqKDMqqM4rDP2SVL46kT_6YegdtRlnkeOTOo_T-xcqcJkQ1I-w7vnxFpytfjRAF-EgJraK-yJ6kHgR29v_6PRvLUoYb1NzIGxGNxLVrl1fDYMEgs9vYRtoQojo162baZWmUhtfQ2wUOV89AfL4adouPY0W8hElV5rcmFCvVoaJOzf2rBY2WLWaK5Plz6pp7a73sJIo9K0fNPqE4XB2kL8vslR_jNHgN943TmCcV0jXDRqXYqujyQm3xnqVJW5FJSPALBcSIm1_b7qRvK9aFZcm0mFo8WB7bM0ytIoCRaig0wHIFmTdKkPOOyx3PqfsnrVt5Dhj4dS0wyvP0xJvR8DhdNRxXpuQN01AjMlVGpoVQ1dS6vKLjrXdRLdLniAOnAijnQRqpbG6WP_0VOJuPiikPYBfzX437WauGX-TRGWmsuKbnR1wylTWOkybCSCW0vxnxOzSr2Kt0MV72j2IYor0sw6hnHoJ492dfr4MwCvcK_ePfCEewP0nRxCOSYOqrQUMmh8J7Tm5O7bmUp62Xbon_ndgQiH--JddKBySWTsDDIJOGTMzS0ryiVw0kvJ1AK7HrO4NmrVk18pODS_zmerN4t6r-_FuM9N9HePgb_SLLcsoj2DEE6L4O8BGFirA5dAC7B3L01dAVg9kuJ_j-V-q-f8WHBw0FZKmSsW4F1axzuXIjIoEDAgb8qS3wRkK7yaY8kHNLA0Vg2Fq5ay5HY6jEhU-PlzDIdslrwr6T6l6vlC-S9KNumX9r6nZQJfnHYcLrEexV6l_Hfe8QZsaPXBH478QXaVig_V0RtKm4MZdDps1PdJ9qVUqTHqFTrt89JV7K15qvRAGA=w1940-h1060-s-no?authuser=0)\n",
    "\n",
    "Corrections: Incorrect. This information can be determined using the data collected, but not the way described in this option. One way to determine the method of payment that was used in the greatest number of transactions during the 7-day period is to sort the data by the method of payment as described. Instead of adding the number of items purchased for each type of payment, a count of each payment type needs to be computed. If the counts are stored in a new field, then the counts can be sorted to find the method of payment used in the greatest number of transactions."
   ]
  }
 ],
 "metadata": {
  "language_info": {
   "name": "python"
  },
  "orig_nbformat": 4
 },
 "nbformat": 4,
 "nbformat_minor": 2
}
