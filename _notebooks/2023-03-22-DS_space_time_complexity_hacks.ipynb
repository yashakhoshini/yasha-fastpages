{
 "cells": [
  {
   "attachments": {},
   "cell_type": "markdown",
   "metadata": {},
   "source": [
    "#  Data Structures Spact Time & Complexity Hacks\n",
    "> Observing the time complexity of different algorithms\n",
    "- toc: true\n",
    "- image: /images/python.png\n",
    "- categories: []\n",
    "- type: pbl\n",
    "- week: 27"
   ]
  },
  {
   "attachments": {},
   "cell_type": "markdown",
   "metadata": {},
   "source": [
    "# Hacks\n",
    "####  - Record your findings when testing the time elapsed of the different algorithms.\n",
    "\n",
    "_I noticed that my findings when testing the time elapsed of the different algorithms depended on the data inputed. For example we ran code that printed an image. The elapsed time depended on the size of the list._\n",
    "\n",
    "#### - Although we will go more in depth later, time complexity is a key concept that relates to the different sorting algorithms. Do some basic research on the different types of sorting algorithms and their time complexity.\n",
    "\n",
    "_I did some basic research and came to the conclusion that there are 8 mains sorting algortithms.Below are their their **names** and **descriptions**._\n",
    "\n",
    "1. `Bubble Sort`:\n",
    "\n",
    "2. `Selection Sort`\n",
    "\n",
    "3. `Insertion Sort`\n",
    "\n",
    "4. `Merge Sort`\n",
    "\n",
    "5. `Quick Sort`\n",
    "\n",
    "6. `Heap Sort`\n",
    "\n",
    "7. `Counting Sort`\n",
    "\n",
    "8. `Radix Sort`\n",
    "\n",
    "_All of the sorting algorithms mentioned earlier aim to arrange a collection of things in ascending or descending order. Each algorithm achieves this goal by following a set of rules and operations to change the process of inputing the data._\n",
    "\n",
    "#### - Why is time and space complexity important when choosing an algorithm?\n",
    "\n",
    "_Firstly I will define space and time complexity, they are measures of how much time and memory an algorithm needs to execute considering to the input size._\n",
    "\n",
    "_Time and space complexity is important when choosing an algorithm because it impacts the performance and efficieny of a algorithm and is necessary to calculating the time and memory an algorithm needs to execute._\n",
    "\n",
    "#### - Should you always use a constant time algorithm / Should you never use an exponential time algorithm? Explain? \n",
    "\n",
    "Whether to use a constant time algorithm or an exponential time algorithm varies depending on the specific requirements of the problem you are trying to solve.\n",
    "\n",
    "A constant time algorithm, which has a time complexity that does not depend on the input size, is generally considered more efficient than an exponential time algorithm. However, not all problems can be solved using constant time algorithms, and in some cases, an exponential time algorithm may be the only option.\n",
    "\n",
    "#### - What are some general patterns that you noticed to determine each algorithm's time and space complexity?\n",
    "\n",
    "A lot of them include the process of using O(n^2)\n",
    "\n",
    "I researched about O(n^2) and came to the conclusion that this equation is used to describe the time complexity of an algorithm."
   ]
  },
  {
   "attachments": {},
   "cell_type": "markdown",
   "metadata": {},
   "source": [
    "#### Example of constant time algorithm"
   ]
  },
  {
   "cell_type": "code",
   "execution_count": 1,
   "metadata": {},
   "outputs": [],
   "source": [
    "def get_first_element(lst):\n",
    "    return lst[0]"
   ]
  },
  {
   "attachments": {},
   "cell_type": "markdown",
   "metadata": {},
   "source": [
    "No matter how large the input list is, this function will always take the same amount of time to execute because it only performs a single operation (accessing the first element of the list using its index). Therefore, this algorithm has a time complexity of O(1), which means it runs in constant time."
   ]
  },
  {
   "cell_type": "code",
   "execution_count": null,
   "metadata": {},
   "outputs": [],
   "source": [
    "def count_subsets(lst):\n",
    "    if len(lst) == 0:\n",
    "        return 1\n",
    "    else:\n",
    "        item = lst[0]\n",
    "        rest = lst[1:]\n",
    "        count_rest = count_subsets(rest)\n",
    "        return count_rest + count_subsets(rest + [item])"
   ]
  },
  {
   "attachments": {},
   "cell_type": "markdown",
   "metadata": {},
   "source": [
    "This function takes a list as its input and counts the number of subsets of the list. It does this by recursively calling itself on two smaller sublists: one that excludes the first item of the original list, and one that includes the first item. The function combines the results of these two recursive calls to compute the total number of subsets."
   ]
  }
 ],
 "metadata": {
  "kernelspec": {
   "display_name": "base",
   "language": "python",
   "name": "python3"
  },
  "language_info": {
   "codemirror_mode": {
    "name": "ipython",
    "version": 3
   },
   "file_extension": ".py",
   "mimetype": "text/x-python",
   "name": "python",
   "nbconvert_exporter": "python",
   "pygments_lexer": "ipython3",
   "version": "3.9.12"
  },
  "orig_nbformat": 4
 },
 "nbformat": 4,
 "nbformat_minor": 2
}
