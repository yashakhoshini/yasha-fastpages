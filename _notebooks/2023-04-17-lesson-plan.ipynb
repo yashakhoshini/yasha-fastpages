{
 "cells": [
  {
   "attachments": {},
   "cell_type": "markdown",
   "metadata": {},
   "source": [
    "# Data Analysis with NumPy and Pandas:\n",
    "> My lesson plan outline for Data Analysis with NumPy and Pandas\n",
    "\n",
    "- toc: true \n",
    "- badges: true\n",
    "- comments: true\n",
    "- categories: [markdown, dumbtrade]"
   ]
  },
  {
   "attachments": {},
   "cell_type": "markdown",
   "metadata": {},
   "source": [
    "## Lesson Plan Overview:\n",
    "\n",
    "#### Job:\n",
    "\n",
    "- Example of analyzing data using both NumPy and Pandas libraries\n",
    "- Importing data into NumPy and Pandas Performing basic data analysis tasks such as mean, median, and standard deviation Visualization of data using Matplotlib library\n",
    "\n",
    "#### How I will complete this\n",
    "\n",
    "- Start by introducing the basics of data analysis and why it's important\n",
    "\n",
    "- Explain what NumPy and Pandas are and their roles in data analysis\n",
    "\n",
    "- Discuss the various methods of importing data into NumPy and Pandas\n",
    "\n",
    "- Teach the audience how to perform basic data analysis tasks such as mean, median, and standard deviation using both libraries\n",
    "\n",
    "- Demonstrate real-life examples of analyzing data using both NumPy and Pandas libraries\n",
    "\n",
    "- Give tips on how to develop efficient data analysis skills with NumPy and Pandas, including online resources for further learning\n",
    "Wrap up the lesson by summarizing the main points covered and encourage the audience to continue practicing their data analysis skills with NumPy and Pandas.\n",
    "\n",
    "#### What are NumPys & Pandas?\n",
    "\n",
    "#### Pandas\n",
    "\n",
    "- What is it: Pandas is like a virtual spreadsheet for data in Python. It is an open-source data manipulation and analysis library for Python that provides data structures for efficiently storing and manipulating labeled data\n",
    "\n",
    "- Why it's useful: Pandas makes it easy to manipulate, analyze, and visualize data in Python. It provides powerful tools for cleaning and transforming data, working with missing or inconsistent values, and merging or joining multiple datasets. This makes it useful for a wide range of data analysis tasks, from simple data exploration to advanced statistical modeling. Pandas also integrates with other data analysis and visualization libraries in Python, such as Matplotlib and Seaborn.\n",
    "\n",
    "#### NumPys\n",
    "\n",
    "- What is it: NumPy is like a calculator for big numbers in Python. It is a powerful scientific computing library for Python used for calculating mathmatical operations on arrays, this includes algebra.\n",
    "\n",
    "- Why it's useful: NumPy makes it easy to perform complex mathematical operations on large sets of data in Python. It allows for fast computation and manipulation of arrays."
   ]
  },
  {
   "attachments": {},
   "cell_type": "markdown",
   "metadata": {},
   "source": [
    "## Let's Take A Look At Some Examples:"
   ]
  },
  {
   "cell_type": "code",
   "execution_count": null,
   "metadata": {},
   "outputs": [],
   "source": [
    "import numpy as np\n",
    "\n",
    "# Create two arrays of random integers\n",
    "array1 = np.random.randint(1, 15, size=(4, 4))\n",
    "array2 = np.random.randint(1, 15, size=(4, 4))\n",
    "\n",
    "# Perform basic arithmetic operations\n",
    "sum = array1 + array2\n",
    "diff = array1 - array2\n",
    "product = array1 * array2\n",
    "quotient = array1 / array2\n",
    "\n",
    "# Print the arrays and their results\n",
    "print(\"Array 1:\\n\", array1)\n",
    "print(\"Array 2:\\n\", array2)\n",
    "\n",
    "# TODO: Have classmates print results of the operations"
   ]
  },
  {
   "cell_type": "code",
   "execution_count": 1,
   "metadata": {},
   "outputs": [
    {
     "name": "stdout",
     "output_type": "stream",
     "text": [
      "Array 1:\n",
      " [[10  8  8]\n",
      " [ 9 10  9]\n",
      " [ 4  9  9]]\n",
      "Array 2:\n",
      " [[ 8  2  1]\n",
      " [ 5  9  9]\n",
      " [10  5 10]]\n",
      "Sum of arrays:\n",
      " [[18 10  9]\n",
      " [14 19 18]\n",
      " [14 14 19]]\n",
      "Difference of arrays:\n",
      " [[ 2  6  7]\n",
      " [ 4  1  0]\n",
      " [-6  4 -1]]\n",
      "Product of arrays:\n",
      " [[80 16  8]\n",
      " [45 90 81]\n",
      " [40 45 90]]\n",
      "Quotient of arrays:\n",
      " [[1.25       4.         8.        ]\n",
      " [1.8        1.11111111 1.        ]\n",
      " [0.4        1.8        0.9       ]]\n"
     ]
    }
   ],
   "source": [
    "# Finished Code\n",
    "\n",
    "import numpy as np\n",
    "\n",
    "# Create two arrays of random integers\n",
    "array1 = np.random.randint(1, 11, size=(3, 3))\n",
    "array2 = np.random.randint(1, 11, size=(3, 3))\n",
    "\n",
    "# Perform basic arithmetic operations\n",
    "sum = array1 + array2\n",
    "diff = array1 - array2\n",
    "product = array1 * array2\n",
    "quotient = array1 / array2\n",
    "\n",
    "# Print the arrays and their results\n",
    "# /n creates a new line\n",
    "print(\"Array 1:\\n\", array1)\n",
    "print(\"Array 2:\\n\", array2)\n",
    "\n",
    "print(\"Sum of arrays:\\n\", sum)\n",
    "print(\"Difference of arrays:\\n\", diff)\n",
    "print(\"Product of arrays:\\n\", product)\n",
    "print(\"Quotient of arrays:\\n\", quotient)"
   ]
  }
 ],
 "metadata": {
  "kernelspec": {
   "display_name": "base",
   "language": "python",
   "name": "python3"
  },
  "language_info": {
   "codemirror_mode": {
    "name": "ipython",
    "version": 3
   },
   "file_extension": ".py",
   "mimetype": "text/x-python",
   "name": "python",
   "nbconvert_exporter": "python",
   "pygments_lexer": "ipython3",
   "version": "3.9.12"
  },
  "orig_nbformat": 4
 },
 "nbformat": 4,
 "nbformat_minor": 2
}
