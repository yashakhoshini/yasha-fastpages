{
 "cells": [
  {
   "attachments": {},
   "cell_type": "markdown",
   "metadata": {},
   "source": [
    "# Data Analysis with NumPy and Pandas:\n",
    "> My lesson plan outline for Data Analysis with NumPy and Pandas\n",
    "\n",
    "- toc: true \n",
    "- badges: true\n",
    "- comments: true\n",
    "- categories: [markdown, pandas, numpys, python]"
   ]
  },
  {
   "attachments": {},
   "cell_type": "markdown",
   "metadata": {},
   "source": [
    "## Lesson Plan Overview:\n",
    "\n",
    "#### Job:\n",
    "\n",
    "- Example of analyzing data using both NumPy and Pandas libraries\n",
    "- Importing data into NumPy and Pandas Performing basic data analysis tasks such as mean, median, and standard deviation Visualization of data using Matplotlib library\n",
    "\n",
    "#### How I will complete this\n",
    "\n",
    "- Start by introducing the basics of data analysis and why it's important\n",
    "\n",
    "- Explain what NumPy and Pandas are and their roles in data analysis\n",
    "\n",
    "- Discuss the various methods of importing data into NumPy and Pandas\n",
    "\n",
    "- Teach the audience how to perform basic data analysis tasks such as mean, median, and standard deviation using both libraries\n",
    "\n",
    "- Demonstrate real-life examples of analyzing data using both NumPy and Pandas libraries\n",
    "\n",
    "- Give tips on how to develop efficient data analysis skills with NumPy and Pandas, including online resources for further learning\n",
    "Wrap up the lesson by summarizing the main points covered and encourage the audience to continue practicing their data analysis skills with NumPy and Pandas.\n",
    "\n",
    "#### What are NumPys & Pandas?\n",
    "\n",
    "#### Pandas\n",
    "\n",
    "- What is it: Pandas is like a virtual spreadsheet for data in Python. It is an open-source data manipulation and analysis library for Python that provides data structures for efficiently storing and manipulating labeled data\n",
    "\n",
    "- Why it's useful: Pandas makes it easy to manipulate, analyze, and visualize data in Python. It provides powerful tools for cleaning and transforming data, working with missing or inconsistent values, and merging or joining multiple datasets. This makes it useful for a wide range of data analysis tasks, from simple data exploration to advanced statistical modeling. Pandas also integrates with other data analysis and visualization libraries in Python, such as Matplotlib and Seaborn.\n",
    "\n",
    "#### NumPys\n",
    "\n",
    "- What is it: NumPy is like a calculator for big numbers in Python. It is a powerful scientific computing library for Python used for calculating mathmatical operations on arrays, this includes algebra.\n",
    "\n",
    "- Why it's useful: NumPy makes it easy to perform complex mathematical operations on large sets of data in Python. It allows for fast computation and manipulation of arrays."
   ]
  },
  {
   "attachments": {},
   "cell_type": "markdown",
   "metadata": {},
   "source": [
    "## Let's Take A Look At Some Examples:"
   ]
  },
  {
   "cell_type": "code",
   "execution_count": 1,
   "metadata": {},
   "outputs": [
    {
     "name": "stdout",
     "output_type": "stream",
     "text": [
      "\n",
      "Stats for Jimmy Butler:\n",
      "    PPG  RPG   APG\n",
      "0  35.0  5.0  11.0\n"
     ]
    }
   ],
   "source": [
    "import pandas as pd\n",
    "\n",
    "# Load the CSV file into a Pandas DataFrame\n",
    "df = pd.read_csv('nba_player_stats.csv')\n",
    "\n",
    "# Filter the DataFrame to only include stats for a specific player (in this case, Jimmy Butler)\n",
    "player_name = 'Jimmy Butler'\n",
    "player_stats = df[df['NAME'] == player_name]\n",
    "\n",
    "# Display the stats for the player\n",
    "print(f\"\\nStats for {player_name}:\")\n",
    "print(player_stats[['PPG', 'RPG', 'APG']])\n"
   ]
  },
  {
   "attachments": {},
   "cell_type": "markdown",
   "metadata": {},
   "source": [
    "#### In this code segment below we use Pandas to read a CSV file containing NBA player statistics and store it in a DataFrame.\n",
    "\n",
    "#### The reason Pandas is useful in this scenario is because it provides various functionalities to filter, sort, and manipulate the NBA data efficiently. In this code, the DataFrame is filtered to only include the stats for the player you guys choose."
   ]
  },
  {
   "cell_type": "code",
   "execution_count": 25,
   "metadata": {},
   "outputs": [
    {
     "name": "stdout",
     "output_type": "stream",
     "text": [
      "\n",
      "Stats for LeBron James:\n",
      "     PPG   RPG  APG  P+R+A\n",
      "26  21.0  11.0  5.0   37.0\n"
     ]
    }
   ],
   "source": [
    "import pandas as pd\n",
    "\n",
    "df = pd.read_csv('nba_player_stats.csv')\n",
    "# Load CSV file into a Pandas DataFrame\n",
    "player_name = input(\"Enter player name: \")\n",
    "# Get player name input from user\n",
    "\n",
    "player_stats = df[df['NAME'] == player_name]\n",
    "# Filter the DataFrame to only include stats for the specified player\n",
    "if player_stats.empty:\n",
    "    print(\"No stats found for that player.\")\n",
    "else:\n",
    "# Check if the player exists in the DataFrame\n",
    "\n",
    "    print(f\"\\nStats for {player_name}:\")\n",
    "print(player_stats[['PPG', 'RPG', 'APG', 'P+R+A']])\n",
    "# Display the stats for the player inputted.\n"
   ]
  },
  {
   "cell_type": "code",
   "execution_count": null,
   "metadata": {},
   "outputs": [],
   "source": [
    "import pandas as pd\n",
    "\n",
    "(insert) = pd.read_csv('(name of csv).csv')\n",
    "(insert) = input(\"(insert): \")\n",
    "\n",
    "# FINISH THIS CODE WITH YOUR CSV !!!"
   ]
  }
 ],
 "metadata": {
  "kernelspec": {
   "display_name": "base",
   "language": "python",
   "name": "python3"
  },
  "language_info": {
   "codemirror_mode": {
    "name": "ipython",
    "version": 3
   },
   "file_extension": ".py",
   "mimetype": "text/x-python",
   "name": "python",
   "nbconvert_exporter": "python",
   "pygments_lexer": "ipython3",
   "version": "3.9.12"
  },
  "orig_nbformat": 4
 },
 "nbformat": 4,
 "nbformat_minor": 2
}
