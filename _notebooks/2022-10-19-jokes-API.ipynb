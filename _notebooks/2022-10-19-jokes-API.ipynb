{
 "cells": [
  {
   "cell_type": "markdown",
   "metadata": {},
   "source": [
    "# Mortenson API Jokes\n",
    "> Using an API to import jokes about coding and formatting it.\n",
    "\n",
    "- toc: true \n",
    "- badges: true\n",
    "- comments: true\n",
    "- categories: [python, API]"
   ]
  },
  {
   "cell_type": "code",
   "execution_count": 1,
   "metadata": {},
   "outputs": [
    {
     "name": "stdout",
     "output_type": "stream",
     "text": [
      "[{'boohoo': 143394, 'haha': 96503, 'id': 0, 'joke': 'If you give someone a program... you will frustrate them for a day; if you teach them how to program... you will frustrate them for a lifetime.'}, {'boohoo': 1221, 'haha': 6304, 'id': 1, 'joke': 'Q: Why did I divide sin by tan? A: Just cos.'}, {'boohoo': 713, 'haha': 492, 'id': 2, 'joke': 'UNIX is basically a simple operating system... but you have to be a genius to understand the simplicity.'}, {'boohoo': 423, 'haha': 444, 'id': 3, 'joke': 'Enter any 11-digit prime number to continue.'}, {'boohoo': 424, 'haha': 560, 'id': 4, 'joke': \"If at first you don't succeed; call it version 1.0.\"}, {'boohoo': 521, 'haha': 421, 'id': 5, 'joke': 'Java programmers are some of the most materialistic people I know, very object-oriented'}, {'boohoo': 421, 'haha': 502, 'id': 6, 'joke': 'The oldest computer can be traced back to Adam and Eve. It was an apple but with extremely limited memory. Just 1 byte. And then everything crashed.'}, {'boohoo': 423, 'haha': 423, 'id': 7, 'joke': 'Q: Why did Wi-Fi and the computer get married? A: Because they had a connection'}, {'boohoo': 114, 'haha': 121, 'id': 8, 'joke': 'Bill Gates teaches a kindergarten class to count to ten. 1, 2, 3, 3.1, 95, 98, ME, 2000, XP, Vista, 7, 8, 10.'}, {'boohoo': 120, 'haha': 142, 'id': 9, 'joke': 'Q: What’s a aliens favorite computer key? A: the space bar!'}, {'boohoo': 70, 'haha': 123, 'id': 10, 'joke': 'There are 10 types of people in the world: those who understand binary, and those who don’t.'}, {'boohoo': 423, 'haha': 73, 'id': 11, 'joke': \"If it wasn't for C, we’d all be programming in BASI and OBOL.\"}, {'boohoo': 421, 'haha': 420, 'id': 12, 'joke': 'Computers make very fast, very accurate mistakes.'}, {'boohoo': 420, 'haha': 71, 'id': 13, 'joke': 'Q: Why is it that programmers always confuse Halloween with Christmas? A: Because 31 OCT = 25 DEC.'}, {'boohoo': 420, 'haha': 420, 'id': 14, 'joke': 'Q: How many programmers does it take to change a light bulb? A: None. It’s a hardware problem.'}, {'boohoo': 420, 'haha': 1355, 'id': 15, 'joke': 'The programmer got stuck in the shower because the instructions on the shampoo bottle said: Lather, Rinse, Repeat.'}, {'boohoo': 421, 'haha': 427, 'id': 16, 'joke': 'Q: What is the biggest lie in the entire universe? A: I have read and agree to the Terms and Conditions.'}, {'boohoo': 3334, 'haha': 421, 'id': 17, 'joke': 'An SQL statement walks into a bar and sees two tables. It approaches, and asks may I join you?'}]\n"
     ]
    }
   ],
   "source": [
    "import requests\n",
    "\n",
    "# Allows you to get data from API\n",
    "\n",
    "url = \"https://flask.nighthawkcodingsociety.com/api/jokes/\"\n",
    "\n",
    "# Defines URL\n",
    "\n",
    "response = requests.get(url)\n",
    "\n",
    "# Acquires data\n",
    "\n",
    "print(response.json())\n",
    "\n",
    "# json = way of formatting data\n",
    "# print(response.json()) allows for the data to be printed"
   ]
  },
  {
   "cell_type": "code",
   "execution_count": 2,
   "metadata": {},
   "outputs": [
    {
     "name": "stdout",
     "output_type": "stream",
     "text": [
      "{'boohoo': 143394, 'haha': 103937, 'id': 0, 'joke': 'If you give someone a program... you will frustrate them for a day; if you teach them how to program... you will frustrate them for a lifetime.'}\n",
      "{'boohoo': 1221, 'haha': 6304, 'id': 1, 'joke': 'Q: Why did I divide sin by tan? A: Just cos.'}\n",
      "{'boohoo': 713, 'haha': 492, 'id': 2, 'joke': 'UNIX is basically a simple operating system... but you have to be a genius to understand the simplicity.'}\n",
      "{'boohoo': 423, 'haha': 444, 'id': 3, 'joke': 'Enter any 11-digit prime number to continue.'}\n",
      "{'boohoo': 424, 'haha': 560, 'id': 4, 'joke': \"If at first you don't succeed; call it version 1.0.\"}\n",
      "{'boohoo': 521, 'haha': 421, 'id': 5, 'joke': 'Java programmers are some of the most materialistic people I know, very object-oriented'}\n",
      "{'boohoo': 421, 'haha': 502, 'id': 6, 'joke': 'The oldest computer can be traced back to Adam and Eve. It was an apple but with extremely limited memory. Just 1 byte. And then everything crashed.'}\n",
      "{'boohoo': 423, 'haha': 423, 'id': 7, 'joke': 'Q: Why did Wi-Fi and the computer get married? A: Because they had a connection'}\n",
      "{'boohoo': 114, 'haha': 121, 'id': 8, 'joke': 'Bill Gates teaches a kindergarten class to count to ten. 1, 2, 3, 3.1, 95, 98, ME, 2000, XP, Vista, 7, 8, 10.'}\n",
      "{'boohoo': 120, 'haha': 142, 'id': 9, 'joke': 'Q: What’s a aliens favorite computer key? A: the space bar!'}\n",
      "{'boohoo': 70, 'haha': 123, 'id': 10, 'joke': 'There are 10 types of people in the world: those who understand binary, and those who don’t.'}\n",
      "{'boohoo': 423, 'haha': 73, 'id': 11, 'joke': \"If it wasn't for C, we’d all be programming in BASI and OBOL.\"}\n",
      "{'boohoo': 421, 'haha': 420, 'id': 12, 'joke': 'Computers make very fast, very accurate mistakes.'}\n",
      "{'boohoo': 420, 'haha': 71, 'id': 13, 'joke': 'Q: Why is it that programmers always confuse Halloween with Christmas? A: Because 31 OCT = 25 DEC.'}\n",
      "{'boohoo': 420, 'haha': 420, 'id': 14, 'joke': 'Q: How many programmers does it take to change a light bulb? A: None. It’s a hardware problem.'}\n",
      "{'boohoo': 420, 'haha': 1355, 'id': 15, 'joke': 'The programmer got stuck in the shower because the instructions on the shampoo bottle said: Lather, Rinse, Repeat.'}\n",
      "{'boohoo': 421, 'haha': 427, 'id': 16, 'joke': 'Q: What is the biggest lie in the entire universe? A: I have read and agree to the Terms and Conditions.'}\n",
      "{'boohoo': 3334, 'haha': 421, 'id': 17, 'joke': 'An SQL statement walks into a bar and sees two tables. It approaches, and asks may I join you?'}\n"
     ]
    }
   ],
   "source": [
    "import requests\n",
    "\n",
    "# Allows you to get data from API\n",
    "\n",
    "url = \"https://flask.nighthawkcodingsociety.com/api/jokes/\"\n",
    "\n",
    "# Defines URL\n",
    "\n",
    "response = requests.get(url)\n",
    "\n",
    "# Acquires data\n",
    "\n",
    "data = response.json()\n",
    "\n",
    "# Puts Jsonified data into a variable and formats it\n",
    "\n",
    "for entry in data:\n",
    "    print(entry)\n",
    "\n",
    "# Prints each joke"
   ]
  },
  {
   "cell_type": "code",
   "execution_count": 6,
   "metadata": {},
   "outputs": [
    {
     "name": "stdout",
     "output_type": "stream",
     "text": [
      "If you give someone a program... you will frustrate them for a day; if you teach them how to program... you will frustrate them for a lifetime. \n",
      " boohoo count: 143394 \n",
      " haha count: 115296\n",
      "Q: Why did I divide sin by tan? A: Just cos. \n",
      " boohoo count: 1221 \n",
      " haha count: 6304\n",
      "UNIX is basically a simple operating system... but you have to be a genius to understand the simplicity. \n",
      " boohoo count: 713 \n",
      " haha count: 492\n",
      "Enter any 11-digit prime number to continue. \n",
      " boohoo count: 423 \n",
      " haha count: 444\n",
      "If at first you don't succeed; call it version 1.0. \n",
      " boohoo count: 424 \n",
      " haha count: 560\n",
      "Java programmers are some of the most materialistic people I know, very object-oriented \n",
      " boohoo count: 521 \n",
      " haha count: 421\n",
      "The oldest computer can be traced back to Adam and Eve. It was an apple but with extremely limited memory. Just 1 byte. And then everything crashed. \n",
      " boohoo count: 421 \n",
      " haha count: 502\n",
      "Q: Why did Wi-Fi and the computer get married? A: Because they had a connection \n",
      " boohoo count: 423 \n",
      " haha count: 423\n",
      "Bill Gates teaches a kindergarten class to count to ten. 1, 2, 3, 3.1, 95, 98, ME, 2000, XP, Vista, 7, 8, 10. \n",
      " boohoo count: 114 \n",
      " haha count: 121\n",
      "Q: What’s a aliens favorite computer key? A: the space bar! \n",
      " boohoo count: 120 \n",
      " haha count: 142\n",
      "There are 10 types of people in the world: those who understand binary, and those who don’t. \n",
      " boohoo count: 70 \n",
      " haha count: 123\n",
      "If it wasn't for C, we’d all be programming in BASI and OBOL. \n",
      " boohoo count: 423 \n",
      " haha count: 73\n",
      "Computers make very fast, very accurate mistakes. \n",
      " boohoo count: 421 \n",
      " haha count: 420\n",
      "Q: Why is it that programmers always confuse Halloween with Christmas? A: Because 31 OCT = 25 DEC. \n",
      " boohoo count: 420 \n",
      " haha count: 71\n",
      "Q: How many programmers does it take to change a light bulb? A: None. It’s a hardware problem. \n",
      " boohoo count: 420 \n",
      " haha count: 420\n",
      "The programmer got stuck in the shower because the instructions on the shampoo bottle said: Lather, Rinse, Repeat. \n",
      " boohoo count: 420 \n",
      " haha count: 1355\n",
      "Q: What is the biggest lie in the entire universe? A: I have read and agree to the Terms and Conditions. \n",
      " boohoo count: 421 \n",
      " haha count: 427\n",
      "An SQL statement walks into a bar and sees two tables. It approaches, and asks may I join you? \n",
      " boohoo count: 3334 \n",
      " haha count: 421\n"
     ]
    }
   ],
   "source": [
    "import requests\n",
    "\n",
    "# Allows you to get data from API\n",
    "\n",
    "url = \"https://flask.nighthawkcodingsociety.com/api/jokes/\"\n",
    "\n",
    "# Defines URL\n",
    "\n",
    "response = requests.get(url)\n",
    "\n",
    "# Acquires data\n",
    "\n",
    "data = response.json()\n",
    "\n",
    "# Puts Jsonified data into a variable and formats it\n",
    "\n",
    "for entry in data:\n",
    "    print(f'{entry[\"joke\"]} \\n boohoo count: {entry[\"boohoo\"]} \\n haha count: {entry[\"haha\"]}')\n",
    "\n",
    "\n",
    "# For each joke, an \"entry\" has the joke in it\n",
    "# \\n puts it on a new line\n",
    "# I added an f string to format it better\n",
    "# Prints each joke"
   ]
  }
 ],
 "metadata": {
  "kernelspec": {
   "display_name": "Python 3.9.12 ('base')",
   "language": "python",
   "name": "python3"
  },
  "language_info": {
   "codemirror_mode": {
    "name": "ipython",
    "version": 3
   },
   "file_extension": ".py",
   "mimetype": "text/x-python",
   "name": "python",
   "nbconvert_exporter": "python",
   "pygments_lexer": "ipython3",
   "version": "3.9.12"
  },
  "orig_nbformat": 4,
  "vscode": {
   "interpreter": {
    "hash": "f4522448fa03726c480e11d9815ce2c412646a9816150097c8daa961a4b73c1a"
   }
  }
 },
 "nbformat": 4,
 "nbformat_minor": 2
}
