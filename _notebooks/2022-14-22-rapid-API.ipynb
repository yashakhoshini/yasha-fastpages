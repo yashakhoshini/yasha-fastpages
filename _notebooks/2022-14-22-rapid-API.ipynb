{
 "cells": [
  {
   "cell_type": "markdown",
   "metadata": {},
   "source": [
    "# Rapid API testing\n",
    "> APIs can be found all over the internet.  A great consolidator of many APIs is <mark>RapidAPI</mark>.  In this blog we will use a site to consolidates API stats.  Learning a few lines of code and you can start extracting lots of data from the internet via APIs.  \n",
    "- title: Python RapidAPI\n",
    "- toc: true\n",
    "- image: /images/rapidapi.png\n",
    "- permalink: /techtalk/rapidapi\n",
    "- categories: [1.A, 5.B, 5.D]\n",
    "- tags: [api, rapidapi]\n",
    "- type: pbl\n",
    "- week: 7"
   ]
  },
  {
   "cell_type": "markdown",
   "metadata": {},
   "source": [
    "### Python, RapidAPI Terms\n",
    "> APIs and tooling like Jupyter docs allows many opportunities in fields like Data Science.  As more and more developers use APIs, they build standards in how you setup a client, send requests and receive information..."
   ]
  },
  {
   "cell_type": "markdown",
   "metadata": {},
   "source": [
    "### Covid19 RapidAPI Example\n",
    "> To begin the API journey.  You need to find an API provider.  \n",
    "\n",
    "- RapidAPI is a great option.  You must setup and account, but there are many free options.\n",
    "- Goto this page for starters, the [Corona virus World and India data](https://rapidapi.com/spamakashrajtech/api/corona-virus-world-and-india-data/)\n",
    "- Under Code Snippets pick Python - Requests\n",
    "\n",
    "RapidAPI, you will select Python Requests type of code to work with you Notebook.\n",
    "- The url is the endpoint to which the API is directed\n",
    "- The headers is a dictionary data structure to send special messaging to the endpoint \n",
    "- The requests.request() python function is used to send a request and retrieve their responses\n",
    "- The response variable receives result of of the request in JSON text\n",
    "\n",
    "Next step, is to format the response according to your data science needs"
   ]
  },
  {
   "cell_type": "code",
   "execution_count": 1,
   "metadata": {},
   "outputs": [
    {
     "name": "stdout",
     "output_type": "stream",
     "text": [
      "World Totals\n",
      "total_cases 509,268,964\n",
      "new_cases 204,268\n",
      "total_deaths 6,242,509\n",
      "new_deaths 630\n",
      "total_recovered 461,827,849\n",
      "active_cases 41,198,606\n",
      "serious_critical 42,510\n",
      "total_cases_per_1m_population 65,334\n",
      "deaths_per_1m_population 800.9\n",
      "statistic_taken_at 2022-04-24 11:18:01\n",
      "\n",
      "Country Totals\n",
      "country_name USA\n",
      "cases 82,649,779\n",
      "deaths 1,018,316\n",
      "region \n",
      "total_recovered 80,434,925\n",
      "new_deaths 0\n",
      "new_cases 0\n",
      "serious_critical 1,465\n",
      "active_cases 1,196,538\n",
      "total_cases_per_1m_population 247,080\n",
      "deaths_per_1m_population 3,044\n",
      "total_tests 1,000,275,726\n",
      "tests_per_1m_population 2,990,303\n"
     ]
    }
   ],
   "source": [
    "\"\"\"\n",
    "Requests is a HTTP library for the Python programming language. \n",
    "The goal of the project is to make HTTP requests simpler and more human-friendly. \n",
    "\"\"\"\n",
    "import requests\n",
    "\n",
    "\"\"\"\n",
    "RapidAPI is the world's largest API Marketplace. \n",
    "Developers use Rapid API to discover and connect to thousands of APIs. \n",
    "\"\"\"\n",
    "url = \"https://corona-virus-world-and-india-data.p.rapidapi.com/api\"\n",
    "headers = {\n",
    "    'x-rapidapi-key': \"dec069b877msh0d9d0827664078cp1a18fajsn2afac35ae063\",\n",
    "    'x-rapidapi-host': \"corona-virus-world-and-india-data.p.rapidapi.com\"\n",
    "}\n",
    "\n",
    "# Request Covid Data\n",
    "response = requests.request(\"GET\", url, headers=headers)\n",
    "# print(response.text)  # uncomment this line to see raw data\n",
    "\n",
    "\n",
    "# print(response.json[])\n",
    "\n",
    "\n",
    "# This code looks for \"world data\"\n",
    "print(\"World Totals\")\n",
    "world = response.json().get('world_total')  # turn response to json() so we can extract \"world_total\"\n",
    "for key, value in world.items():  # this finds key, value pairs in country\n",
    "    print(key, value)\n",
    "\n",
    "print()\n",
    "\n",
    "# This code looks for USA in \"countries_stats\"\n",
    "print(\"Country Totals\")\n",
    "countries = response.json().get('countries_stat')\n",
    "for country in countries:  # countries is a list\n",
    "    if country[\"country_name\"] == \"USA\":  # this filters for USA\n",
    "        for key, value in country.items():  # this finds key, value pairs in country\n",
    "            print(key, value)\n"
   ]
  },
  {
   "cell_type": "code",
   "execution_count": 3,
   "metadata": {},
   "outputs": [
    {
     "name": "stdout",
     "output_type": "stream",
     "text": [
      "BTC Bitcoin 19203.20912786924\n",
      "ETH Ethereum 1302.535600928555\n",
      "USDT Tether USD 1.000094285368392\n",
      "USDC USDC 1.000477661148097\n",
      "BNB Binance Coin 270.00105525107205\n",
      "XRP XRP 0.4897314042127202\n",
      "BUSD Binance USD 1.0003009213568992\n",
      "ADA Cardano 0.3660624589069799\n",
      "SOL Solana 30.254407183042204\n",
      "DOGE Dogecoin 0.058748961413204105\n",
      "DOT Polkadot 6.069472359767447\n",
      "MATIC Polygon 0.7868259700408456\n",
      "DAI Dai 1.00045950757267\n",
      "SHIB Shiba Inu 0.000010120129500166\n",
      "TRX TRON 0.06362493936708112\n",
      "STETH Lido Staked Ether 1293.6357849687838\n",
      "WETH Wrapped Ether 1301.545746759449\n",
      "UNI Uniswap 6.269707849441305\n",
      "WBTC Wrapped BTC 19196.44969734286\n",
      "AVAX Avalanche 15.754553577525822\n",
      "OKB OKB 16.869579869774455\n",
      "CAKE PancakeSwap 4.40893962367892\n",
      "ATOM Cosmos 11.68714343028012\n",
      "LTC Litecoin 51.39089480432234\n",
      "FTT FTX Token 23.497306556423972\n",
      "ETC Ethereum Classic 23.42441136851592\n",
      "XMR Monero 141.11608602181957\n",
      "XLM Stellar 0.11285616690108048\n",
      "ALGO Algorand 0.3167857570029688\n",
      "BTCB Bitcoin BEP2 19212.187914427504\n",
      "CRO Cronos 0.10323077808698662\n",
      "BCH Bitcoin Cash 107.85469374357216\n",
      "ENS EnergySwap 19.353983535613075\n",
      "NEAR NEAR Protocol 2.998530943311797\n",
      "LUNC Terra Classic 0.000274653305505199\n",
      "WEMIX WEMIX TOKEN 1.7872039849010353\n",
      "QNT Quant 167.15447160866495\n",
      "HT Huobi Token 7.82935155981905\n",
      "FLOW Flow 1.4794075714098018\n",
      "VET VeChain 0.022835859415336612\n",
      "FIL Filecoin 5.0477849904337075\n",
      "HBAR Hedera 0.061313944522773646\n",
      "MANA Decentraland 0.6256132037754569\n",
      "FRAX Frax 0.9995757664627505\n",
      "ICP Internet Computer (DFINITY) 4.935016045950497\n",
      "EGLD Elrond 53.78654374759491\n",
      "IMX Immutable X 0.6308515794637338\n",
      "XTZ Tezos 1.3670560843838389\n",
      "SAND The Sandbox 0.7549307110020637\n",
      "CHZ Chiliz 0.18089587388302542\n"
     ]
    }
   ],
   "source": [
    "# Request Digital Coin\n",
    "# RapidAPI page https://rapidapi.com/Coinranking/api/coinranking1/\n",
    "\n",
    "# Begin Rapid API Code\n",
    "import requests\n",
    "\n",
    "url = \"https://coinranking1.p.rapidapi.com/coins\"\n",
    "querystring = {\"referenceCurrencyUuid\":\"yhjMzLPhuIDl\",\"timePeriod\":\"24h\",\"tiers[0]\":\"1\",\"orderBy\":\"marketCap\",\"orderDirection\":\"desc\",\"limit\":\"50\",\"offset\":\"0\"}\n",
    "headers = {\n",
    "\t\"X-RapidAPI-Key\": \"703210b827msh18ebf505c5fabaep1efeabjsn249dcd49ab14\",  # place your key here\n",
    "\t\"X-RapidAPI-Host\": \"coinranking1.p.rapidapi.com\"\n",
    "}\n",
    "\n",
    "response = requests.request(\"GET\", url, headers=headers, params=querystring)\n",
    "# End Rapid API Code\n",
    "json = response.json()  # convert response to python json object\n",
    "\n",
    "# Observe data from an API.  This is how data transports over the internet in a \"JSON\" text form\n",
    "# - The JSON \"text\" is formed in dictionary {} and list [] divisions\n",
    "# - To read the result, Data Scientist of  Developer converts JSON into human readable form\n",
    "# - Review the first line, look for the keys --  \"status\" and \"data\"\n",
    "\n",
    "for coin in json[\"data\"][\"coins\"]:\n",
    "\tprint (f'{coin[\"symbol\"]} {coin[\"name\"]} {coin[\"price\"]}')\n",
    "\n",
    "# organizing coins\n",
    "# Symbol, Name, and price"
   ]
  },
  {
   "cell_type": "markdown",
   "metadata": {},
   "source": [
    "### Digital Coin Example\n",
    "> This example provides digital coin feedback (ie Bitcoin).  It include popularity, price, symbols, etc.\n",
    "- A valid X-RapidAPI-Key is required.  Look in code for link to RapidAPI page\n",
    "- Read all comments in code for further guidance"
   ]
  },
  {
   "cell_type": "markdown",
   "metadata": {},
   "source": [
    "# Request Digital Coin\n",
    "# RapidAPI page https://rapidapi.com/Coinranking/api/coinranking1/\n",
    "\n",
    "# Begin Rapid API Code\n",
    "import requests\n",
    "\n",
    "url = \"https://coinranking1.p.rapidapi.com/coins\"\n",
    "querystring = {\"referenceCurrencyUuid\":\"yhjMzLPhuIDl\",\"timePeriod\":\"24h\",\"tiers[0]\":\"1\",\"orderBy\":\"marketCap\",\"orderDirection\":\"desc\",\"limit\":\"50\",\"offset\":\"0\"}\n",
    "headers = {\n",
    "\t\"X-RapidAPI-Key\": \"703210b827msh18ebf505c5fabaep1efeabjsn249dcd49ab14\",  # place your key here\n",
    "\t\"X-RapidAPI-Host\": \"coinranking1.p.rapidapi.com\"\n",
    "}\n",
    "\n",
    "response = requests.request(\"GET\", url, headers=headers, params=querystring)\n",
    "# End Rapid API Code\n",
    "json = response.json()  # convert response to python json object\n",
    "\n",
    "# Observe data from an API.  This is how data transports over the internet in a \"JSON\" text form\n",
    "# - The JSON \"text\" is formed in dictionary {} and list [] divisions\n",
    "# - To read the result, Data Scientist of  Developer converts JSON into human readable form\n",
    "# - Review the first line, look for the keys --  \"status\" and \"data\"\n",
    "\n",
    "for coin in json[\"data\"][\"coins\"]:\n",
    "\tprint (f'{coin[\"symbol\"]} {coin[\"name\"]} {coin[\"price\"]}')\n",
    "\n",
    "# organizing coins\n",
    "# Symbol, Name, and price"
   ]
  },
  {
   "cell_type": "markdown",
   "metadata": {},
   "source": [
    "### Formatting Digital Coin example\n",
    "> JSON text transferred from the API in the previous cell was converted to a Python Dictionary called json.  The \"coins\" in the dictionary contain a list of the most relevant data.   Look at the code and comments to see how the original text is turned into something understandable.   Additionally, there are error check to make sure we are starting the code with the expectation that the API was run correctly. "
   ]
  },
  {
   "cell_type": "code",
   "execution_count": 2,
   "metadata": {},
   "outputs": [
    {
     "name": "stdout",
     "output_type": "stream",
     "text": [
      "This cell is dependent on running API call in cell above!\n"
     ]
    }
   ],
   "source": [
    "\"\"\"\n",
    "This cell is dependent on valid run of API above.\n",
    "- try and except code is making sure \"json\" was properly run above\n",
    "- inside second try is code that is used to process Coin API data\n",
    "\n",
    "Note.  Run this cell repeatedly to format data without re-activating API\n",
    "\"\"\"\n",
    "\n",
    "try:\n",
    "    print(\"JSON data is Python type: \" + str(type(json)))\n",
    "    try:\n",
    "        # Extracting Coins JSON status, if the API worked\n",
    "        status = json.get('status')\n",
    "        print(\"API status: \" + status)\n",
    "        print()\n",
    "        \n",
    "        # Extracting Coins JSON data, data about the coins\n",
    "        data = json.get('data')\n",
    "        \n",
    "        # Procedural abstraction of Print code for coins\n",
    "        def print_coin(c):\n",
    "            print(c[\"symbol\"], c[\"price\"])\n",
    "            print(\"Icon Url: \" + c[\"iconUrl\"])\n",
    "            print(\"Rank Url: \" + c[\"coinrankingUrl\"])\n",
    "\n",
    "        # Coins data was observed to be a list\n",
    "        for coin in data['coins']:\n",
    "            print_coin(coin)\n",
    "            print()\n",
    "            \n",
    "    except:\n",
    "        print(\"Did you insert a valid key in X-RapidAPI-Key of API cell above?\")\n",
    "        print(json)\n",
    "except:\n",
    "    print(\"This cell is dependent on running API call in cell above!\")\n"
   ]
  },
  {
   "cell_type": "markdown",
   "metadata": {},
   "source": [
    "### Go deeper into APIs\n",
    "> Web Development vs Jupyter Notebook.  A notebook is certainly a great place to start.  But, for your end of Trimester project we want you to build the skill to reference and use APIs within your Project.  Here are some resources to get you started with this journey.\n",
    "\n",
    "- In the Nighthawk Coders APCSP you can find an Overview and Examples using APIs:  [APCSP APIs menu](https://nighthawkcoders.github.io/APCSP/api/overview)\n",
    "- Using Covid RapidAPI\n",
    "    - JavaScript frontend API code in APCSP Fastpages GitHub repo: [https://github.com/nighthawkcoders/APCSP/blob/master/_posts/2022-07-10-PBL-rapidapi.md](https://github.com/nighthawkcoders/APCSP/blob/master/_posts/2022-07-10-PBL-rapidapi.md)\n",
    "- Making a Jokes API (this will next API tech talk)\n",
    "    - Frontend. JavaScript frontend code in APCSP fastpages GitHub repo: [https://github.com/nighthawkcoders/APCSP/blob/master/_posts/2022-07-10-PBL-jokes.md](https://github.com/nighthawkcoders/APCSP/blob/master/_posts/2022-07-10-PBL-jokes.md)\n",
    "    - Backend Endpoints.  Python code that allows Frontend access: [https://github.com/nighthawkcoders/flask_portfolio/blob/main/api.py](https://github.com/nighthawkcoders/flask_portfolio/blob/main/api.py)\n",
    "    - Backend Jokes Management.  Python code that support Create, Read, Update, Delete (CRUD): [https://github.com/nighthawkcoders/flask_portfolio/blob/main/model_jokes.py](https://github.com/nighthawkcoders/flask_portfolio/blob/main/model_jokes.py)"
   ]
  }
 ],
 "metadata": {
  "kernelspec": {
   "display_name": "Python 3.9.12 ('base')",
   "language": "python",
   "name": "python3"
  },
  "language_info": {
   "codemirror_mode": {
    "name": "ipython",
    "version": 3
   },
   "file_extension": ".py",
   "mimetype": "text/x-python",
   "name": "python",
   "nbconvert_exporter": "python",
   "pygments_lexer": "ipython3",
   "version": "3.9.12"
  },
  "orig_nbformat": 4,
  "vscode": {
   "interpreter": {
    "hash": "f4522448fa03726c480e11d9815ce2c412646a9816150097c8daa961a4b73c1a"
   }
  }
 },
 "nbformat": 4,
 "nbformat_minor": 2
}
